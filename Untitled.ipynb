{
 "cells": [
  {
   "cell_type": "code",
   "execution_count": 4,
   "metadata": {
    "collapsed": false
   },
   "outputs": [
    {
     "name": "stdout",
     "output_type": "stream",
     "text": [
      "[ 0.          0.33679834  1.01039501  1.34719335  1.68399168  0.67359667\n",
      "  0.33679834  0.          0.33679834  0.67359667  0.33679834  3.36798337\n",
      "  0.67359667  0.67359667  5.05197505  0.33679834  0.33679834  0.        ]\n",
      "[ 0.131241    0.34599899  0.51303299  0.72779098  0.94254898  0.56075699\n",
      "  0.34599899  0.131241    0.083517    0.29827499  0.34599899  2.27882095\n",
      "  0.56075699  0.56075699  3.09012893  0.34599899  0.083517    0.131241  ]\n"
     ]
    }
   ],
   "source": [
    "from __future__ import division\n",
    "import numpy\n",
    "\n",
    "# Sample Dataset\n",
    "x = [10, 9, 13, 14, 15,8, 9, 10, 11, 12, 9, 0, 8, 8, 25,9,11,10]\n",
    "\n",
    "# Median absolute deviation\n",
    "def mad(data, axis=None):\n",
    "    return numpy.mean(numpy.abs(data - numpy.mean(data, axis)), axis)\n",
    "_mad = numpy.abs(x - numpy.median(x)) / mad(x)\n",
    "\n",
    "# Standard deviation\n",
    "_sd = numpy.abs(x - numpy.mean(x)) / numpy.std(x)\n",
    "\n",
    "print _mad\n",
    "print _sd"
   ]
  },
  {
   "cell_type": "code",
   "execution_count": null,
   "metadata": {
    "collapsed": true
   },
   "outputs": [],
   "source": []
  }
 ],
 "metadata": {
  "kernelspec": {
   "display_name": "Python 2",
   "language": "python",
   "name": "python2"
  },
  "language_info": {
   "codemirror_mode": {
    "name": "ipython",
    "version": 2
   },
   "file_extension": ".py",
   "mimetype": "text/x-python",
   "name": "python",
   "nbconvert_exporter": "python",
   "pygments_lexer": "ipython2",
   "version": "2.7.11"
  }
 },
 "nbformat": 4,
 "nbformat_minor": 0
}
