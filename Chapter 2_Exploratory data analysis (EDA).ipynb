{
 "cells": [
  {
   "cell_type": "markdown",
   "metadata": {},
   "source": [
    "## 4.2 Exploratory data analysis (EDA)\n",
    "\n",
    "In this activity, we apply EDA methods on two real datasets. The first one is fairly large dataset for city in Canada \"yellowknife_canada.osm\" and the other one for titanic dataset. We start with manual auditing of the data then use EDA methods for better exploration. "
   ]
  },
  {
   "cell_type": "markdown",
   "metadata": {},
   "source": [
    "### YellowKnife OSM data:"
   ]
  },
  {
   "cell_type": "code",
   "execution_count": 1,
   "metadata": {
    "collapsed": false
   },
   "outputs": [],
   "source": [
    "import xml.etree.ElementTree as ET\n",
    "from collections import defaultdict\n",
    "import re\n"
   ]
  },
  {
   "cell_type": "code",
   "execution_count": 2,
   "metadata": {
    "collapsed": false
   },
   "outputs": [],
   "source": [
    "street_type_re = re.compile(r'\\S+\\.?$', re.IGNORECASE) # to chop out words\n",
    "\n",
    "street_types = defaultdict(int) # to count street types\n",
    "\n",
    "street_names = [] \n",
    "\n",
    "def audit_data(street_types, street_name):\n",
    "    m = street_type_re.search(street_name)\n",
    "    if m:\n",
    "        street_type = m.group()\n",
    "        # if street_type not in expected:\n",
    "        # street_types[street_type].add(street_name)\n",
    "       \n",
    "        street_names.append(street_name)\n",
    "        street_types[street_type] += 1\n",
    "\n",
    "def print_info(d):\n",
    "    keys = d.keys()\n",
    "    keys = sorted(keys, key = lambda s: s.lower())\n",
    "    for k in keys:\n",
    "        v = d[k]\n",
    "        print (\"%s: %d\" % (k,v))\n",
    "        \n",
    "# look for street type addresses, street is the generic name for all (e.g. avenue, road, lane etc) \n",
    "def is_street_name(elem):\n",
    "    return (elem.tag == \"tag\") and (elem.attrib['k'] == \"addr:street\")\n"
   ]
  },
  {
   "cell_type": "code",
   "execution_count": 3,
   "metadata": {
    "collapsed": false,
    "scrolled": false
   },
   "outputs": [],
   "source": [
    "osm_file = open(\"yellowknife_canada.osm\", \"r\") \n",
    "\n",
    "streets = [] \n",
    "# parse the osm, list all the values that are of type street\n",
    "for event, elem in ET.iterparse(osm_file):\n",
    "        if is_street_name(elem):\n",
    "            audit_data(street_types,elem.attrib['v']) # \n",
    "            streets.append(elem.attrib['v']) "
   ]
  },
  {
   "cell_type": "code",
   "execution_count": 4,
   "metadata": {
    "collapsed": false
   },
   "outputs": [
    {
     "data": {
      "text/plain": [
       "1844"
      ]
     },
     "execution_count": 4,
     "metadata": {},
     "output_type": "execute_result"
    }
   ],
   "source": [
    "len(streets)"
   ]
  },
  {
   "cell_type": "code",
   "execution_count": 5,
   "metadata": {
    "collapsed": false
   },
   "outputs": [
    {
     "data": {
      "text/plain": [
       "['Beck Court',\n",
       " 'Magrum Crescent',\n",
       " 'Kam Lake Road',\n",
       " 'Forrest Drive',\n",
       " 'Butler Road',\n",
       " 'Williams Avenue',\n",
       " 'Matonabee Street',\n",
       " 'Veterans Memorial Drive',\n",
       " 'Kasteel Drive',\n",
       " 'Finlayson Drive North',\n",
       " 'Forrest Drive',\n",
       " 'Taylor Road',\n",
       " 'Banke Crescent',\n",
       " 'England Crescent',\n",
       " 'Williams Avenue',\n",
       " 'Albatross Court',\n",
       " 'Calder Crescent',\n",
       " 'Herriman Road',\n",
       " 'Sissons Court',\n",
       " 'Finlayson Drive',\n",
       " 'Borden Drive',\n",
       " 'Woolgar Avenue',\n",
       " 'Wong Court',\n",
       " '57 Street',\n",
       " 'Bristol Avenue',\n",
       " 'Range Lake Road',\n",
       " 'Magrum Crescent',\n",
       " 'Borden Drive',\n",
       " 'Magrum Crescent',\n",
       " 'Forrest Drive',\n",
       " 'Dagenais Drive',\n",
       " 'Forrest Park',\n",
       " 'Catalina Drive',\n",
       " 'Gitzel Street',\n",
       " 'Rivett Crescent',\n",
       " 'Woolgar Avenue',\n",
       " 'Jeske Crescent',\n",
       " 'Finlayson Drive',\n",
       " 'Range Lake Road',\n",
       " 'Jeske Crescent',\n",
       " 'Jason Court',\n",
       " '51A Avenue',\n",
       " 'Knutsen Court',\n",
       " 'Stevens Crescent',\n",
       " 'Kasteel Drive',\n",
       " 'Loutitt Street',\n",
       " 'Glowach Court',\n",
       " 'Jeske Crescent',\n",
       " 'Finlayson Drive North',\n",
       " 'Loutitt Street',\n",
       " 'Lanky Court',\n",
       " 'Range Lake Road',\n",
       " 'Finlayson Drive North',\n",
       " 'Jason Court',\n",
       " 'Franklin Avenue',\n",
       " 'Gwilliam Crescent',\n",
       " 'Kasteel Drive',\n",
       " 'Forrest Drive',\n",
       " 'Range Lake Road',\n",
       " 'Franklin Avenue',\n",
       " 'Vaydik Court',\n",
       " 'Brown Court',\n",
       " 'Magrum Crescent',\n",
       " 'Gold City Court',\n",
       " 'Ptarmigan Road',\n",
       " 'Magrum Crescent',\n",
       " 'Daniels Court',\n",
       " 'Forrest Drive',\n",
       " 'Kam Lake Road',\n",
       " 'Glick Court',\n",
       " 'Norseman Drive',\n",
       " 'Kasteel Drive',\n",
       " 'England Crescent',\n",
       " 'Woolgar Avenue',\n",
       " 'Albatross Court',\n",
       " 'Finlayson Drive',\n",
       " 'Bristol Avenue',\n",
       " 'Williams Avenue',\n",
       " 'Kasteel Drive',\n",
       " 'Bristol Avenue',\n",
       " '57 Street',\n",
       " 'Herriman Road',\n",
       " 'Forrest Park',\n",
       " 'Braathen Avenue',\n",
       " 'Catalina Drive',\n",
       " 'Horton Crescent',\n",
       " 'Range Lake Road',\n",
       " 'Kasteel Drive',\n",
       " 'Franklin Avenue',\n",
       " 'Daniels Court',\n",
       " 'Finlayson Drive',\n",
       " 'Franklin Avenue',\n",
       " 'Old Airport Road',\n",
       " 'Franklin Avenue',\n",
       " 'Borden Drive',\n",
       " 'Forrest Drive',\n",
       " 'Anson Drive',\n",
       " 'Albatross Court',\n",
       " 'Kam Lake Road',\n",
       " 'Butler Road',\n",
       " '50A Avenue',\n",
       " 'Range Lake Road',\n",
       " 'Cinnamon Court',\n",
       " 'Franklin Avenue',\n",
       " 'Knutsen Avenue',\n",
       " 'Rivett Crescent',\n",
       " 'Rivett Crescent',\n",
       " 'Borden Drive',\n",
       " 'Arden Avenue',\n",
       " 'Dickins Street',\n",
       " 'Lanky Court',\n",
       " 'Dagenais Drive',\n",
       " 'Magrum Crescent',\n",
       " 'Franklin Avenue',\n",
       " 'Cinnamon Court',\n",
       " 'Range Lake Road',\n",
       " 'Norseman Drive',\n",
       " 'Finlayson Drive North',\n",
       " 'Kasteel Drive',\n",
       " 'Williams Avenue',\n",
       " 'Bigelow Crescent',\n",
       " 'Forrest Drive',\n",
       " 'Avery Court',\n",
       " 'Byrne Road',\n",
       " 'Matonabee Street',\n",
       " 'Borden Drive',\n",
       " 'Borden Drive',\n",
       " 'Gitzel Street',\n",
       " 'Banke Crescent',\n",
       " 'Franklin Avenue',\n",
       " 'Old Airport Road',\n",
       " 'Matonabee Street',\n",
       " 'Kam Lake Road',\n",
       " 'Finlayson Drive',\n",
       " 'Finlayson Drive',\n",
       " 'Taylor Road',\n",
       " 'Magrum Crescent',\n",
       " 'Borden Drive',\n",
       " 'Demelt Crescent',\n",
       " 'Banke Crescent',\n",
       " '53 Street',\n",
       " 'Banke Crescent',\n",
       " 'Franklin Avenue',\n",
       " 'Franklin Avenue',\n",
       " 'Forrest Drive',\n",
       " 'Franklin Avenue',\n",
       " 'Anson Drive',\n",
       " 'Fairchild Crescent',\n",
       " 'Williams Avenue',\n",
       " 'Franklin Avenue',\n",
       " 'England Crescent',\n",
       " 'Finlayson Drive',\n",
       " 'Bartesko Court',\n",
       " 'Bellanca Avenue',\n",
       " 'Gwilliam Crescent',\n",
       " 'Lamoureux Road',\n",
       " 'Finlayson Drive North',\n",
       " 'Lanky Court',\n",
       " 'Demelt Crescent',\n",
       " 'Rivett Crescent',\n",
       " 'Stevens Crescent',\n",
       " 'Sissons Court',\n",
       " 'Borden Drive',\n",
       " 'Sissons Court',\n",
       " 'Jeske Crescent',\n",
       " 'Matonabee Street',\n",
       " 'Finlayson Drive North',\n",
       " 'Dagenais Drive',\n",
       " 'Kasteel Drive',\n",
       " 'Banke Crescent',\n",
       " 'Taylor Road',\n",
       " 'Butler Road',\n",
       " 'Borden Drive',\n",
       " '50A Avenue',\n",
       " 'Forrest Drive',\n",
       " 'Sissons Court',\n",
       " 'Kasteel Drive',\n",
       " 'Denison Court',\n",
       " 'Bristol Avenue',\n",
       " 'Jeske Crescent',\n",
       " 'Finlayson Drive',\n",
       " 'Majaesic Court',\n",
       " 'Lanky Court',\n",
       " '50A Avenue',\n",
       " 'Brintnell Street',\n",
       " 'Taylor Road',\n",
       " 'Williams Avenue',\n",
       " 'Bromley Drive',\n",
       " 'Finlayson Drive',\n",
       " 'Highway  4',\n",
       " 'Kasteel Drive',\n",
       " 'Kasteel Drive',\n",
       " 'Wilkinson Crescent',\n",
       " 'Range Lake Road',\n",
       " 'Finlayson Drive',\n",
       " 'Byrne Road',\n",
       " 'Wilkinson Crescent',\n",
       " 'Finlayson Drive North',\n",
       " 'Nuttall Court',\n",
       " 'Forrest Drive',\n",
       " 'Byrne Road',\n",
       " 'Johnson Crescent',\n",
       " 'Range Lake Road',\n",
       " 'Butler Road',\n",
       " 'Mandeville Drive',\n",
       " 'Vaydik Court',\n",
       " 'Bromley Drive',\n",
       " 'Range Lake Road',\n",
       " 'Banke Crescent',\n",
       " 'Old Airport Road',\n",
       " 'Franklin Avenue',\n",
       " 'Lanky Court',\n",
       " 'Bromley Drive',\n",
       " 'Franklin Avenue',\n",
       " 'Franklin Avenue',\n",
       " 'Gitzel Street',\n",
       " 'Albatross Court',\n",
       " 'Range Lake Road',\n",
       " 'Rivett Crescent',\n",
       " 'Stevens Crescent',\n",
       " 'Borden Drive',\n",
       " 'Finlayson Drive North',\n",
       " 'Lanky Court',\n",
       " 'Dagenais Drive',\n",
       " 'Franklin Avenue',\n",
       " 'Jeske Court',\n",
       " 'Williams Avenue',\n",
       " 'Finlayson Drive North',\n",
       " 'Finlayson Drive North',\n",
       " 'Range Lake Road',\n",
       " 'Lanky Court',\n",
       " 'Gold City Court',\n",
       " '51A Avenue',\n",
       " 'Williams Avenue',\n",
       " 'Knutsen Court',\n",
       " 'Forrest Drive',\n",
       " 'Taylor Road',\n",
       " 'Herriman Road',\n",
       " 'Herriman Road',\n",
       " 'Calder Crescent',\n",
       " 'Knutsen Avenue',\n",
       " 'Kasteel Drive',\n",
       " '51A Avenue',\n",
       " 'Range Lake Court',\n",
       " 'Fairchild Crescent',\n",
       " 'Borden Drive',\n",
       " 'Kasteel Drive',\n",
       " 'Bristol Avenue',\n",
       " 'Franklin Avenue',\n",
       " 'Anson Drive',\n",
       " 'Anson Drive',\n",
       " 'Horton Crescent',\n",
       " 'Franklin Avenue',\n",
       " 'Herriman Road',\n",
       " 'Veterans Memorial Drive',\n",
       " 'Arden Avenue',\n",
       " 'Brintnell Street',\n",
       " '52 Street',\n",
       " 'Sissons Court',\n",
       " 'Range Lake Road',\n",
       " 'Borden Drive',\n",
       " 'Dagenais Drive',\n",
       " 'Old Airport Road',\n",
       " 'Fairchild Crescent',\n",
       " 'Range Lake Court',\n",
       " 'Gitzel Street',\n",
       " 'Cinnamon Court',\n",
       " 'Piro Court',\n",
       " 'Bellanca Avenue',\n",
       " 'Range Lake Road',\n",
       " 'Anson Drive',\n",
       " 'Bristol Avenue',\n",
       " 'Magrum Crescent',\n",
       " 'Perkins Court',\n",
       " 'Williams Avenue',\n",
       " 'Bartesko Court',\n",
       " 'Herriman Road',\n",
       " 'Knutsen Avenue',\n",
       " 'Bristol Avenue',\n",
       " 'Loutitt Street',\n",
       " 'Lanky Court',\n",
       " 'Stevens Crescent',\n",
       " 'Avery Court',\n",
       " 'Jeske Crescent',\n",
       " 'Perkins Court',\n",
       " 'Perkins Court',\n",
       " 'Bristol Avenue',\n",
       " 'Bristol Avenue',\n",
       " 'Range Lake Road',\n",
       " 'Norseman Drive',\n",
       " 'Beck Court',\n",
       " 'Norseman Drive',\n",
       " 'Rivett Crescent',\n",
       " 'Franklin Avenue',\n",
       " 'Old Airport Road',\n",
       " 'Borden Drive',\n",
       " 'Gitzel Street',\n",
       " 'McMillan Street',\n",
       " 'Borden Drive',\n",
       " 'Finlayson Drive',\n",
       " 'Finlayson Drive North',\n",
       " 'Loutitt Street',\n",
       " 'Gitzel Street',\n",
       " 'Anson Drive',\n",
       " 'Range Lake Road',\n",
       " 'Franklin Avenue',\n",
       " 'Jason Court',\n",
       " 'Banke Crescent',\n",
       " 'Dusseault Court',\n",
       " 'Vaydik Court',\n",
       " 'Bigelow Crescent',\n",
       " 'Bromley Court',\n",
       " 'Franklin Avenue',\n",
       " 'Borden Drive',\n",
       " 'Norseman Drive',\n",
       " 'Foreman Court',\n",
       " 'Range Lake Road',\n",
       " 'Forrest Drive',\n",
       " 'Borden Drive',\n",
       " 'Heal Court',\n",
       " 'Franklin Avenue',\n",
       " 'Matonabee Street',\n",
       " 'Catalina Drive',\n",
       " 'Range Lake Road',\n",
       " 'Banke Crescent',\n",
       " 'Piro Court',\n",
       " 'Rivett Crescent',\n",
       " 'Forrest Drive',\n",
       " 'Cinnamon Court',\n",
       " 'Forrest Drive',\n",
       " 'Wilkinson Crescent',\n",
       " 'Norseman Drive',\n",
       " '51A Avenue',\n",
       " 'Forrest Park',\n",
       " 'Arden Avenue',\n",
       " 'Arden Avenue',\n",
       " 'Wilkinson Crescent',\n",
       " 'Bromley Drive',\n",
       " 'Herriman Road',\n",
       " 'Gitzel Street',\n",
       " 'Old Airport Road',\n",
       " 'Bellanca Avenue',\n",
       " 'Gwilliam Crescent',\n",
       " 'Franklin Avenue',\n",
       " 'Franklin Avenue',\n",
       " 'Wong Court',\n",
       " 'Range Lake Road',\n",
       " 'Horton Crescent',\n",
       " 'Finlayson Drive North',\n",
       " 'Borden Drive',\n",
       " 'Finlayson Drive',\n",
       " 'Magrum Crescent',\n",
       " 'Bigelow Crescent',\n",
       " 'Anson Drive',\n",
       " 'Byrne Road',\n",
       " 'Franklin Avenue',\n",
       " 'Gitzel Street',\n",
       " 'Kasteel Drive',\n",
       " '57 Street',\n",
       " 'Forrest Park',\n",
       " 'Stevens Crescent',\n",
       " 'Finlayson Drive',\n",
       " 'Finlayson Drive',\n",
       " 'Borden Drive',\n",
       " 'Borden Drive',\n",
       " 'Franklin Avenue',\n",
       " 'Gitzel Street',\n",
       " 'Wilkinson Crescent',\n",
       " 'Johnson Crescent',\n",
       " 'Bristol Court',\n",
       " 'Range Lake Road',\n",
       " 'Finlayson Drive North',\n",
       " 'Vaydik Court',\n",
       " 'Forrest Drive',\n",
       " 'Dickins Street',\n",
       " 'Herriman Road',\n",
       " '54 Street',\n",
       " 'Williams Avenue',\n",
       " '54 Street',\n",
       " 'Bromley Court',\n",
       " 'Jeske Court',\n",
       " 'Borden Drive',\n",
       " 'Magrum Crescent',\n",
       " 'Finlayson Drive',\n",
       " 'Arden Avenue',\n",
       " 'Finlayson Court',\n",
       " 'Mandeville Drive',\n",
       " 'Dickins Street',\n",
       " 'Dagenais Drive',\n",
       " 'Nuttall Court',\n",
       " 'Range Lake Road',\n",
       " 'Arden Avenue',\n",
       " 'Finlayson Drive',\n",
       " 'Jeske Crescent',\n",
       " 'Bristol Court',\n",
       " 'Dusseault Court',\n",
       " 'Bigelow Crescent',\n",
       " 'Old Airport Road',\n",
       " 'Franklin Avenue',\n",
       " 'Hordal Road',\n",
       " 'Horton Crescent',\n",
       " 'Dagenais Drive',\n",
       " 'Sissons Court',\n",
       " 'Albatross Court',\n",
       " 'Gitzel Street',\n",
       " '53 Street',\n",
       " 'Range Lake Road',\n",
       " 'Norseman Drive',\n",
       " 'Horton Crescent',\n",
       " 'Calder Crescent',\n",
       " 'Bromley Drive',\n",
       " 'Majaesic Court',\n",
       " 'Borden Drive',\n",
       " 'Hordal Road',\n",
       " 'Glowach Court',\n",
       " 'Magrum Crescent',\n",
       " 'Franklin Avenue',\n",
       " 'Fairchild Crescent',\n",
       " 'Sissons Court',\n",
       " 'Franklin Avenue',\n",
       " 'Finlayson Drive',\n",
       " 'Norseman Drive',\n",
       " 'Stevens Crescent',\n",
       " 'Veterans Memorial Drive',\n",
       " 'Phinney Court',\n",
       " 'Dagenais Drive',\n",
       " 'Range Lake Road',\n",
       " 'Loutitt Street',\n",
       " 'Kasteel Drive',\n",
       " 'Magrum Crescent',\n",
       " 'Tees Court',\n",
       " 'Foreman Court',\n",
       " 'Kam Lake Road',\n",
       " 'Tees Court',\n",
       " 'Banke Crescent',\n",
       " 'Glick Court',\n",
       " '51A Avenue',\n",
       " 'Bromley Drive',\n",
       " 'Finlayson Drive North',\n",
       " 'Bromley Court',\n",
       " 'Knutsen Avenue',\n",
       " 'Finlayson Drive North',\n",
       " '57 Street',\n",
       " 'Perkins Court',\n",
       " 'Forrest Park',\n",
       " 'Matonabee Street',\n",
       " 'Forrest Park',\n",
       " 'Finlayson Drive',\n",
       " 'Dagenais Drive',\n",
       " 'Franklin Avenue',\n",
       " 'Old Airport Road',\n",
       " 'Forrest Park',\n",
       " 'Banke Crescent',\n",
       " 'Franklin Avenue',\n",
       " 'Stinson Road',\n",
       " 'Gitzel Street',\n",
       " 'Gitzel Street',\n",
       " 'Finlayson Drive',\n",
       " 'Woolgar Avenue',\n",
       " 'Brown Court',\n",
       " 'Tees Court',\n",
       " 'Tees Court',\n",
       " 'Herriman Road',\n",
       " 'Range Lake Road',\n",
       " 'Franklin Avenue',\n",
       " 'Stevens Crescent',\n",
       " 'Lanky Court',\n",
       " 'Glowach Court',\n",
       " 'Franklin Avenue',\n",
       " 'Franklin Avenue',\n",
       " 'Finlayson Drive',\n",
       " 'Borden Drive',\n",
       " 'Veterans Memorial Drive',\n",
       " 'Williams Avenue',\n",
       " 'Range Lake Road',\n",
       " 'Norseman Drive',\n",
       " 'Rivett Crescent',\n",
       " 'Foreman Court',\n",
       " 'Forrest Drive',\n",
       " 'Dickins Street',\n",
       " 'Borden Drive',\n",
       " 'Brintnell Street',\n",
       " 'Dagenais Drive',\n",
       " 'Rivett Crescent',\n",
       " 'Finlayson Drive',\n",
       " 'Bigelow Crescent',\n",
       " 'Magrum Crescent',\n",
       " 'Anson Drive',\n",
       " 'Lanky Court',\n",
       " 'Herriman Road',\n",
       " 'Lanky Court',\n",
       " 'Dagenais Drive',\n",
       " 'Range Lake Road',\n",
       " 'Bromley Drive',\n",
       " 'Borden Drive',\n",
       " 'Franklin Avenue',\n",
       " 'Taylor Road',\n",
       " 'Taylor Road',\n",
       " 'Catalina Drive',\n",
       " 'Range Lake Road',\n",
       " 'Stinson Road',\n",
       " 'Old Airport Road',\n",
       " 'Finlayson Drive',\n",
       " 'Daniels Court',\n",
       " 'Daniels Court',\n",
       " 'Bristol Avenue',\n",
       " 'Bristol Court',\n",
       " 'Range Lake Road',\n",
       " 'Borden Drive',\n",
       " '53 Street',\n",
       " 'Butler Road',\n",
       " 'Matonabee Street',\n",
       " 'Banke Crescent',\n",
       " 'Butler Road',\n",
       " 'Franklin Avenue',\n",
       " 'Taylor Road',\n",
       " 'Bellanca Avenue',\n",
       " 'Finlayson Court',\n",
       " 'Dagenais Drive',\n",
       " 'Finlayson Drive North',\n",
       " 'Dickins Street',\n",
       " 'Range Lake Court',\n",
       " 'Johnson Crescent',\n",
       " 'Brintnell Street',\n",
       " 'Gold City Court',\n",
       " 'Magrum Crescent',\n",
       " 'Rivett Crescent',\n",
       " 'Range Lake Road',\n",
       " 'Finlayson Drive',\n",
       " 'Bigelow Crescent',\n",
       " 'Range Lake Court',\n",
       " 'Braathen Avenue',\n",
       " 'Finlayson Drive North',\n",
       " 'Franklin Avenue',\n",
       " 'Hordal Road',\n",
       " 'Herriman Road',\n",
       " 'Range Lake Road',\n",
       " 'Nuttall Court',\n",
       " '57 Street',\n",
       " 'Woolgar Avenue',\n",
       " 'Berry Street',\n",
       " 'Woolgar Avenue',\n",
       " 'Forrest Drive',\n",
       " 'Avery Court',\n",
       " 'Sissons Court',\n",
       " 'Majaesic Court',\n",
       " 'Herriman Road',\n",
       " 'Kasteel Drive',\n",
       " 'Loutitt Street',\n",
       " 'Sissons Court',\n",
       " 'Borden Drive',\n",
       " 'Demelt Crescent',\n",
       " 'Arden Avenue',\n",
       " 'Finlayson Drive North',\n",
       " 'Finlayson Drive',\n",
       " 'Borden Drive',\n",
       " 'Williams Avenue',\n",
       " 'Borden Drive',\n",
       " 'Heal Court',\n",
       " 'Rivett Crescent',\n",
       " 'Gold City Court',\n",
       " 'Norseman Drive',\n",
       " 'Stevens Crescent',\n",
       " 'Rivett Crescent',\n",
       " 'Forrest Drive',\n",
       " 'Forrest Drive',\n",
       " 'Stevens Crescent',\n",
       " 'Glick Court',\n",
       " 'Arden Avenue',\n",
       " 'Gold City Court',\n",
       " 'Burwash Drive',\n",
       " '52 Street',\n",
       " 'Old Airport Road',\n",
       " 'Herriman Road',\n",
       " 'Piro Court',\n",
       " 'Horton Crescent',\n",
       " 'Bristol Avenue',\n",
       " 'Forrest Drive',\n",
       " 'Norseman Drive',\n",
       " '51A Avenue',\n",
       " 'Herriman Road',\n",
       " 'Bigelow Crescent',\n",
       " 'Magrum Crescent',\n",
       " '52 Street',\n",
       " 'Williams Avenue',\n",
       " 'Taylor Road',\n",
       " 'Finlayson Drive',\n",
       " 'Finlayson Drive North',\n",
       " 'Old Airport Road',\n",
       " 'Taylor Road',\n",
       " 'Herriman Road',\n",
       " 'Demelt Crescent',\n",
       " 'Brown Court',\n",
       " '54 Street',\n",
       " 'Finlayson Drive North',\n",
       " 'Arden Avenue',\n",
       " 'Magrum Crescent',\n",
       " 'Finlayson Drive',\n",
       " 'Bromley Drive',\n",
       " 'Herriman Road',\n",
       " 'Range Lake Road',\n",
       " 'Old Airport Road',\n",
       " 'Berry Street',\n",
       " 'Herriman Road',\n",
       " 'Forrest Drive',\n",
       " '54 Street',\n",
       " 'Borden Drive',\n",
       " 'Franklin Avenue',\n",
       " 'Norseman Drive',\n",
       " 'Rivett Crescent',\n",
       " 'Highway  4',\n",
       " 'Rivett Crescent',\n",
       " 'Bristol Court',\n",
       " 'Piro Court',\n",
       " 'Ward Crescent',\n",
       " 'Rivett Crescent',\n",
       " 'Range Lake Road',\n",
       " 'Rivett Crescent',\n",
       " 'Wilkinson Crescent',\n",
       " 'Bristol Avenue',\n",
       " 'Norseman Drive',\n",
       " 'Magrum Crescent',\n",
       " 'Borden Drive',\n",
       " 'Denison Court',\n",
       " 'Dagenais Drive',\n",
       " 'Franklin Avenue',\n",
       " 'Albatross Court',\n",
       " 'Sissons Court',\n",
       " 'Range Lake Road',\n",
       " 'Bristol Avenue',\n",
       " 'Brown Court',\n",
       " 'Mandeville Drive',\n",
       " '50A Avenue',\n",
       " 'Dickins Street',\n",
       " 'Demelt Crescent',\n",
       " 'Norseman Drive',\n",
       " 'Dusseault Court',\n",
       " 'Old Airport Road',\n",
       " 'Matonabee Street',\n",
       " '51A Avenue',\n",
       " 'Bromley Drive',\n",
       " 'Rivett Crescent',\n",
       " 'Finlayson Drive North',\n",
       " 'Matonabee Street',\n",
       " 'Bigelow Crescent',\n",
       " 'Forrest Drive',\n",
       " 'Bromley Drive',\n",
       " 'England Crescent',\n",
       " 'Knutsen Court',\n",
       " 'Dickins Street',\n",
       " 'Williams Avenue',\n",
       " 'Foreman Court',\n",
       " 'Franklin Avenue',\n",
       " 'Magrum Crescent',\n",
       " 'Old Airport Road',\n",
       " 'Norseman Drive',\n",
       " 'Denison Court',\n",
       " 'Kam Lake Road',\n",
       " 'Finlayson Drive',\n",
       " '50A Avenue',\n",
       " 'Lanky Court',\n",
       " 'Jeske Court',\n",
       " 'Finlayson Court',\n",
       " 'Dickins Street',\n",
       " 'Borden Drive',\n",
       " 'Demelt Crescent',\n",
       " 'Gitzel Street',\n",
       " 'Finlayson Drive North',\n",
       " 'Forrest Drive',\n",
       " '57 Street',\n",
       " 'Dagenais Drive',\n",
       " 'Stevens Crescent',\n",
       " '51 Street',\n",
       " 'Bristol Avenue',\n",
       " 'Burwash Drive',\n",
       " 'Gwilliam Crescent',\n",
       " 'Berry Street',\n",
       " 'Range Lake Road',\n",
       " 'Finlayson Drive',\n",
       " 'Magrum Crescent',\n",
       " 'Lanky Court',\n",
       " 'Norseman Drive',\n",
       " 'Berry Street',\n",
       " 'Wong Court',\n",
       " 'Range Lake Road',\n",
       " 'Wilkinson Crescent',\n",
       " 'Forrest Park',\n",
       " 'Horton Crescent',\n",
       " 'Borden Drive',\n",
       " 'Veterans Memorial Drive',\n",
       " 'Bristol Avenue',\n",
       " 'Knutsen Court',\n",
       " 'Calder Crescent',\n",
       " 'Finlayson Drive',\n",
       " 'Kam Lake Road',\n",
       " 'Mandeville Drive',\n",
       " '53 Street',\n",
       " 'Hordal Road',\n",
       " 'Lanky Court',\n",
       " 'Gold City Court',\n",
       " 'Jeske Crescent',\n",
       " 'Dusseault Court',\n",
       " 'Byrne Road',\n",
       " 'Jeske Crescent',\n",
       " 'Lovell Court',\n",
       " '53 Street',\n",
       " 'Williams Avenue',\n",
       " '57 Street',\n",
       " 'Hordal Road',\n",
       " 'Gitzel Street',\n",
       " 'McMillan Street',\n",
       " 'Jason Court',\n",
       " 'Old Airport Road',\n",
       " 'Matonabee Street',\n",
       " 'Glick Court',\n",
       " 'Arden Avenue',\n",
       " 'Old Airport Road',\n",
       " 'Jeske Crescent',\n",
       " 'Lovell Court',\n",
       " 'Herriman Road',\n",
       " 'Mandeville Drive',\n",
       " 'Denison Court',\n",
       " 'Norseman Drive',\n",
       " 'Woolgar Avenue',\n",
       " 'Range Lake Road',\n",
       " '50A Avenue',\n",
       " 'Norseman Drive',\n",
       " 'Finlayson Drive North',\n",
       " 'Rivett Crescent',\n",
       " 'Lovell Court',\n",
       " 'Wong Court',\n",
       " 'Old Airport Road',\n",
       " 'Lanky Court',\n",
       " '51A Avenue',\n",
       " 'Norseman Drive',\n",
       " 'Forrest Drive',\n",
       " 'Range Lake Road',\n",
       " 'Catalina Drive',\n",
       " 'Horton Crescent',\n",
       " 'Kasteel Drive',\n",
       " 'Catalina Drive',\n",
       " 'Lovell Court',\n",
       " 'Magrum Crescent',\n",
       " 'Gitzel Street',\n",
       " 'Williams Avenue',\n",
       " '51A Avenue',\n",
       " 'Forrest Drive',\n",
       " 'Range Lake Road',\n",
       " 'Phinney Court',\n",
       " 'Arden Avenue',\n",
       " 'Jeske Court',\n",
       " 'Finlayson Drive North',\n",
       " 'Hordal Road',\n",
       " 'Loutitt Street',\n",
       " 'Lamoureux Road',\n",
       " 'Range Lake Road',\n",
       " 'Majaesic Court',\n",
       " 'Johnson Crescent',\n",
       " 'Range Lake Road',\n",
       " 'Franklin Avenue',\n",
       " 'Kasteel Drive',\n",
       " 'Finlayson Drive North',\n",
       " 'Finlayson Drive',\n",
       " 'Stevens Crescent',\n",
       " 'Finlayson Drive North',\n",
       " 'Lanky Court',\n",
       " 'Forrest Drive',\n",
       " 'Lanky Court',\n",
       " 'Demelt Crescent',\n",
       " 'Norseman Drive',\n",
       " 'Sissons Court',\n",
       " 'Forrest Drive',\n",
       " 'Dagenais Drive',\n",
       " 'Borden Drive',\n",
       " 'Lanky Court',\n",
       " 'Forrest Drive',\n",
       " 'Franklin Avenue',\n",
       " 'Fairchild Crescent',\n",
       " 'Gitzel Street',\n",
       " 'Taylor Road',\n",
       " 'Forrest Drive',\n",
       " 'Bristol Avenue',\n",
       " 'Dagenais Drive',\n",
       " 'Franklin Avenue',\n",
       " 'Kasteel Drive',\n",
       " 'Ward Crescent',\n",
       " 'Old Airport Road',\n",
       " '52 Street',\n",
       " 'Norseman Drive',\n",
       " 'Borden Drive',\n",
       " 'Bristol Avenue',\n",
       " 'Herriman Road',\n",
       " 'Magrum Crescent',\n",
       " 'Forrest Park',\n",
       " 'Kasteel Drive',\n",
       " 'Ptarmigan Road',\n",
       " 'Braathen Avenue',\n",
       " 'Mandeville Drive',\n",
       " 'McMillan Street',\n",
       " 'Borden Drive',\n",
       " 'Jeske Crescent',\n",
       " 'Herriman Road',\n",
       " 'Banke Crescent',\n",
       " 'Phinney Court',\n",
       " 'Horton Crescent',\n",
       " 'Finlayson Court',\n",
       " 'Bristol Avenue',\n",
       " 'Knutsen Court',\n",
       " 'Woolgar Avenue',\n",
       " 'Heal Court',\n",
       " 'Sissons Court',\n",
       " 'Old Airport Road',\n",
       " 'Taylor Road',\n",
       " 'Knutsen Court',\n",
       " 'Horton Crescent',\n",
       " '50A Avenue',\n",
       " 'Glowach Court',\n",
       " 'Norseman Drive',\n",
       " 'Demelt Crescent',\n",
       " 'Fairchild Crescent',\n",
       " 'Arden Avenue',\n",
       " 'Arden Avenue',\n",
       " 'Taylor Road',\n",
       " 'Range Lake Road',\n",
       " 'Magrum Crescent',\n",
       " 'McMillan Street',\n",
       " '57 Street',\n",
       " 'Ptarmigan Road',\n",
       " 'Franklin Avenue',\n",
       " 'Borden Drive',\n",
       " 'Matonabee Street',\n",
       " 'Finlayson Drive North',\n",
       " 'Mandeville Drive',\n",
       " 'Finlayson Drive North',\n",
       " 'Magrum Crescent',\n",
       " 'Franklin Avenue',\n",
       " '54 Street',\n",
       " 'Franklin Avenue',\n",
       " 'Forrest Park',\n",
       " 'Lanky Court',\n",
       " 'Finlayson Drive',\n",
       " 'Range Lake Road',\n",
       " 'Phinney Court',\n",
       " 'Stevens Crescent',\n",
       " '54 Street',\n",
       " 'Loutitt Street',\n",
       " 'Old Airport Road',\n",
       " 'Avery Court',\n",
       " 'Burwash Drive',\n",
       " 'Magrum Crescent',\n",
       " 'Taylor Road',\n",
       " 'Wilkinson Crescent',\n",
       " 'Horton Crescent',\n",
       " 'Finlayson Drive',\n",
       " 'Byrne Road',\n",
       " 'Range Lake Road',\n",
       " 'Bromley Court',\n",
       " 'Mandeville Drive',\n",
       " 'Matonabee Street',\n",
       " 'Braathen Avenue',\n",
       " '50A Avenue',\n",
       " 'Nuttall Court',\n",
       " 'Lanky Court',\n",
       " 'Jeske Crescent',\n",
       " 'Rivett Crescent',\n",
       " 'Rivett Crescent',\n",
       " 'Heal Court',\n",
       " 'Arden Avenue',\n",
       " 'Franklin Avenue (50th Avenue)',\n",
       " 'Taltheilei Drive',\n",
       " 'Nahanni Drive',\n",
       " 'Enterprise Drive',\n",
       " 'Melville Drive',\n",
       " 'Bourque Drive',\n",
       " 'Curry Drive',\n",
       " 'Taltheilei Drive',\n",
       " 'Bourque Drive',\n",
       " 'Enterprise Drive',\n",
       " 'Nahanni Drive',\n",
       " 'Utsingi Drive',\n",
       " 'Taltheilei Drive',\n",
       " 'Kam Lake Road',\n",
       " 'Enterprise Drive',\n",
       " 'Bagon Drive',\n",
       " 'Ellesmere Drive',\n",
       " 'Cameron Road',\n",
       " 'Bourque Drive',\n",
       " 'Bagon Drive',\n",
       " 'Melville Drive',\n",
       " 'Hordal Road',\n",
       " 'Enterprise Drive',\n",
       " 'Nahanni Drive',\n",
       " 'Bourque Drive',\n",
       " 'Enterprise Drive',\n",
       " 'Kam Lake Road',\n",
       " 'Taltheilei Drive',\n",
       " 'Hudson Avenue',\n",
       " 'Balsillie Court',\n",
       " 'Enterprise Drive',\n",
       " 'Kam Lake Road',\n",
       " 'Kam Lake Road',\n",
       " 'Ellesmere Drive',\n",
       " 'Curry Drive',\n",
       " 'Etthen Drive',\n",
       " 'Hordal Road',\n",
       " 'Kam Lake Road',\n",
       " 'Taltheilei Drive',\n",
       " 'Horton Crescent',\n",
       " 'Taltheilei Drive',\n",
       " 'Hudson Avenue',\n",
       " 'Hudson Avenue',\n",
       " 'Nahanni Drive',\n",
       " 'Taltheilei Drive',\n",
       " 'Kam Lake Road',\n",
       " 'Range Lake Road',\n",
       " 'Ellesmere Drive',\n",
       " 'Deh Cho Boulevard',\n",
       " 'Utsingi Drive',\n",
       " 'Utsingi Drive',\n",
       " 'Larocque Crescent',\n",
       " 'Bagon Drive',\n",
       " 'Curry Drive',\n",
       " 'Kam Lake Road',\n",
       " 'Horton Crescent',\n",
       " 'Cameron Road',\n",
       " 'Horton Crescent',\n",
       " 'Bourque Drive',\n",
       " 'Hordal Road',\n",
       " 'Cameron Road',\n",
       " 'Deh Cho Boulevard',\n",
       " 'Ellesmere Drive',\n",
       " 'Taltheilei Drive',\n",
       " 'Cameron Road',\n",
       " 'Cameron Road',\n",
       " 'Lamoureux Road',\n",
       " 'Cameron Road',\n",
       " 'Utsingi Drive',\n",
       " 'Kam Lake Road',\n",
       " 'Melville Drive',\n",
       " 'Kam Lake Road',\n",
       " 'Larocque Crescent',\n",
       " 'Melville Drive',\n",
       " 'Melville Drive',\n",
       " 'Hordal Road',\n",
       " 'Horton Crescent',\n",
       " 'Cameron Road',\n",
       " 'Balsillie Court',\n",
       " 'Curry Drive',\n",
       " 'Range Lake Road',\n",
       " 'Taltheilei Drive',\n",
       " 'Kam Lake Road',\n",
       " 'Etthen Drive',\n",
       " 'Bagon Drive',\n",
       " 'Bagon Drive',\n",
       " 'Cameron Road',\n",
       " 'Enterprise Drive',\n",
       " 'Etthen Drive',\n",
       " 'Drybones Drive',\n",
       " 'Taltheilei Drive',\n",
       " 'Kam Lake Road',\n",
       " 'Range Lake Road',\n",
       " 'Hordal Road',\n",
       " 'Deh Cho Boulevard',\n",
       " 'Bourque Drive',\n",
       " 'Curry Drive',\n",
       " 'Cameron Road',\n",
       " 'Kam Lake Road',\n",
       " 'Bourque Drive',\n",
       " 'Enterprise Drive',\n",
       " 'Hordal Road',\n",
       " 'Melville Drive',\n",
       " 'Hordal Road',\n",
       " 'Demelt Crescent',\n",
       " 'Bourque Drive',\n",
       " 'Taltheilei Drive',\n",
       " 'Kam Lake Road',\n",
       " 'Etthen Drive',\n",
       " 'Taltheilei Drive',\n",
       " 'Cameron Road',\n",
       " 'Kam Lake Road',\n",
       " 'Kam Lake Road',\n",
       " 'Utsingi Drive',\n",
       " 'Melville Drive',\n",
       " 'Hudson Avenue',\n",
       " 'Kam Lake Road',\n",
       " 'Cameron Road',\n",
       " 'Enterprise Drive',\n",
       " 'Cameron Road',\n",
       " 'Demelt Crescent',\n",
       " 'Utsingi Drive',\n",
       " 'Hudson Avenue',\n",
       " 'Kam Lake Road',\n",
       " 'Kam Lake Road',\n",
       " 'Taltheilei Drive',\n",
       " 'Horton Crescent',\n",
       " 'Melville Drive',\n",
       " 'Bourque Drive',\n",
       " 'Enterprise Drive',\n",
       " 'Horton Crescent',\n",
       " 'Enterprise Drive',\n",
       " ...]"
      ]
     },
     "execution_count": 5,
     "metadata": {},
     "output_type": "execute_result"
    }
   ],
   "source": [
    "streets"
   ]
  },
  {
   "cell_type": "code",
   "execution_count": 6,
   "metadata": {
    "collapsed": true
   },
   "outputs": [],
   "source": [
    "# Sort the list of streets\n",
    "streets.sort()"
   ]
  },
  {
   "cell_type": "code",
   "execution_count": 7,
   "metadata": {
    "collapsed": false
   },
   "outputs": [
    {
     "data": {
      "text/html": [
       "<div>\n",
       "<table border=\"1\" class=\"dataframe\">\n",
       "  <thead>\n",
       "    <tr style=\"text-align: right;\">\n",
       "      <th></th>\n",
       "      <th>0</th>\n",
       "    </tr>\n",
       "  </thead>\n",
       "  <tbody>\n",
       "    <tr>\n",
       "      <th>0</th>\n",
       "      <td>41 Street</td>\n",
       "    </tr>\n",
       "    <tr>\n",
       "      <th>1</th>\n",
       "      <td>41 Street</td>\n",
       "    </tr>\n",
       "    <tr>\n",
       "      <th>2</th>\n",
       "      <td>41 Street</td>\n",
       "    </tr>\n",
       "    <tr>\n",
       "      <th>3</th>\n",
       "      <td>41 Street</td>\n",
       "    </tr>\n",
       "    <tr>\n",
       "      <th>4</th>\n",
       "      <td>41 Street</td>\n",
       "    </tr>\n",
       "  </tbody>\n",
       "</table>\n",
       "</div>"
      ],
      "text/plain": [
       "           0\n",
       "0  41 Street\n",
       "1  41 Street\n",
       "2  41 Street\n",
       "3  41 Street\n",
       "4  41 Street"
      ]
     },
     "execution_count": 7,
     "metadata": {},
     "output_type": "execute_result"
    }
   ],
   "source": [
    "# group-by using DataFrame\n",
    "import pandas as pd\n",
    "\n",
    "df = pd.DataFrame(streets)\n",
    "\n",
    "df[0:5]"
   ]
  },
  {
   "cell_type": "code",
   "execution_count": 8,
   "metadata": {
    "collapsed": false
   },
   "outputs": [
    {
     "data": {
      "text/html": [
       "<div>\n",
       "<table border=\"1\" class=\"dataframe\">\n",
       "  <thead>\n",
       "    <tr style=\"text-align: right;\">\n",
       "      <th></th>\n",
       "    </tr>\n",
       "    <tr>\n",
       "      <th>0</th>\n",
       "    </tr>\n",
       "  </thead>\n",
       "  <tbody>\n",
       "    <tr>\n",
       "      <th>Wiley Road</th>\n",
       "    </tr>\n",
       "    <tr>\n",
       "      <th>Wilkinson Crescent</th>\n",
       "    </tr>\n",
       "    <tr>\n",
       "      <th>Williams Avenue</th>\n",
       "    </tr>\n",
       "    <tr>\n",
       "      <th>Wong Court</th>\n",
       "    </tr>\n",
       "    <tr>\n",
       "      <th>Woolgar Avenue</th>\n",
       "    </tr>\n",
       "  </tbody>\n",
       "</table>\n",
       "</div>"
      ],
      "text/plain": [
       "Empty DataFrame\n",
       "Columns: []\n",
       "Index: [Wiley Road, Wilkinson Crescent, Williams Avenue, Wong Court, Woolgar Avenue]"
      ]
     },
     "execution_count": 8,
     "metadata": {},
     "output_type": "execute_result"
    }
   ],
   "source": [
    "gdf = df.groupby([0]).count()\n",
    "gdf[-5:]"
   ]
  },
  {
   "cell_type": "code",
   "execution_count": 9,
   "metadata": {
    "collapsed": false
   },
   "outputs": [
    {
     "data": {
      "text/plain": [
       "178"
      ]
     },
     "execution_count": 9,
     "metadata": {},
     "output_type": "execute_result"
    }
   ],
   "source": [
    "len(gdf) "
   ]
  },
  {
   "cell_type": "code",
   "execution_count": 10,
   "metadata": {
    "collapsed": false
   },
   "outputs": [
    {
     "data": {
      "text/html": [
       "<div>\n",
       "<table border=\"1\" class=\"dataframe\">\n",
       "  <thead>\n",
       "    <tr style=\"text-align: right;\">\n",
       "      <th></th>\n",
       "    </tr>\n",
       "    <tr>\n",
       "      <th>0</th>\n",
       "    </tr>\n",
       "  </thead>\n",
       "  <tbody>\n",
       "    <tr>\n",
       "      <th>41 Street</th>\n",
       "    </tr>\n",
       "    <tr>\n",
       "      <th>41A Street</th>\n",
       "    </tr>\n",
       "    <tr>\n",
       "      <th>43 Street</th>\n",
       "    </tr>\n",
       "    <tr>\n",
       "      <th>44 Street</th>\n",
       "    </tr>\n",
       "    <tr>\n",
       "      <th>44th Street</th>\n",
       "    </tr>\n",
       "    <tr>\n",
       "      <th>45 Street</th>\n",
       "    </tr>\n",
       "    <tr>\n",
       "      <th>46 Street</th>\n",
       "    </tr>\n",
       "    <tr>\n",
       "      <th>47 Street</th>\n",
       "    </tr>\n",
       "    <tr>\n",
       "      <th>48 Street</th>\n",
       "    </tr>\n",
       "    <tr>\n",
       "      <th>48th Street</th>\n",
       "    </tr>\n",
       "    <tr>\n",
       "      <th>49 Avenue</th>\n",
       "    </tr>\n",
       "    <tr>\n",
       "      <th>49 Street</th>\n",
       "    </tr>\n",
       "    <tr>\n",
       "      <th>4915-48th Street</th>\n",
       "    </tr>\n",
       "    <tr>\n",
       "      <th>49A Avenue</th>\n",
       "    </tr>\n",
       "    <tr>\n",
       "      <th>49th Street</th>\n",
       "    </tr>\n",
       "    <tr>\n",
       "      <th>50 Street</th>\n",
       "    </tr>\n",
       "    <tr>\n",
       "      <th>50A Avenue</th>\n",
       "    </tr>\n",
       "    <tr>\n",
       "      <th>50th Ave</th>\n",
       "    </tr>\n",
       "    <tr>\n",
       "      <th>50th Street</th>\n",
       "    </tr>\n",
       "    <tr>\n",
       "      <th>51 Street</th>\n",
       "    </tr>\n",
       "    <tr>\n",
       "      <th>51A Avenue</th>\n",
       "    </tr>\n",
       "    <tr>\n",
       "      <th>51st Avenue</th>\n",
       "    </tr>\n",
       "    <tr>\n",
       "      <th>51st Street</th>\n",
       "    </tr>\n",
       "    <tr>\n",
       "      <th>52 Avenue</th>\n",
       "    </tr>\n",
       "    <tr>\n",
       "      <th>52 Street</th>\n",
       "    </tr>\n",
       "    <tr>\n",
       "      <th>52nd Avenue</th>\n",
       "    </tr>\n",
       "    <tr>\n",
       "      <th>52nd Street</th>\n",
       "    </tr>\n",
       "    <tr>\n",
       "      <th>53 Street</th>\n",
       "    </tr>\n",
       "    <tr>\n",
       "      <th>54 Avenue</th>\n",
       "    </tr>\n",
       "    <tr>\n",
       "      <th>54 Street</th>\n",
       "    </tr>\n",
       "    <tr>\n",
       "      <th>...</th>\n",
       "    </tr>\n",
       "    <tr>\n",
       "      <th>Primrose Lane</th>\n",
       "    </tr>\n",
       "    <tr>\n",
       "      <th>Ptarmigan Road</th>\n",
       "    </tr>\n",
       "    <tr>\n",
       "      <th>Raccine Road</th>\n",
       "    </tr>\n",
       "    <tr>\n",
       "      <th>Ragged Ass Road</th>\n",
       "    </tr>\n",
       "    <tr>\n",
       "      <th>Range Lake Court</th>\n",
       "    </tr>\n",
       "    <tr>\n",
       "      <th>Range Lake Road</th>\n",
       "    </tr>\n",
       "    <tr>\n",
       "      <th>Rivett Crescent</th>\n",
       "    </tr>\n",
       "    <tr>\n",
       "      <th>Rycon Drive</th>\n",
       "    </tr>\n",
       "    <tr>\n",
       "      <th>School Draw Avenue</th>\n",
       "    </tr>\n",
       "    <tr>\n",
       "      <th>She La</th>\n",
       "    </tr>\n",
       "    <tr>\n",
       "      <th>Sikyea Tili</th>\n",
       "    </tr>\n",
       "    <tr>\n",
       "      <th>Sissons Court</th>\n",
       "    </tr>\n",
       "    <tr>\n",
       "      <th>Stevens Crescent</th>\n",
       "    </tr>\n",
       "    <tr>\n",
       "      <th>Stinson Road</th>\n",
       "    </tr>\n",
       "    <tr>\n",
       "      <th>Tachee Tili</th>\n",
       "    </tr>\n",
       "    <tr>\n",
       "      <th>Taltheilei Drive</th>\n",
       "    </tr>\n",
       "    <tr>\n",
       "      <th>Taylor Road</th>\n",
       "    </tr>\n",
       "    <tr>\n",
       "      <th>Tees Court</th>\n",
       "    </tr>\n",
       "    <tr>\n",
       "      <th>Tililo Tili</th>\n",
       "    </tr>\n",
       "    <tr>\n",
       "      <th>Trails end Crescent</th>\n",
       "    </tr>\n",
       "    <tr>\n",
       "      <th>Turner Road</th>\n",
       "    </tr>\n",
       "    <tr>\n",
       "      <th>Utsingi Drive</th>\n",
       "    </tr>\n",
       "    <tr>\n",
       "      <th>Vaydik Court</th>\n",
       "    </tr>\n",
       "    <tr>\n",
       "      <th>Veterans Memorial Drive</th>\n",
       "    </tr>\n",
       "    <tr>\n",
       "      <th>Ward Crescent</th>\n",
       "    </tr>\n",
       "    <tr>\n",
       "      <th>Wiley Road</th>\n",
       "    </tr>\n",
       "    <tr>\n",
       "      <th>Wilkinson Crescent</th>\n",
       "    </tr>\n",
       "    <tr>\n",
       "      <th>Williams Avenue</th>\n",
       "    </tr>\n",
       "    <tr>\n",
       "      <th>Wong Court</th>\n",
       "    </tr>\n",
       "    <tr>\n",
       "      <th>Woolgar Avenue</th>\n",
       "    </tr>\n",
       "  </tbody>\n",
       "</table>\n",
       "<p>178 rows × 0 columns</p>\n",
       "</div>"
      ],
      "text/plain": [
       "Empty DataFrame\n",
       "Columns: []\n",
       "Index: [41 Street, 41A Street, 43 Street, 44 Street, 44th Street, 45 Street, 46 Street, 47 Street, 48 Street, 48th Street, 49 Avenue, 49 Street, 4915-48th Street, 49A Avenue, 49th Street, 50 Street, 50A Avenue, 50th Ave, 50th Street, 51 Street, 51A Avenue, 51st Avenue, 51st Street, 52 Avenue, 52 Street, 52nd Avenue, 52nd Street, 53 Street, 54 Avenue, 54 Street, 55 Street, 56 Street, 57 Street, Albatross Court, Anderson-Thomson Boulevard, Anson Drive, Arden Avenue, Avery Court, Bagon Drive, Ballantyne Court, Balsillie Court, Banke Crescent, Bartesko Court, Beck Court, Bellanca Avenue, Berry Street, Bigelow Crescent, Boffa Drive, Borden Drive, Bourque Drive, Braathen Avenue, Bretzlaff Drive, Brintnell Street, Bristol Avenue, Bristol Court, Brock Drive, Bromley Court, Bromley Drive, Brown Court, Bryson Drive, Burwash Drive, Butler Road, Byrne Road, Calder Crescent, Cameron Road, Catalina Drive, Cinnamon Court, Con Road, Curry Drive, Dagenais Drive, Daniels Court, Deh Cho Boulevard, Demelt Crescent, Denison Court, Dickins Street, Drybones Drive, Dusseault Court, Ellesmere Drive, England Crescent, Enterprise Drive, Erasmus Tili, Etthen Drive, Fairchild Crescent, Finlayson Court, Finlayson Drive, Finlayson Drive North, Foreman Court, Forrest Drive, Forrest Drive North, Forrest Park, Franklin Avenue, Franklin Avenue (50th Avenue), Gitzel Street, Glick Court, Glowach Court, Gold City Court, Gwilliam Crescent, Hamilton Drive, Harriets Lane, Heal Court, ...]\n",
       "\n",
       "[178 rows x 0 columns]"
      ]
     },
     "execution_count": 10,
     "metadata": {},
     "output_type": "execute_result"
    }
   ],
   "source": [
    "# 178... still too big to look at?\n",
    "gdf"
   ]
  },
  {
   "cell_type": "code",
   "execution_count": 11,
   "metadata": {
    "collapsed": false
   },
   "outputs": [
    {
     "data": {
      "text/plain": [
       "defaultdict(int,\n",
       "            {'4': 2,\n",
       "             'Ave': 1,\n",
       "             'Avenue': 358,\n",
       "             'Avenue)': 2,\n",
       "             'Boulevard': 14,\n",
       "             'Court': 162,\n",
       "             'Crescent': 164,\n",
       "             'Drive': 445,\n",
       "             'La': 4,\n",
       "             'Lane': 12,\n",
       "             'North': 30,\n",
       "             'Park': 10,\n",
       "             'Place': 4,\n",
       "             'Road': 260,\n",
       "             'Street': 318,\n",
       "             'Tili': 58})"
      ]
     },
     "execution_count": 11,
     "metadata": {},
     "output_type": "execute_result"
    }
   ],
   "source": [
    "# Here's a more managable view:\n",
    "street_types"
   ]
  },
  {
   "cell_type": "markdown",
   "metadata": {},
   "source": [
    "### Observations from data statistics:\n",
    "* One of the street types is '4'. What does it mean?\n",
    "* There are different forms of Avenue type: 'Ave', 'Avenue' and 'Avenue'\n",
    "* You also will notice that there is type   'La' and  'Lane' \n",
    "* What 'North' type mean?\n",
    "* What is a 'Tili'?\n",
    "\n",
    "Let's look into some of these using the stored street_names\n",
    "\n",
    "First, we look at '4'"
   ]
  },
  {
   "cell_type": "code",
   "execution_count": 12,
   "metadata": {
    "collapsed": false
   },
   "outputs": [
    {
     "name": "stdout",
     "output_type": "stream",
     "text": [
      "Highway  4\n",
      "54 Street\n",
      "54 Street\n",
      "54 Street\n",
      "54 Street\n",
      "Highway  4\n",
      "54 Street\n",
      "54 Street\n",
      "48 Street\n",
      "54 Street\n",
      "49 Avenue\n",
      "49 Avenue\n",
      "44 Street\n",
      "46 Street\n",
      "47 Street\n",
      "45 Street\n",
      "46 Street\n",
      "44 Street\n",
      "49 Street\n",
      "54 Street\n",
      "45 Street\n",
      "44 Street\n",
      "49A Avenue\n",
      "48 Street\n",
      "48 Street\n",
      "54 Street\n",
      "49 Street\n",
      "54 Street\n",
      "54 Street\n",
      "45 Street\n",
      "46 Street\n",
      "49 Avenue\n",
      "48 Street\n",
      "44 Street\n",
      "47 Street\n",
      "44 Street\n",
      "49 Street\n",
      "47 Street\n",
      "49 Avenue\n",
      "45 Street\n",
      "49 Avenue\n",
      "49 Street\n",
      "49 Avenue\n",
      "44 Street\n",
      "54 Street\n",
      "43 Street\n",
      "49 Street\n",
      "46 Street\n",
      "54 Avenue\n",
      "54 Avenue\n",
      "47 Street\n",
      "49A Avenue\n",
      "48 Street\n",
      "45 Street\n",
      "49A Avenue\n",
      "54 Street\n",
      "54 Street\n",
      "48 Street\n",
      "54 Avenue\n",
      "46 Street\n",
      "48 Street\n",
      "49A Avenue\n",
      "54 Avenue\n",
      "46 Street\n",
      "47 Street\n",
      "47 Street\n",
      "47 Street\n",
      "44 Street\n",
      "54 Street\n",
      "49 Street\n",
      "54 Street\n",
      "44 Street\n",
      "49 Avenue\n",
      "49 Street\n",
      "49 Street\n",
      "49 Street\n",
      "48 Street\n",
      "47 Street\n",
      "54 Street\n",
      "41 Street\n",
      "49A Avenue\n",
      "54 Street\n",
      "46 Street\n",
      "48 Street\n",
      "48 Street\n",
      "54 Street\n",
      "43 Street\n",
      "44 Street\n",
      "49 Avenue\n",
      "48 Street\n",
      "44 Street\n",
      "49 Avenue\n",
      "47 Street\n",
      "48 Street\n",
      "49A Avenue\n",
      "49 Street\n",
      "45 Street\n",
      "54 Street\n",
      "49 Street\n",
      "45 Street\n",
      "41 Street\n",
      "49 Street\n",
      "49 Avenue\n",
      "48 Street\n",
      "49 Avenue\n",
      "46 Street\n",
      "49 Avenue\n",
      "44 Street\n",
      "49 Street\n",
      "49 Avenue\n",
      "54 Street\n",
      "41A Street\n",
      "49 Street\n",
      "49 Avenue\n",
      "49 Street\n",
      "44 Street\n",
      "49 Street\n",
      "48 Street\n",
      "41 Street\n",
      "45 Street\n",
      "44 Street\n",
      "43 Street\n",
      "47 Street\n",
      "44 Street\n",
      "46 Street\n",
      "47 Street\n",
      "47 Street\n",
      "49 Avenue\n",
      "49 Avenue\n",
      "44 Street\n",
      "45 Street\n",
      "47 Street\n",
      "41 Street\n",
      "47 Street\n",
      "41 Street\n",
      "43 Street\n",
      "49A Avenue\n",
      "41A Street\n",
      "49 Street\n",
      "49 Street\n",
      "49 Avenue\n",
      "49 Street\n",
      "47 Street\n",
      "43 Street\n",
      "44 Street\n",
      "47 Street\n",
      "49A Avenue\n",
      "49 Avenue\n",
      "46 Street\n",
      "47 Street\n",
      "49 Street\n",
      "49 Street\n",
      "47 Street\n",
      "48 Street\n",
      "49 Avenue\n",
      "49 Street\n",
      "49 Street\n",
      "54 Avenue\n",
      "49 Avenue\n",
      "49 Street\n",
      "46 Street\n",
      "54 Street\n",
      "45 Street\n",
      "47 Street\n",
      "45 Street\n",
      "54 Avenue\n",
      "46 Street\n",
      "41 Street\n",
      "46 Street\n",
      "54 Street\n",
      "47 Street\n",
      "49 Avenue\n",
      "43 Street\n",
      "54 Street\n",
      "46 Street\n",
      "46 Street\n",
      "48 Street\n",
      "44 Street\n",
      "45 Street\n",
      "49 Avenue\n",
      "49 Avenue\n",
      "46 Street\n",
      "49 Avenue\n",
      "47 Street\n",
      "54 Avenue\n",
      "47 Street\n",
      "54 Avenue\n",
      "47 Street\n",
      "49 Avenue\n",
      "46 Street\n",
      "49 Avenue\n",
      "47 Street\n",
      "44 Street\n",
      "44th Street\n",
      "49 Street\n",
      "48th Street\n",
      "49th Street\n",
      "4915-48th Street\n",
      "49th Street\n",
      "48 Street\n",
      "48th Street\n",
      "46 Street\n"
     ]
    }
   ],
   "source": [
    "sub = '4'\n",
    "print (\"\\n\".join(s for s in street_names if sub in s)) # look through all the contents of street_names then look in each of those for sub"
   ]
  },
  {
   "cell_type": "code",
   "execution_count": 13,
   "metadata": {
    "collapsed": false
   },
   "outputs": [
    {
     "name": "stdout",
     "output_type": "stream",
     "text": [
      "Highway  4\n",
      "Highway  4\n"
     ]
    }
   ],
   "source": [
    "# there are a lot, try ' 4'\n",
    "sub = ' 4'\n",
    "print (\"\\n\".join(s for s in street_names if sub in s))"
   ]
  },
  {
   "cell_type": "markdown",
   "metadata": {},
   "source": [
    "So the problem is'Highway 4' doesn't fit into the pattern of name/type (e.g 'Queen Street'). Therefore, it should be treated as a special case. \n",
    "\n",
    "However, is this also applicable for Freeway, Motorway, Tollway, Expressway etc.?\n",
    "\n",
    "The second problem to fix is for 'Avenue' type. "
   ]
  },
  {
   "cell_type": "code",
   "execution_count": 14,
   "metadata": {
    "collapsed": false
   },
   "outputs": [
    {
     "name": "stdout",
     "output_type": "stream",
     "text": [
      "Franklin Avenue (50th Avenue)\n",
      "Franklin Avenue (50th Avenue)\n"
     ]
    }
   ],
   "source": [
    "sub = 'Avenue)'\n",
    "print (\"\\n\".join(s for s in street_names if sub in s))"
   ]
  },
  {
   "cell_type": "markdown",
   "metadata": {},
   "source": [
    "We notices another problem that the streets might have two names\n",
    "\n",
    "Define this search for reuse to find a specific string in a name/type etc. "
   ]
  },
  {
   "cell_type": "code",
   "execution_count": 15,
   "metadata": {
    "collapsed": false
   },
   "outputs": [],
   "source": [
    "def search(this, that): # look for this in that\n",
    "    print (\"\\n\".join(s for s in that if this in s))"
   ]
  },
  {
   "cell_type": "code",
   "execution_count": 16,
   "metadata": {
    "collapsed": false
   },
   "outputs": [
    {
     "name": "stdout",
     "output_type": "stream",
     "text": [
      "Highway  4\n",
      "Highway  4\n"
     ]
    }
   ],
   "source": [
    "search(' 4',street_names) # testing"
   ]
  },
  {
   "cell_type": "code",
   "execution_count": 17,
   "metadata": {
    "collapsed": false
   },
   "outputs": [
    {
     "name": "stdout",
     "output_type": "stream",
     "text": [
      "Finlayson Drive North\n",
      "Finlayson Drive North\n",
      "Finlayson Drive North\n",
      "Finlayson Drive North\n",
      "Finlayson Drive North\n",
      "Finlayson Drive North\n",
      "Finlayson Drive North\n",
      "Finlayson Drive North\n",
      "Finlayson Drive North\n",
      "Finlayson Drive North\n",
      "Finlayson Drive North\n",
      "Finlayson Drive North\n",
      "Finlayson Drive North\n",
      "Finlayson Drive North\n",
      "Finlayson Drive North\n",
      "Finlayson Drive North\n",
      "Finlayson Drive North\n",
      "Finlayson Drive North\n",
      "Finlayson Drive North\n",
      "Finlayson Drive North\n",
      "Finlayson Drive North\n",
      "Finlayson Drive North\n",
      "Finlayson Drive North\n",
      "Finlayson Drive North\n",
      "Finlayson Drive North\n",
      "Finlayson Drive North\n",
      "Finlayson Drive North\n",
      "Finlayson Drive North\n",
      "Forrest Drive North\n",
      "Forrest Drive North\n"
     ]
    }
   ],
   "source": [
    "search('North', street_names)"
   ]
  },
  {
   "cell_type": "markdown",
   "metadata": {},
   "source": [
    "Another special case? \n",
    "\n",
    "Is the type 'Drive'?\n",
    "\n",
    "Is there a Forrest Drive South?"
   ]
  },
  {
   "cell_type": "code",
   "execution_count": 18,
   "metadata": {
    "collapsed": false
   },
   "outputs": [
    {
     "name": "stdout",
     "output_type": "stream",
     "text": [
      "\n"
     ]
    }
   ],
   "source": [
    "search('South', street_names)\n"
   ]
  },
  {
   "cell_type": "markdown",
   "metadata": {},
   "source": [
    "The way we explore data so far is manual. Another efficient way of doing that is to explore data with EDA methods discussed in chapter 2 in this module. \n",
    "\n",
    "Thus, we use exploratory plotting to visualise data."
   ]
  },
  {
   "cell_type": "code",
   "execution_count": 19,
   "metadata": {
    "collapsed": false
   },
   "outputs": [
    {
     "data": {
      "text/plain": [
       "(array([ 0,  1,  2,  3,  4,  5,  6,  7,  8,  9, 10, 11, 12, 13, 14, 15]),\n",
       " [2, 12, 14, 162, 4, 10, 445, 4, 318, 58, 164, 1, 30, 358, 260, 2])"
      ]
     },
     "execution_count": 19,
     "metadata": {},
     "output_type": "execute_result"
    }
   ],
   "source": [
    "import matplotlib.pyplot as plt\n",
    "import numpy as np\n",
    "\n",
    "x = np.arange(len(street_types))\n",
    "y = street_types.values()\n",
    "\n",
    "x,y"
   ]
  },
  {
   "cell_type": "code",
   "execution_count": 20,
   "metadata": {
    "collapsed": false
   },
   "outputs": [],
   "source": [
    "%matplotlib inline"
   ]
  },
  {
   "cell_type": "code",
   "execution_count": 21,
   "metadata": {
    "collapsed": false
   },
   "outputs": [
    {
     "data": {
      "image/png": "[encoded data removed]",
      "text/plain": [
       "<matplotlib.figure.Figure at 0x11d879c50>"
      ]
     },
     "metadata": {},
     "output_type": "display_data"
    }
   ],
   "source": [
    "plt.bar(x, y)\n",
    "\n",
    "keys = list(street_types)\n",
    "\n",
    "plt.xticks(x + .5, keys, rotation='vertical') # flip so we can read\n",
    "\n",
    "plt.show()"
   ]
  },
  {
   "cell_type": "markdown",
   "metadata": {},
   "source": [
    "And we can see the same problems in the one 'graphical summary'\n",
    "* '4'!?\n",
    "* 'Ave' and 'Avenue' and 'Avenue)'\n",
    "* 'La' vs 'Lane'\n",
    "* 'North'?\n",
    "* What is a 'tili'?\n",
    "\n",
    "#### So what are the pros & cons of the various ways to explore data?\n",
    "(and with more numerical data you can/should use basic stats, e.g. mean, max, min etc.)\n",
    "\n",
    "\n",
    "\n",
    "## A snapshot of Yellowknife.osm in a GIS system:\n",
    "\n",
    "<img src= \"yellowknife.png\" >\n"
   ]
  },
  {
   "cell_type": "markdown",
   "metadata": {
    "collapsed": true
   },
   "source": [
    "In this file, we only interested in  looking at the node and way tags, then the 'tag' then the 'street:addr' change: \n",
    "\n",
    "elem.attrib['k'] == \"addr:street\"\n",
    "\n",
    "Another way to process this is using the if street_type not in expected: except do it on higher level tags. \n",
    "\n"
   ]
  },
  {
   "cell_type": "markdown",
   "metadata": {
    "collapsed": true
   },
   "source": [
    "### Titanic data:\n",
    "We use another dataset which has a mix of numerical & categorical data: Titanic "
   ]
  },
  {
   "cell_type": "code",
   "execution_count": 22,
   "metadata": {
    "collapsed": false
   },
   "outputs": [],
   "source": [
    "import pandas as pd\n",
    "import numpy as np\n",
    "\n",
    "df1 = pd.read_csv('titanic passenger list.csv') \n",
    "# Reading the dataset in a dataframe using Pandas"
   ]
  },
  {
   "cell_type": "code",
   "execution_count": 23,
   "metadata": {
    "collapsed": false
   },
   "outputs": [
    {
     "data": {
      "text/plain": [
       "1309"
      ]
     },
     "execution_count": 23,
     "metadata": {},
     "output_type": "execute_result"
    }
   ],
   "source": [
    "len(df1) # how many records?"
   ]
  },
  {
   "cell_type": "code",
   "execution_count": 24,
   "metadata": {
    "collapsed": false
   },
   "outputs": [
    {
     "data": {
      "text/html": [
       "<div>\n",
       "<table border=\"1\" class=\"dataframe\">\n",
       "  <thead>\n",
       "    <tr style=\"text-align: right;\">\n",
       "      <th></th>\n",
       "      <th>pclass</th>\n",
       "      <th>survived</th>\n",
       "      <th>name</th>\n",
       "      <th>sex</th>\n",
       "      <th>age</th>\n",
       "      <th>sibsp</th>\n",
       "      <th>parch</th>\n",
       "      <th>ticket</th>\n",
       "      <th>fare</th>\n",
       "      <th>cabin</th>\n",
       "      <th>embarked</th>\n",
       "      <th>boat</th>\n",
       "      <th>body</th>\n",
       "      <th>home.dest</th>\n",
       "    </tr>\n",
       "  </thead>\n",
       "  <tbody>\n",
       "    <tr>\n",
       "      <th>0</th>\n",
       "      <td>1</td>\n",
       "      <td>1</td>\n",
       "      <td>Allen, Miss. Elisabeth Walton</td>\n",
       "      <td>female</td>\n",
       "      <td>29.00</td>\n",
       "      <td>0</td>\n",
       "      <td>0</td>\n",
       "      <td>24160</td>\n",
       "      <td>211.3375</td>\n",
       "      <td>B5</td>\n",
       "      <td>S</td>\n",
       "      <td>2</td>\n",
       "      <td>NaN</td>\n",
       "      <td>St Louis, MO</td>\n",
       "    </tr>\n",
       "    <tr>\n",
       "      <th>1</th>\n",
       "      <td>1</td>\n",
       "      <td>1</td>\n",
       "      <td>Allison, Master. Hudson Trevor</td>\n",
       "      <td>male</td>\n",
       "      <td>0.92</td>\n",
       "      <td>1</td>\n",
       "      <td>2</td>\n",
       "      <td>113781</td>\n",
       "      <td>151.5500</td>\n",
       "      <td>C22 C26</td>\n",
       "      <td>S</td>\n",
       "      <td>11</td>\n",
       "      <td>NaN</td>\n",
       "      <td>Montreal, PQ / Chesterville, ON</td>\n",
       "    </tr>\n",
       "    <tr>\n",
       "      <th>2</th>\n",
       "      <td>1</td>\n",
       "      <td>0</td>\n",
       "      <td>Allison, Miss. Helen Loraine</td>\n",
       "      <td>female</td>\n",
       "      <td>2.00</td>\n",
       "      <td>1</td>\n",
       "      <td>2</td>\n",
       "      <td>113781</td>\n",
       "      <td>151.5500</td>\n",
       "      <td>C22 C26</td>\n",
       "      <td>S</td>\n",
       "      <td>NaN</td>\n",
       "      <td>NaN</td>\n",
       "      <td>Montreal, PQ / Chesterville, ON</td>\n",
       "    </tr>\n",
       "    <tr>\n",
       "      <th>3</th>\n",
       "      <td>1</td>\n",
       "      <td>0</td>\n",
       "      <td>Allison, Mr. Hudson Joshua Creighton</td>\n",
       "      <td>male</td>\n",
       "      <td>30.00</td>\n",
       "      <td>1</td>\n",
       "      <td>2</td>\n",
       "      <td>113781</td>\n",
       "      <td>151.5500</td>\n",
       "      <td>C22 C26</td>\n",
       "      <td>S</td>\n",
       "      <td>NaN</td>\n",
       "      <td>135.0</td>\n",
       "      <td>Montreal, PQ / Chesterville, ON</td>\n",
       "    </tr>\n",
       "    <tr>\n",
       "      <th>4</th>\n",
       "      <td>1</td>\n",
       "      <td>0</td>\n",
       "      <td>Allison, Mrs. Hudson J C (Bessie Waldo Daniels)</td>\n",
       "      <td>female</td>\n",
       "      <td>25.00</td>\n",
       "      <td>1</td>\n",
       "      <td>2</td>\n",
       "      <td>113781</td>\n",
       "      <td>151.5500</td>\n",
       "      <td>C22 C26</td>\n",
       "      <td>S</td>\n",
       "      <td>NaN</td>\n",
       "      <td>NaN</td>\n",
       "      <td>Montreal, PQ / Chesterville, ON</td>\n",
       "    </tr>\n",
       "  </tbody>\n",
       "</table>\n",
       "</div>"
      ],
      "text/plain": [
       "   pclass  survived                                             name     sex  \\\n",
       "0       1         1                    Allen, Miss. Elisabeth Walton  female   \n",
       "1       1         1                   Allison, Master. Hudson Trevor    male   \n",
       "2       1         0                     Allison, Miss. Helen Loraine  female   \n",
       "3       1         0             Allison, Mr. Hudson Joshua Creighton    male   \n",
       "4       1         0  Allison, Mrs. Hudson J C (Bessie Waldo Daniels)  female   \n",
       "\n",
       "     age  sibsp  parch  ticket      fare    cabin embarked boat   body  \\\n",
       "0  29.00      0      0   24160  211.3375       B5        S    2    NaN   \n",
       "1   0.92      1      2  113781  151.5500  C22 C26        S   11    NaN   \n",
       "2   2.00      1      2  113781  151.5500  C22 C26        S  NaN    NaN   \n",
       "3  30.00      1      2  113781  151.5500  C22 C26        S  NaN  135.0   \n",
       "4  25.00      1      2  113781  151.5500  C22 C26        S  NaN    NaN   \n",
       "\n",
       "                         home.dest  \n",
       "0                     St Louis, MO  \n",
       "1  Montreal, PQ / Chesterville, ON  \n",
       "2  Montreal, PQ / Chesterville, ON  \n",
       "3  Montreal, PQ / Chesterville, ON  \n",
       "4  Montreal, PQ / Chesterville, ON  "
      ]
     },
     "execution_count": 24,
     "metadata": {},
     "output_type": "execute_result"
    }
   ],
   "source": [
    "df1.head()"
   ]
  },
  {
   "cell_type": "markdown",
   "metadata": {},
   "source": [
    "The data is sorted by class then name...\n",
    "\n",
    "#### We can see that 'survived' appears to be 0/1, what is the explanation of that?\n",
    "#### What is sibsp?\n",
    "#### What is parch?\n",
    "#### What is embarked ('C' & 'S')?\n",
    "#### What is body?\n",
    "So the above tells you that there are 14 columns x 1309 rows or you can just use:\n",
    "\n",
    "DataFrame.shape"
   ]
  },
  {
   "cell_type": "code",
   "execution_count": 25,
   "metadata": {
    "collapsed": false
   },
   "outputs": [
    {
     "data": {
      "text/plain": [
       "(1309, 14)"
      ]
     },
     "execution_count": 25,
     "metadata": {},
     "output_type": "execute_result"
    }
   ],
   "source": [
    "df1.shape # 1309 x 14 records"
   ]
  },
  {
   "cell_type": "code",
   "execution_count": 26,
   "metadata": {
    "collapsed": false
   },
   "outputs": [
    {
     "name": "stdout",
     "output_type": "stream",
     "text": [
      "<class 'pandas.core.frame.DataFrame'>\n",
      "RangeIndex: 1309 entries, 0 to 1308\n",
      "Data columns (total 14 columns):\n",
      "pclass       1309 non-null int64\n",
      "survived     1309 non-null int64\n",
      "name         1309 non-null object\n",
      "sex          1309 non-null object\n",
      "age          1046 non-null float64\n",
      "sibsp        1309 non-null int64\n",
      "parch        1309 non-null int64\n",
      "ticket       1309 non-null object\n",
      "fare         1308 non-null float64\n",
      "cabin        295 non-null object\n",
      "embarked     1307 non-null object\n",
      "boat         486 non-null object\n",
      "body         121 non-null float64\n",
      "home.dest    745 non-null object\n",
      "dtypes: float64(3), int64(4), object(7)\n",
      "memory usage: 143.2+ KB\n"
     ]
    }
   ],
   "source": [
    "df1.info() # a mixture of Objects (text) and numbers"
   ]
  },
  {
   "cell_type": "code",
   "execution_count": 27,
   "metadata": {
    "collapsed": false
   },
   "outputs": [
    {
     "data": {
      "text/html": [
       "<div>\n",
       "<table border=\"1\" class=\"dataframe\">\n",
       "  <thead>\n",
       "    <tr style=\"text-align: right;\">\n",
       "      <th></th>\n",
       "      <th>pclass</th>\n",
       "      <th>survived</th>\n",
       "      <th>age</th>\n",
       "      <th>sibsp</th>\n",
       "      <th>parch</th>\n",
       "      <th>fare</th>\n",
       "      <th>body</th>\n",
       "    </tr>\n",
       "  </thead>\n",
       "  <tbody>\n",
       "    <tr>\n",
       "      <th>count</th>\n",
       "      <td>1309.000000</td>\n",
       "      <td>1309.000000</td>\n",
       "      <td>1046.000000</td>\n",
       "      <td>1309.000000</td>\n",
       "      <td>1309.000000</td>\n",
       "      <td>1308.000000</td>\n",
       "      <td>121.000000</td>\n",
       "    </tr>\n",
       "    <tr>\n",
       "      <th>mean</th>\n",
       "      <td>2.294882</td>\n",
       "      <td>0.381971</td>\n",
       "      <td>29.881138</td>\n",
       "      <td>0.498854</td>\n",
       "      <td>0.385027</td>\n",
       "      <td>33.295479</td>\n",
       "      <td>160.809917</td>\n",
       "    </tr>\n",
       "    <tr>\n",
       "      <th>std</th>\n",
       "      <td>0.837836</td>\n",
       "      <td>0.486055</td>\n",
       "      <td>14.413493</td>\n",
       "      <td>1.041658</td>\n",
       "      <td>0.865560</td>\n",
       "      <td>51.758668</td>\n",
       "      <td>97.696922</td>\n",
       "    </tr>\n",
       "    <tr>\n",
       "      <th>min</th>\n",
       "      <td>1.000000</td>\n",
       "      <td>0.000000</td>\n",
       "      <td>0.170000</td>\n",
       "      <td>0.000000</td>\n",
       "      <td>0.000000</td>\n",
       "      <td>0.000000</td>\n",
       "      <td>1.000000</td>\n",
       "    </tr>\n",
       "    <tr>\n",
       "      <th>25%</th>\n",
       "      <td>2.000000</td>\n",
       "      <td>0.000000</td>\n",
       "      <td>21.000000</td>\n",
       "      <td>0.000000</td>\n",
       "      <td>0.000000</td>\n",
       "      <td>7.895800</td>\n",
       "      <td>72.000000</td>\n",
       "    </tr>\n",
       "    <tr>\n",
       "      <th>50%</th>\n",
       "      <td>3.000000</td>\n",
       "      <td>0.000000</td>\n",
       "      <td>28.000000</td>\n",
       "      <td>0.000000</td>\n",
       "      <td>0.000000</td>\n",
       "      <td>14.454200</td>\n",
       "      <td>155.000000</td>\n",
       "    </tr>\n",
       "    <tr>\n",
       "      <th>75%</th>\n",
       "      <td>3.000000</td>\n",
       "      <td>1.000000</td>\n",
       "      <td>39.000000</td>\n",
       "      <td>1.000000</td>\n",
       "      <td>0.000000</td>\n",
       "      <td>31.275000</td>\n",
       "      <td>256.000000</td>\n",
       "    </tr>\n",
       "    <tr>\n",
       "      <th>max</th>\n",
       "      <td>3.000000</td>\n",
       "      <td>1.000000</td>\n",
       "      <td>80.000000</td>\n",
       "      <td>8.000000</td>\n",
       "      <td>9.000000</td>\n",
       "      <td>512.329200</td>\n",
       "      <td>328.000000</td>\n",
       "    </tr>\n",
       "  </tbody>\n",
       "</table>\n",
       "</div>"
      ],
      "text/plain": [
       "            pclass     survived          age        sibsp        parch  \\\n",
       "count  1309.000000  1309.000000  1046.000000  1309.000000  1309.000000   \n",
       "mean      2.294882     0.381971    29.881138     0.498854     0.385027   \n",
       "std       0.837836     0.486055    14.413493     1.041658     0.865560   \n",
       "min       1.000000     0.000000     0.170000     0.000000     0.000000   \n",
       "25%       2.000000     0.000000    21.000000     0.000000     0.000000   \n",
       "50%       3.000000     0.000000    28.000000     0.000000     0.000000   \n",
       "75%       3.000000     1.000000    39.000000     1.000000     0.000000   \n",
       "max       3.000000     1.000000    80.000000     8.000000     9.000000   \n",
       "\n",
       "              fare        body  \n",
       "count  1308.000000  121.000000  \n",
       "mean     33.295479  160.809917  \n",
       "std      51.758668   97.696922  \n",
       "min       0.000000    1.000000  \n",
       "25%       7.895800   72.000000  \n",
       "50%      14.454200  155.000000  \n",
       "75%      31.275000  256.000000  \n",
       "max     512.329200  328.000000  "
      ]
     },
     "execution_count": 27,
     "metadata": {},
     "output_type": "execute_result"
    }
   ],
   "source": [
    "df1.describe()"
   ]
  },
  {
   "cell_type": "markdown",
   "metadata": {},
   "source": [
    "Probably one of the more useful summary tools is 'describe()'\n",
    "\n",
    "It picks out all the numeric data, gives us totals, means, max, min etc.\n",
    "\n",
    "You can notice that (left to right) pclass & survived are compelete with no missing values (1309.00 = 1309), however about 300 ages are missing. \n",
    "\n",
    "There is only one person didn't pay a fare? (maybe the captain..)\n",
    "\n",
    "You also notice from the above table that some fares are 0 (could it be the same one for the captain?)\n",
    "\n",
    "The max fare is 512.329200. It seemed to be very high or is it might be converted from another units?\n",
    "\n",
    "At far right 'body' is sparse (only 121 values)\n",
    "\n",
    "Values in pclass look like 1,2,3. "
   ]
  },
  {
   "cell_type": "code",
   "execution_count": 28,
   "metadata": {
    "collapsed": false
   },
   "outputs": [
    {
     "data": {
      "text/plain": [
       "array([1, 2, 3])"
      ]
     },
     "execution_count": 28,
     "metadata": {},
     "output_type": "execute_result"
    }
   ],
   "source": [
    "df1['pclass'].unique()"
   ]
  },
  {
   "cell_type": "code",
   "execution_count": 29,
   "metadata": {
    "collapsed": false
   },
   "outputs": [
    {
     "data": {
      "text/plain": [
       "array(['female', 'male'], dtype=object)"
      ]
     },
     "execution_count": 29,
     "metadata": {},
     "output_type": "execute_result"
    }
   ],
   "source": [
    "df1['sex'].unique() # just male & female"
   ]
  },
  {
   "cell_type": "code",
   "execution_count": 30,
   "metadata": {
    "collapsed": false
   },
   "outputs": [
    {
     "data": {
      "text/plain": [
       "male      843\n",
       "female    466\n",
       "Name: sex, dtype: int64"
      ]
     },
     "execution_count": 30,
     "metadata": {},
     "output_type": "execute_result"
    }
   ],
   "source": [
    "df1['sex'].value_counts() # we can count (and check that 843 + 466 = 1309...)"
   ]
  },
  {
   "cell_type": "code",
   "execution_count": 31,
   "metadata": {
    "collapsed": false
   },
   "outputs": [
    {
     "data": {
      "text/plain": [
       "1309"
      ]
     },
     "execution_count": 31,
     "metadata": {},
     "output_type": "execute_result"
    }
   ],
   "source": [
    "843 + 466"
   ]
  },
  {
   "cell_type": "code",
   "execution_count": 32,
   "metadata": {
    "collapsed": false
   },
   "outputs": [
    {
     "data": {
      "text/plain": [
       "<matplotlib.axes._subplots.AxesSubplot at 0x124ab9cd0>"
      ]
     },
     "execution_count": 32,
     "metadata": {},
     "output_type": "execute_result"
    },
    {
     "data": {
      "image/png": "[encoded data removed]",
      "text/plain": [
       "<matplotlib.figure.Figure at 0x124a9fa50>"
      ]
     },
     "metadata": {},
     "output_type": "display_data"
    }
   ],
   "source": [
    "# or plot\n",
    "import matplotlib.pyplot as plt\n",
    "%matplotlib inline\n",
    "\n",
    "fig, ax = plt.subplots()\n",
    "df1['sex'].value_counts().plot(ax=ax, kind='bar')"
   ]
  },
  {
   "cell_type": "code",
   "execution_count": 33,
   "metadata": {
    "collapsed": false
   },
   "outputs": [
    {
     "data": {
      "text/plain": [
       "array(['S', 'C', nan, 'Q'], dtype=object)"
      ]
     },
     "execution_count": 33,
     "metadata": {},
     "output_type": "execute_result"
    }
   ],
   "source": [
    "\n",
    "df1['embarked'].unique()"
   ]
  },
  {
   "cell_type": "markdown",
   "metadata": {},
   "source": [
    "embarked is 'S', 'C', nan, 'Q'\n",
    "\n",
    "What do the letters mean. How many missing values are there?\n",
    "\n",
    "Check the wikipedia page to find out that https://en.wikipedia.org/wiki/RMS_Titanic\"Southampton... Additional passengers were picked up at Cherbourg and Queenstown.\"\n",
    "\n",
    "So that would seem to be the S, 'Southampton'\n"
   ]
  },
  {
   "cell_type": "code",
   "execution_count": 34,
   "metadata": {
    "collapsed": false
   },
   "outputs": [
    {
     "data": {
      "text/plain": [
       "S    914\n",
       "C    270\n",
       "Q    123\n",
       "Name: embarked, dtype: int64"
      ]
     },
     "execution_count": 34,
     "metadata": {},
     "output_type": "execute_result"
    }
   ],
   "source": [
    "df1['embarked'].value_counts() # notice that 'nan' doesn't count or isn't counted"
   ]
  },
  {
   "cell_type": "code",
   "execution_count": 35,
   "metadata": {
    "collapsed": false
   },
   "outputs": [
    {
     "data": {
      "text/plain": [
       "1307"
      ]
     },
     "execution_count": 35,
     "metadata": {},
     "output_type": "execute_result"
    }
   ],
   "source": [
    "914 + 270 + 123 "
   ]
  },
  {
   "cell_type": "code",
   "execution_count": 36,
   "metadata": {
    "collapsed": true
   },
   "outputs": [],
   "source": [
    "# there are two missing?"
   ]
  },
  {
   "cell_type": "code",
   "execution_count": 37,
   "metadata": {
    "collapsed": false
   },
   "outputs": [
    {
     "data": {
      "text/plain": [
       "8.0500     60\n",
       "13.0000    59\n",
       "7.7500     55\n",
       "26.0000    50\n",
       "7.8958     49\n",
       "10.5000    35\n",
       "7.7750     26\n",
       "7.2292     24\n",
       "7.9250     23\n",
       "26.5500    22\n",
       "7.2250     21\n",
       "7.8542     21\n",
       "8.6625     21\n",
       "7.2500     18\n",
       "0.0000     17\n",
       "21.0000    14\n",
       "9.5000     12\n",
       "16.1000    12\n",
       "69.5500    11\n",
       "27.7208    11\n",
       "14.5000    11\n",
       "7.8792     10\n",
       "7.7958     10\n",
       "14.4542    10\n",
       "15.5000    10\n",
       "15.2458     9\n",
       "24.1500     9\n",
       "7.0500      9\n",
       "56.4958     8\n",
       "52.0000     8\n",
       "           ..\n",
       "3.1708      1\n",
       "12.6500     1\n",
       "12.0000     1\n",
       "28.7125     1\n",
       "14.0000     1\n",
       "15.0000     1\n",
       "13.7917     1\n",
       "31.6833     1\n",
       "9.3250      1\n",
       "4.0125      1\n",
       "8.6542      1\n",
       "7.8000      1\n",
       "8.6833      1\n",
       "7.1417      1\n",
       "6.2375      1\n",
       "15.5792     1\n",
       "8.3625      1\n",
       "8.0292      1\n",
       "8.4333      1\n",
       "32.3208     1\n",
       "7.0458      1\n",
       "8.4042      1\n",
       "6.4500      1\n",
       "7.8208      1\n",
       "25.7000     1\n",
       "34.6542     1\n",
       "9.2167      1\n",
       "7.2833      1\n",
       "7.5750      1\n",
       "8.9625      1\n",
       "Name: fare, dtype: int64"
      ]
     },
     "execution_count": 37,
     "metadata": {},
     "output_type": "execute_result"
    }
   ],
   "source": [
    "df1['fare'].value_counts()"
   ]
  },
  {
   "cell_type": "code",
   "execution_count": 38,
   "metadata": {
    "collapsed": false
   },
   "outputs": [
    {
     "data": {
      "text/plain": [
       "[<matplotlib.lines.Line2D at 0x124c3c850>]"
      ]
     },
     "execution_count": 38,
     "metadata": {},
     "output_type": "execute_result"
    },
    {
     "data": {
      "image/png": "[encoded data removed]",
      "text/plain": [
       "<matplotlib.figure.Figure at 0x11e3ce2d0>"
      ]
     },
     "metadata": {},
     "output_type": "display_data"
    }
   ],
   "source": [
    "# look at fares, seems like a total mess\n",
    "plt.plot(df1['fare'])"
   ]
  },
  {
   "cell_type": "code",
   "execution_count": 39,
   "metadata": {
    "collapsed": false
   },
   "outputs": [
    {
     "data": {
      "image/png": "[encoded data removed]",
      "text/plain": [
       "<matplotlib.figure.Figure at 0x124ac88d0>"
      ]
     },
     "metadata": {},
     "output_type": "display_data"
    }
   ],
   "source": [
    "# that's not quite right, it's showing all ~1300 fares left to right\n",
    "# try another type of plot, histogram, change bins to get different views \n",
    "\n",
    "fig = plt.figure()\n",
    "ax = fig.add_subplot(111)\n",
    "ax.hist(df1['fare'], bins = 50, range = (df1['fare'].min(),df1['fare'].max()))\n",
    "plt.title('Fare distribution')\n",
    "plt.xlabel('Fare')\n",
    "plt.ylabel('Count of Passengers')\n",
    "plt.show()"
   ]
  },
  {
   "cell_type": "code",
   "execution_count": 40,
   "metadata": {
    "collapsed": false
   },
   "outputs": [
    {
     "name": "stderr",
     "output_type": "stream",
     "text": [
      "/Users/Ash/anaconda2/lib/python2.7/site-packages/ipykernel/__main__.py:2: FutureWarning: \n",
      "The default value for 'return_type' will change to 'axes' in a future release.\n",
      " To use the future behavior now, set return_type='axes'.\n",
      " To keep the previous behavior and silence this warning, set return_type='dict'.\n",
      "  from ipykernel import kernelapp as app\n"
     ]
    },
    {
     "data": {
      "image/png": "[encoded data removed]",
      "text/plain": [
       "<matplotlib.figure.Figure at 0x124b53b50>"
      ]
     },
     "metadata": {},
     "output_type": "display_data"
    }
   ],
   "source": [
    "# another way to look at data, boxplots, especially with outliers\n",
    "bp = df1.boxplot()\n",
    "\n",
    "# We can boxplot an entire DataFrame, quick & nasty, ignores non-numeric data too\n"
   ]
  },
  {
   "cell_type": "code",
   "execution_count": 41,
   "metadata": {
    "collapsed": false
   },
   "outputs": [
    {
     "name": "stderr",
     "output_type": "stream",
     "text": [
      "/Users/Ash/anaconda2/lib/python2.7/site-packages/ipykernel/__main__.py:2: FutureWarning: \n",
      "The default value for 'return_type' will change to 'axes' in a future release.\n",
      " To use the future behavior now, set return_type='axes'.\n",
      " To keep the previous behavior and silence this warning, set return_type='dict'.\n",
      "  from ipykernel import kernelapp as app\n"
     ]
    },
    {
     "data": {
      "image/png": "[encoded data removed]",
      "text/plain": [
       "<matplotlib.figure.Figure at 0x125b2e550>"
      ]
     },
     "metadata": {},
     "output_type": "display_data"
    }
   ],
   "source": [
    "# just look at fare\n",
    "bp = df1.boxplot(column='fare')"
   ]
  },
  {
   "cell_type": "code",
   "execution_count": 42,
   "metadata": {
    "collapsed": false
   },
   "outputs": [
    {
     "data": {
      "text/plain": [
       "<matplotlib.axes._subplots.AxesSubplot at 0x125bb5c50>"
      ]
     },
     "execution_count": 42,
     "metadata": {},
     "output_type": "execute_result"
    },
    {
     "data": {
      "image/png": "[encoded data removed]",
      "text/plain": [
       "<matplotlib.figure.Figure at 0x125bb5f90>"
      ]
     },
     "metadata": {},
     "output_type": "display_data"
    }
   ],
   "source": [
    "# but there are three 'classes', separate them:\n",
    "df1.boxplot(column='fare', by = 'pclass')"
   ]
  },
  {
   "cell_type": "code",
   "execution_count": 43,
   "metadata": {
    "collapsed": false
   },
   "outputs": [
    {
     "data": {
      "image/png": "[encoded data removed]",
      "text/plain": [
       "<matplotlib.figure.Figure at 0x125bb5810>"
      ]
     },
     "metadata": {},
     "output_type": "display_data"
    }
   ],
   "source": [
    "# do similarly with ages\n",
    "fig = plt.figure()\n",
    "ax = fig.add_subplot(111)\n",
    "ax.hist(df1['age'], bins = 10, range = (df1['age'].min(),df1['age'].max()))\n",
    "plt.title('Age distribution')\n",
    "plt.xlabel('Age')\n",
    "plt.ylabel('Count of Passengers')\n",
    "plt.show()"
   ]
  },
  {
   "cell_type": "code",
   "execution_count": 44,
   "metadata": {
    "collapsed": false
   },
   "outputs": [
    {
     "data": {
      "image/png": "[encoded data removed]",
      "text/plain": [
       "<matplotlib.figure.Figure at 0x124f9ac90>"
      ]
     },
     "metadata": {},
     "output_type": "display_data"
    }
   ],
   "source": [
    "# a multiscatter matrix? Not always useful\n",
    "from pandas.tools.plotting import scatter_matrix\n",
    "\n",
    "sm = scatter_matrix(df1, alpha=0.2, figsize=(8, 8), diagonal='kde')"
   ]
  },
  {
   "cell_type": "code",
   "execution_count": 45,
   "metadata": {
    "collapsed": false
   },
   "outputs": [
    {
     "data": {
      "text/plain": [
       "<matplotlib.axes._subplots.AxesSubplot at 0x12b862e50>"
      ]
     },
     "execution_count": 45,
     "metadata": {},
     "output_type": "execute_result"
    },
    {
     "data": {
      "image/png": "[encoded data removed]",
      "text/plain": [
       "<matplotlib.figure.Figure at 0x124895c10>"
      ]
     },
     "metadata": {},
     "output_type": "display_data"
    }
   ],
   "source": [
    "# just to complete the story... what were some of the factors for survival?\n",
    "\n",
    "\n",
    "ct = pd.crosstab([df1.pclass, df1.sex], df1.survived.astype(bool))\n",
    "ct.plot(kind='bar', stacked=True, color=['red','blue'], grid=False)"
   ]
  },
  {
   "cell_type": "markdown",
   "metadata": {
    "collapsed": true
   },
   "source": [
    "### Plotting non-numerical data"
   ]
  },
  {
   "cell_type": "code",
   "execution_count": 46,
   "metadata": {
    "collapsed": false
   },
   "outputs": [
    {
     "data": {
      "text/plain": [
       "male      843\n",
       "female    466\n",
       "Name: sex, dtype: int64"
      ]
     },
     "execution_count": 46,
     "metadata": {},
     "output_type": "execute_result"
    }
   ],
   "source": [
    "df1['sex'].value_counts()"
   ]
  },
  {
   "cell_type": "code",
   "execution_count": 47,
   "metadata": {
    "collapsed": false
   },
   "outputs": [
    {
     "data": {
      "text/plain": [
       "array(['female', 'male'], dtype=object)"
      ]
     },
     "execution_count": 47,
     "metadata": {},
     "output_type": "execute_result"
    }
   ],
   "source": [
    "df1['sex'].unique()"
   ]
  },
  {
   "cell_type": "code",
   "execution_count": 48,
   "metadata": {
    "collapsed": false
   },
   "outputs": [
    {
     "data": {
      "text/plain": [
       "<matplotlib.axes._subplots.AxesSubplot at 0x12bb24c10>"
      ]
     },
     "execution_count": 48,
     "metadata": {},
     "output_type": "execute_result"
    },
    {
     "data": {
      "image/png": "[encoded data removed]",
      "text/plain": [
       "<matplotlib.figure.Figure at 0x12bb3d4d0>"
      ]
     },
     "metadata": {},
     "output_type": "display_data"
    }
   ],
   "source": [
    "fig, ax = plt.subplots()\n",
    "df1['sex'].value_counts().plot(ax=ax, kind='bar')"
   ]
  },
  {
   "cell_type": "code",
   "execution_count": 49,
   "metadata": {
    "collapsed": false
   },
   "outputs": [
    {
     "data": {
      "text/plain": [
       "array(['S', 'C', nan, 'Q'], dtype=object)"
      ]
     },
     "execution_count": 49,
     "metadata": {},
     "output_type": "execute_result"
    }
   ],
   "source": [
    "df1['embarked'].unique()"
   ]
  },
  {
   "cell_type": "code",
   "execution_count": 50,
   "metadata": {
    "collapsed": false
   },
   "outputs": [
    {
     "data": {
      "text/plain": [
       "<matplotlib.axes._subplots.AxesSubplot at 0x12baa4910>"
      ]
     },
     "execution_count": 50,
     "metadata": {},
     "output_type": "execute_result"
    },
    {
     "data": {
      "image/png": "[encoded data removed]",
      "text/plain": [
       "<matplotlib.figure.Figure at 0x12bbbd210>"
      ]
     },
     "metadata": {},
     "output_type": "display_data"
    }
   ],
   "source": [
    "fig, ax = plt.subplots()\n",
    "df1['embarked'].value_counts().plot(ax=ax, kind='bar')"
   ]
  },
  {
   "cell_type": "code",
   "execution_count": 52,
   "metadata": {
    "collapsed": true
   },
   "outputs": [],
   "source": [
    "# note that the something appears to be missing, the 'nan' (it's 'Not A Number', not granny)\n",
    "# do you want to plot nan anyway?"
   ]
  },
  {
   "cell_type": "code",
   "execution_count": 51,
   "metadata": {
    "collapsed": false
   },
   "outputs": [
    {
     "data": {
      "text/plain": [
       "2"
      ]
     },
     "execution_count": 51,
     "metadata": {},
     "output_type": "execute_result"
    }
   ],
   "source": [
    "sum(df1['embarked'].isnull())"
   ]
  },
  {
   "cell_type": "code",
   "execution_count": 52,
   "metadata": {
    "collapsed": true
   },
   "outputs": [],
   "source": [
    "temp = df1['embarked'].value_counts()"
   ]
  },
  {
   "cell_type": "code",
   "execution_count": 53,
   "metadata": {
    "collapsed": false
   },
   "outputs": [
    {
     "data": {
      "text/plain": [
       "S    914\n",
       "C    270\n",
       "Q    123\n",
       "Name: embarked, dtype: int64"
      ]
     },
     "execution_count": 53,
     "metadata": {},
     "output_type": "execute_result"
    }
   ],
   "source": [
    "temp"
   ]
  },
  {
   "cell_type": "code",
   "execution_count": 54,
   "metadata": {
    "collapsed": false
   },
   "outputs": [
    {
     "data": {
      "text/plain": [
       "914"
      ]
     },
     "execution_count": 54,
     "metadata": {},
     "output_type": "execute_result"
    }
   ],
   "source": [
    "temp['S']"
   ]
  },
  {
   "cell_type": "code",
   "execution_count": 55,
   "metadata": {
    "collapsed": true
   },
   "outputs": [],
   "source": [
    "temp['NaN'] = sum(df1['embarked'].isnull())"
   ]
  },
  {
   "cell_type": "code",
   "execution_count": 57,
   "metadata": {
    "collapsed": false
   },
   "outputs": [
    {
     "data": {
      "text/plain": [
       "<matplotlib.axes._subplots.AxesSubplot at 0x12c043410>"
      ]
     },
     "execution_count": 57,
     "metadata": {},
     "output_type": "execute_result"
    },
    {
     "data": {
      "image/png": "[encoded data removed]",
      "text/plain": [
       "<matplotlib.figure.Figure at 0x12c0f8050>"
      ]
     },
     "metadata": {},
     "output_type": "display_data"
    }
   ],
   "source": [
    "fig, ax = plt.subplots()\n",
    "temp.plot(ax=ax, kind='bar')"
   ]
  }
 ],
 "metadata": {
  "kernelspec": {
   "display_name": "Python 3",
   "language": "python",
   "name": "python3"
  },
  "language_info": {
   "codemirror_mode": {
    "name": "ipython",
    "version": 3
   },
   "file_extension": ".py",
   "mimetype": "text/x-python",
   "name": "python",
   "nbconvert_exporter": "python",
   "pygments_lexer": "ipython3",
   "version": "3.6.0"
  },
  "name": "4.2 Exploratory data analysis (EDA).ipynb"
 },
 "nbformat": 4,
 "nbformat_minor": 0
}
