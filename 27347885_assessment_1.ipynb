{
 "cells": [
  {
   "cell_type": "markdown",
   "metadata": {},
   "source": [
    "#FIT5196 Data wrangling - TP3 2016\n",
    "#Assessment Task 1: Parse Raw Data\n",
    "#Author: Ashley Bythell\n",
    "#Student ID: 27347885"
   ]
  },
  {
   "cell_type": "markdown",
   "metadata": {},
   "source": [
    "# Task 1:  Examining and Loading Data."
   ]
  },
  {
   "cell_type": "code",
   "execution_count": null,
   "metadata": {
    "collapsed": true
   },
   "outputs": [],
   "source": []
  },
  {
   "cell_type": "code",
   "execution_count": 330,
   "metadata": {
    "collapsed": true
   },
   "outputs": [],
   "source": [
    "#import libraries - pandas, numpy"
   ]
  },
  {
   "cell_type": "code",
   "execution_count": 331,
   "metadata": {
    "collapsed": true
   },
   "outputs": [],
   "source": [
    "import pandas as pd \n",
    "import datetime \n",
    "import numpy as np\n"
   ]
  },
  {
   "cell_type": "code",
   "execution_count": 332,
   "metadata": {
    "collapsed": true
   },
   "outputs": [],
   "source": [
    "#Python 2.7 shows future warnings - this will disable those warnings."
   ]
  },
  {
   "cell_type": "code",
   "execution_count": 333,
   "metadata": {
    "collapsed": true
   },
   "outputs": [],
   "source": [
    "import warnings\n",
    "warnings.simplefilter(action = \"ignore\", category = FutureWarning)"
   ]
  },
  {
   "cell_type": "code",
   "execution_count": null,
   "metadata": {
    "collapsed": true
   },
   "outputs": [],
   "source": []
  },
  {
   "cell_type": "code",
   "execution_count": 334,
   "metadata": {
    "collapsed": true
   },
   "outputs": [],
   "source": [
    "#read data.dat file into dataframe via pd.read_table command - as tab separated file.  Use column names col1 -> col12"
   ]
  },
  {
   "cell_type": "code",
   "execution_count": 335,
   "metadata": {
    "collapsed": false
   },
   "outputs": [],
   "source": [
    "df = pd.read_table('data.dat',  sep= \"\\t\", names = ['col1', 'col2', 'col3','col4','col5','col6','col7', 'col8', 'col9', 'col10', 'col11', 'col12'])\n"
   ]
  },
  {
   "cell_type": "code",
   "execution_count": null,
   "metadata": {
    "collapsed": true
   },
   "outputs": [],
   "source": []
  },
  {
   "cell_type": "code",
   "execution_count": null,
   "metadata": {
    "collapsed": true
   },
   "outputs": [],
   "source": []
  },
  {
   "cell_type": "code",
   "execution_count": 336,
   "metadata": {
    "collapsed": true
   },
   "outputs": [],
   "source": [
    "#initial check of row number/columns."
   ]
  },
  {
   "cell_type": "code",
   "execution_count": 337,
   "metadata": {
    "collapsed": false
   },
   "outputs": [
    {
     "data": {
      "text/plain": [
       "(17829, 12)"
      ]
     },
     "execution_count": 337,
     "metadata": {},
     "output_type": "execute_result"
    }
   ],
   "source": [
    "df.shape"
   ]
  },
  {
   "cell_type": "code",
   "execution_count": null,
   "metadata": {
    "collapsed": true
   },
   "outputs": [],
   "source": []
  },
  {
   "cell_type": "code",
   "execution_count": 338,
   "metadata": {
    "collapsed": true
   },
   "outputs": [],
   "source": [
    "#initial check of data types"
   ]
  },
  {
   "cell_type": "code",
   "execution_count": 339,
   "metadata": {
    "collapsed": false
   },
   "outputs": [
    {
     "data": {
      "text/plain": [
       "col1     object\n",
       "col2     object\n",
       "col3     object\n",
       "col4     object\n",
       "col5     object\n",
       "col6     object\n",
       "col7     object\n",
       "col8     object\n",
       "col9     object\n",
       "col10    object\n",
       "col11    object\n",
       "col12    object\n",
       "dtype: object"
      ]
     },
     "execution_count": 339,
     "metadata": {},
     "output_type": "execute_result"
    }
   ],
   "source": [
    "df.dtypes"
   ]
  },
  {
   "cell_type": "code",
   "execution_count": null,
   "metadata": {
    "collapsed": true
   },
   "outputs": [],
   "source": []
  },
  {
   "cell_type": "code",
   "execution_count": 340,
   "metadata": {
    "collapsed": true
   },
   "outputs": [],
   "source": [
    "#check first rows of dataframe."
   ]
  },
  {
   "cell_type": "code",
   "execution_count": 341,
   "metadata": {
    "collapsed": false
   },
   "outputs": [
    {
     "data": {
      "text/html": [
       "<div>\n",
       "<table border=\"1\" class=\"dataframe\">\n",
       "  <thead>\n",
       "    <tr style=\"text-align: right;\">\n",
       "      <th></th>\n",
       "      <th>col1</th>\n",
       "      <th>col2</th>\n",
       "      <th>col3</th>\n",
       "      <th>col4</th>\n",
       "      <th>col5</th>\n",
       "      <th>col6</th>\n",
       "      <th>col7</th>\n",
       "      <th>col8</th>\n",
       "      <th>col9</th>\n",
       "      <th>col10</th>\n",
       "      <th>col11</th>\n",
       "      <th>col12</th>\n",
       "    </tr>\n",
       "  </thead>\n",
       "  <tbody>\n",
       "    <tr>\n",
       "      <th>0</th>\n",
       "      <td>Start = 00102008</td>\n",
       "      <td>End = 00102008</td>\n",
       "      <td>Country:Afghanistan</td>\n",
       "      <td>Location:Kunduz, Balkh, Faryab, Ba ...</td>\n",
       "      <td>Type:Drought</td>\n",
       "      <td>Sub_Type:Drought</td>\n",
       "      <td>Name:nan</td>\n",
       "      <td>Killed = nan</td>\n",
       "      <td>Affected = 280000.0</td>\n",
       "      <td>Cost = nan</td>\n",
       "      <td>International support = nan</td>\n",
       "      <td>ID = 2008-9475</td>\n",
       "    </tr>\n",
       "    <tr>\n",
       "      <th>1</th>\n",
       "      <td>Start = 00072006</td>\n",
       "      <td>End = 00002006</td>\n",
       "      <td>Country:Afghanistan</td>\n",
       "      <td>Location:nan</td>\n",
       "      <td>Type:Drought</td>\n",
       "      <td>Sub_Type:Drought</td>\n",
       "      <td>Name:nan</td>\n",
       "      <td>Killed = nan</td>\n",
       "      <td>Affected = 1900000.0</td>\n",
       "      <td>Cost = nan</td>\n",
       "      <td>International support = nan</td>\n",
       "      <td>ID = 2006-9570</td>\n",
       "    </tr>\n",
       "    <tr>\n",
       "      <th>2</th>\n",
       "      <td>Start = 00052000</td>\n",
       "      <td>End = 00002002</td>\n",
       "      <td>Country:Afghanistan</td>\n",
       "      <td>Location:Kandahar, Helmand, Nimroz ...</td>\n",
       "      <td>Type:Drought</td>\n",
       "      <td>Sub_Type:Drought</td>\n",
       "      <td>Name:nan</td>\n",
       "      <td>Killed = 37.0</td>\n",
       "      <td>Affected = 2580000.0</td>\n",
       "      <td>Cost = 0.05</td>\n",
       "      <td>International support = 968.627</td>\n",
       "      <td>ID = 2000-9186</td>\n",
       "    </tr>\n",
       "    <tr>\n",
       "      <th>3</th>\n",
       "      <td>Start = 00081971</td>\n",
       "      <td>End = 00001973</td>\n",
       "      <td>Country:Afghanistan</td>\n",
       "      <td>Location:Central, North-West, Nort ...</td>\n",
       "      <td>Type:Drought</td>\n",
       "      <td>Sub_Type:Drought</td>\n",
       "      <td>Name:nan</td>\n",
       "      <td>Killed = nan</td>\n",
       "      <td>Affected = nan</td>\n",
       "      <td>Cost = nan</td>\n",
       "      <td>International support = nan</td>\n",
       "      <td>ID = 1971-9085</td>\n",
       "    </tr>\n",
       "    <tr>\n",
       "      <th>4</th>\n",
       "      <td>Start = 00011969</td>\n",
       "      <td>End = 00001969</td>\n",
       "      <td>Country:Afghanistan</td>\n",
       "      <td>Location:Paktia province</td>\n",
       "      <td>Type:Drought</td>\n",
       "      <td>Sub_Type:Drought</td>\n",
       "      <td>Name:nan</td>\n",
       "      <td>Killed = nan</td>\n",
       "      <td>Affected = 48000.0</td>\n",
       "      <td>Cost = 0.2</td>\n",
       "      <td>International support = nan</td>\n",
       "      <td>ID = 1969-9007</td>\n",
       "    </tr>\n",
       "  </tbody>\n",
       "</table>\n",
       "</div>"
      ],
      "text/plain": [
       "               col1            col2                 col3  \\\n",
       "0  Start = 00102008  End = 00102008  Country:Afghanistan   \n",
       "1  Start = 00072006  End = 00002006  Country:Afghanistan   \n",
       "2  Start = 00052000  End = 00002002  Country:Afghanistan   \n",
       "3  Start = 00081971  End = 00001973  Country:Afghanistan   \n",
       "4  Start = 00011969  End = 00001969  Country:Afghanistan   \n",
       "\n",
       "                                     col4          col5              col6  \\\n",
       "0  Location:Kunduz, Balkh, Faryab, Ba ...  Type:Drought  Sub_Type:Drought   \n",
       "1                            Location:nan  Type:Drought  Sub_Type:Drought   \n",
       "2  Location:Kandahar, Helmand, Nimroz ...  Type:Drought  Sub_Type:Drought   \n",
       "3  Location:Central, North-West, Nort ...  Type:Drought  Sub_Type:Drought   \n",
       "4                Location:Paktia province  Type:Drought  Sub_Type:Drought   \n",
       "\n",
       "       col7           col8                  col9        col10  \\\n",
       "0  Name:nan   Killed = nan   Affected = 280000.0   Cost = nan   \n",
       "1  Name:nan   Killed = nan  Affected = 1900000.0   Cost = nan   \n",
       "2  Name:nan  Killed = 37.0  Affected = 2580000.0  Cost = 0.05   \n",
       "3  Name:nan   Killed = nan        Affected = nan   Cost = nan   \n",
       "4  Name:nan   Killed = nan    Affected = 48000.0   Cost = 0.2   \n",
       "\n",
       "                             col11           col12  \n",
       "0      International support = nan  ID = 2008-9475  \n",
       "1      International support = nan  ID = 2006-9570  \n",
       "2  International support = 968.627  ID = 2000-9186  \n",
       "3      International support = nan  ID = 1971-9085  \n",
       "4      International support = nan  ID = 1969-9007  "
      ]
     },
     "execution_count": 341,
     "metadata": {},
     "output_type": "execute_result"
    }
   ],
   "source": [
    "df.head()"
   ]
  },
  {
   "cell_type": "code",
   "execution_count": null,
   "metadata": {
    "collapsed": true
   },
   "outputs": [],
   "source": []
  },
  {
   "cell_type": "markdown",
   "metadata": {},
   "source": [
    "# Task 2:  Parsing all the columns in the DataFrame."
   ]
  },
  {
   "cell_type": "code",
   "execution_count": 342,
   "metadata": {
    "collapsed": true
   },
   "outputs": [],
   "source": [
    "#Split columns from label/value and assign value to new field."
   ]
  },
  {
   "cell_type": "code",
   "execution_count": 343,
   "metadata": {
    "collapsed": false
   },
   "outputs": [],
   "source": [
    "df['ID'] = df.col12.str.split('=').str.get(1)\n",
    "df['Start_Date'] = df.col1.str.split('=').str.get(1)\n",
    "df['End_Date'] = df.col2.str.split('=').str.get(1)\n",
    "df['Country'] = df.col3.str.split(':').str.get(1)\n",
    "df['Location'] = df.col4.str.split(':').str.get(1)\n",
    "df['Type'] = df.col5.str.split(':').str.get(1)\n",
    "df['Sub_Type'] = df.col6.str.split(':').str.get(1)\n",
    "df['Name'] = df.col7.str.split(':').str.get(1)\n",
    "df['Killed'] = df.col8.str.split('=').str.get(1)\n",
    "df['Affected'] = df.col9.str.split('=').str.get(1)\n",
    "df['Cost'] = df.col10.str.split('=').str.get(1)\n",
    "df['International_Support'] = df.col11.str.split('=').str.get(1)"
   ]
  },
  {
   "cell_type": "code",
   "execution_count": null,
   "metadata": {
    "collapsed": true
   },
   "outputs": [],
   "source": []
  },
  {
   "cell_type": "code",
   "execution_count": 344,
   "metadata": {
    "collapsed": true
   },
   "outputs": [],
   "source": [
    "#remove existing columns containing both label/values."
   ]
  },
  {
   "cell_type": "code",
   "execution_count": 345,
   "metadata": {
    "collapsed": false
   },
   "outputs": [],
   "source": [
    "df.drop(['col1','col2','col3', 'col4', 'col5' , 'col6' , 'col7' ,'col8' , 'col9', 'col10', 'col11', 'col12'], axis = 1, inplace=True)"
   ]
  },
  {
   "cell_type": "code",
   "execution_count": 346,
   "metadata": {
    "collapsed": true
   },
   "outputs": [],
   "source": [
    "#change type of numeric fields to floats"
   ]
  },
  {
   "cell_type": "code",
   "execution_count": 347,
   "metadata": {
    "collapsed": true
   },
   "outputs": [],
   "source": [
    "df.Cost = df.Cost.astype(float)\n",
    "df.Affected = df.Affected.astype(float)\n",
    "df.Killed = df.Killed.astype(float)\n",
    "df.International_Support = df.International_Support.astype(float)"
   ]
  },
  {
   "cell_type": "code",
   "execution_count": 348,
   "metadata": {
    "collapsed": true
   },
   "outputs": [],
   "source": [
    "#Convert NAN's to 0.0's for numeric fields. (NAN's for text's proved difficult to remove/replace so left in dataset)"
   ]
  },
  {
   "cell_type": "code",
   "execution_count": 349,
   "metadata": {
    "collapsed": false
   },
   "outputs": [],
   "source": [
    "df.Killed = df.Killed.replace(np.nan,'0.0', regex=True)\n",
    "df.Cost = df.Cost.replace(np.nan,'0.0', regex=True)\n",
    "df.International_Support = df.International_Support.replace(np.nan,'0.0', regex=True)\n",
    "df.Affected = df.Affected.replace(np.nan,'0.0', regex=True)"
   ]
  },
  {
   "cell_type": "code",
   "execution_count": 350,
   "metadata": {
    "collapsed": false
   },
   "outputs": [
    {
     "data": {
      "text/html": [
       "<div>\n",
       "<table border=\"1\" class=\"dataframe\">\n",
       "  <thead>\n",
       "    <tr style=\"text-align: right;\">\n",
       "      <th></th>\n",
       "      <th>ID</th>\n",
       "      <th>Start_Date</th>\n",
       "      <th>End_Date</th>\n",
       "      <th>Country</th>\n",
       "      <th>Location</th>\n",
       "      <th>Type</th>\n",
       "      <th>Sub_Type</th>\n",
       "      <th>Name</th>\n",
       "      <th>Killed</th>\n",
       "      <th>Affected</th>\n",
       "      <th>Cost</th>\n",
       "      <th>International_Support</th>\n",
       "    </tr>\n",
       "  </thead>\n",
       "  <tbody>\n",
       "    <tr>\n",
       "      <th>0</th>\n",
       "      <td>2008-9475</td>\n",
       "      <td>00102008</td>\n",
       "      <td>00102008</td>\n",
       "      <td>Afghanistan</td>\n",
       "      <td>Kunduz, Balkh, Faryab, Ba ...</td>\n",
       "      <td>Drought</td>\n",
       "      <td>Drought</td>\n",
       "      <td>nan</td>\n",
       "      <td>0.0</td>\n",
       "      <td>280000</td>\n",
       "      <td>0.0</td>\n",
       "      <td>0.0</td>\n",
       "    </tr>\n",
       "    <tr>\n",
       "      <th>1</th>\n",
       "      <td>2006-9570</td>\n",
       "      <td>00072006</td>\n",
       "      <td>00002006</td>\n",
       "      <td>Afghanistan</td>\n",
       "      <td>nan</td>\n",
       "      <td>Drought</td>\n",
       "      <td>Drought</td>\n",
       "      <td>nan</td>\n",
       "      <td>0.0</td>\n",
       "      <td>1.9e+06</td>\n",
       "      <td>0.0</td>\n",
       "      <td>0.0</td>\n",
       "    </tr>\n",
       "    <tr>\n",
       "      <th>2</th>\n",
       "      <td>2000-9186</td>\n",
       "      <td>00052000</td>\n",
       "      <td>00002002</td>\n",
       "      <td>Afghanistan</td>\n",
       "      <td>Kandahar, Helmand, Nimroz ...</td>\n",
       "      <td>Drought</td>\n",
       "      <td>Drought</td>\n",
       "      <td>nan</td>\n",
       "      <td>37</td>\n",
       "      <td>2.58e+06</td>\n",
       "      <td>0.05</td>\n",
       "      <td>968.627</td>\n",
       "    </tr>\n",
       "    <tr>\n",
       "      <th>3</th>\n",
       "      <td>1971-9085</td>\n",
       "      <td>00081971</td>\n",
       "      <td>00001973</td>\n",
       "      <td>Afghanistan</td>\n",
       "      <td>Central, North-West, Nort ...</td>\n",
       "      <td>Drought</td>\n",
       "      <td>Drought</td>\n",
       "      <td>nan</td>\n",
       "      <td>0.0</td>\n",
       "      <td>0.0</td>\n",
       "      <td>0.0</td>\n",
       "      <td>0.0</td>\n",
       "    </tr>\n",
       "    <tr>\n",
       "      <th>4</th>\n",
       "      <td>1969-9007</td>\n",
       "      <td>00011969</td>\n",
       "      <td>00001969</td>\n",
       "      <td>Afghanistan</td>\n",
       "      <td>Paktia province</td>\n",
       "      <td>Drought</td>\n",
       "      <td>Drought</td>\n",
       "      <td>nan</td>\n",
       "      <td>0.0</td>\n",
       "      <td>48000</td>\n",
       "      <td>0.2</td>\n",
       "      <td>0.0</td>\n",
       "    </tr>\n",
       "  </tbody>\n",
       "</table>\n",
       "</div>"
      ],
      "text/plain": [
       "           ID Start_Date   End_Date      Country  \\\n",
       "0   2008-9475   00102008   00102008  Afghanistan   \n",
       "1   2006-9570   00072006   00002006  Afghanistan   \n",
       "2   2000-9186   00052000   00002002  Afghanistan   \n",
       "3   1971-9085   00081971   00001973  Afghanistan   \n",
       "4   1969-9007   00011969   00001969  Afghanistan   \n",
       "\n",
       "                        Location     Type Sub_Type Name Killed  Affected  \\\n",
       "0  Kunduz, Balkh, Faryab, Ba ...  Drought  Drought  nan    0.0    280000   \n",
       "1                            nan  Drought  Drought  nan    0.0   1.9e+06   \n",
       "2  Kandahar, Helmand, Nimroz ...  Drought  Drought  nan     37  2.58e+06   \n",
       "3  Central, North-West, Nort ...  Drought  Drought  nan    0.0       0.0   \n",
       "4                Paktia province  Drought  Drought  nan    0.0     48000   \n",
       "\n",
       "   Cost International_Support  \n",
       "0   0.0                   0.0  \n",
       "1   0.0                   0.0  \n",
       "2  0.05               968.627  \n",
       "3   0.0                   0.0  \n",
       "4   0.2                   0.0  "
      ]
     },
     "execution_count": 350,
     "metadata": {},
     "output_type": "execute_result"
    }
   ],
   "source": [
    "df.head()"
   ]
  },
  {
   "cell_type": "code",
   "execution_count": null,
   "metadata": {
    "collapsed": false
   },
   "outputs": [],
   "source": []
  },
  {
   "cell_type": "code",
   "execution_count": 351,
   "metadata": {
    "collapsed": false
   },
   "outputs": [
    {
     "data": {
      "text/plain": [
       "ID                       object\n",
       "Start_Date               object\n",
       "End_Date                 object\n",
       "Country                  object\n",
       "Location                 object\n",
       "Type                     object\n",
       "Sub_Type                 object\n",
       "Name                     object\n",
       "Killed                   object\n",
       "Affected                 object\n",
       "Cost                     object\n",
       "International_Support    object\n",
       "dtype: object"
      ]
     },
     "execution_count": 351,
     "metadata": {},
     "output_type": "execute_result"
    }
   ],
   "source": [
    "df.dtypes"
   ]
  },
  {
   "cell_type": "code",
   "execution_count": 352,
   "metadata": {
    "collapsed": true
   },
   "outputs": [],
   "source": [
    "#Change string to floats for numeric - allow for better analysis"
   ]
  },
  {
   "cell_type": "code",
   "execution_count": 353,
   "metadata": {
    "collapsed": true
   },
   "outputs": [],
   "source": [
    "df.Cost = df.Cost.astype(float)\n",
    "df.Affected = df.Affected.astype(float)\n",
    "df.Killed = df.Killed.astype(float)\n",
    "df.International_Support = df.International_Support.astype(float)"
   ]
  },
  {
   "cell_type": "code",
   "execution_count": null,
   "metadata": {
    "collapsed": true
   },
   "outputs": [],
   "source": []
  },
  {
   "cell_type": "markdown",
   "metadata": {
    "collapsed": true
   },
   "source": [
    "# Exploration"
   ]
  },
  {
   "cell_type": "code",
   "execution_count": 354,
   "metadata": {
    "collapsed": false
   },
   "outputs": [
    {
     "data": {
      "text/plain": [
       "count          17829\n",
       "unique         16944\n",
       "top        2002-0858\n",
       "freq              29\n",
       "Name: ID, dtype: object"
      ]
     },
     "execution_count": 354,
     "metadata": {},
     "output_type": "execute_result"
    }
   ],
   "source": [
    "df['ID'].describe() #understand number of records, number of unique ID's - same ID used for multiple rows."
   ]
  },
  {
   "cell_type": "code",
   "execution_count": 355,
   "metadata": {
    "collapsed": false
   },
   "outputs": [
    {
     "data": {
      "text/plain": [
       " 2002-0858    29\n",
       " 2005-0713    25\n",
       " 2003-0391    15\n",
       " 1980-9114    15\n",
       " 1990-0722    13\n",
       " 2007-0019    13\n",
       " 2004-0462    13\n",
       " 2007-0235    13\n",
       " 2005-0011    12\n",
       " 1989-0115    12\n",
       " 1990-0717    12\n",
       " 2004-0659    12\n",
       " 2004-0392    11\n",
       " 1990-0723    11\n",
       " 2005-0045    11\n",
       " 1990-9604    10\n",
       " 2007-0360    10\n",
       " 1940-9002     9\n",
       " 1910-9006     9\n",
       " 2006-0156     9\n",
       " 2004-0515     9\n",
       " 1999-9388     9\n",
       " 1983-9060     8\n",
       " 2008-0352     8\n",
       " 2005-0585     8\n",
       " 1990-0721     8\n",
       " 1969-9006     8\n",
       " 2008-0082     7\n",
       " 1981-9309     7\n",
       " 1999-0590     7\n",
       "              ..\n",
       " 1994-0323     1\n",
       " 1997-0497     1\n",
       " 1997-0496     1\n",
       " 1997-0499     1\n",
       " 1997-0498     1\n",
       " 1994-0321     1\n",
       " 1997-0365     1\n",
       " 1999-0558     1\n",
       " 1999-0559     1\n",
       " 1999-0556     1\n",
       " 1999-0554     1\n",
       " 1999-0555     1\n",
       " 1999-0552     1\n",
       " 1999-0553     1\n",
       " 1999-0551     1\n",
       " 1983-0208     1\n",
       " 1996-0355     1\n",
       " 1996-0354     1\n",
       " 1996-0357     1\n",
       " 1996-0356     1\n",
       " 1996-0351     1\n",
       " 1996-0350     1\n",
       " 1996-0353     1\n",
       " 1996-0352     1\n",
       " 1984-0153     1\n",
       " 1985-0299     1\n",
       " 1997-0112     1\n",
       " 1996-0359     1\n",
       " 1996-0358     1\n",
       " 1983-0005     1\n",
       "Name: ID, dtype: int64"
      ]
     },
     "execution_count": 355,
     "metadata": {},
     "output_type": "execute_result"
    }
   ],
   "source": [
    "df['ID'].value_counts() #Understand the number of ID's used, appears that natural disaster impacted number of locations with count of 29 for one disaster"
   ]
  },
  {
   "cell_type": "code",
   "execution_count": null,
   "metadata": {
    "collapsed": false
   },
   "outputs": [],
   "source": []
  },
  {
   "cell_type": "code",
   "execution_count": 356,
   "metadata": {
    "collapsed": false
   },
   "outputs": [
    {
     "data": {
      "text/plain": [
       "count         17829\n",
       "unique         9031\n",
       "top        00012000\n",
       "freq             29\n",
       "Name: Start_Date, dtype: object"
      ]
     },
     "execution_count": 356,
     "metadata": {},
     "output_type": "execute_result"
    }
   ],
   "source": [
    "df['Start_Date'].describe() "
   ]
  },
  {
   "cell_type": "code",
   "execution_count": null,
   "metadata": {
    "collapsed": true
   },
   "outputs": [],
   "source": []
  },
  {
   "cell_type": "code",
   "execution_count": null,
   "metadata": {
    "collapsed": true
   },
   "outputs": [],
   "source": []
  },
  {
   "cell_type": "code",
   "execution_count": 357,
   "metadata": {
    "collapsed": false
   },
   "outputs": [
    {
     "data": {
      "text/plain": [
       " 00012000    29\n",
       " 00072000    29\n",
       " 00011999    25\n",
       " 00072007    24\n",
       " 00001987    24\n",
       " 00001981    23\n",
       " 00062000    23\n",
       " 00012001    22\n",
       " 00012002    21\n",
       " 00001986    21\n",
       " 00052000    20\n",
       " 00012006    19\n",
       " 00032000    18\n",
       " 00082000    18\n",
       " 00072004    18\n",
       " 00072002    18\n",
       " 00001988    17\n",
       " 00011995    17\n",
       " 00001982    16\n",
       " 00011989    16\n",
       " 00001977    16\n",
       " 01012006    16\n",
       " 00031991    15\n",
       " 00082001    15\n",
       " 00001978    15\n",
       " 27122005    15\n",
       " 00001979    15\n",
       " 26122004    15\n",
       " 00092000    15\n",
       " 00001984    15\n",
       "             ..\n",
       " 02081968     1\n",
       " 01061986     1\n",
       " 18031985     1\n",
       " 09012005     1\n",
       " 11032000     1\n",
       " 01061988     1\n",
       " 06022006     1\n",
       " 28022006     1\n",
       " 27101959     1\n",
       " 06022003     1\n",
       " 23091955     1\n",
       " 17021969     1\n",
       " 18101977     1\n",
       " 30081996     1\n",
       " 30081993     1\n",
       " 06051975     1\n",
       " 25031939     1\n",
       " 20042007     1\n",
       " 20042001     1\n",
       " 20042000     1\n",
       " 14111984     1\n",
       " 20042002     1\n",
       " 31121986     1\n",
       " 00111953     1\n",
       " 31121984     1\n",
       " 00111951     1\n",
       " 00111957     1\n",
       " 00111954     1\n",
       " 18031981     1\n",
       " 25042006     1\n",
       "Name: Start_Date, dtype: int64"
      ]
     },
     "execution_count": 357,
     "metadata": {},
     "output_type": "execute_result"
    }
   ],
   "source": [
    "df['Start_Date'].value_counts()  #displays some of the values for the start date column - appears days/months are missing for some dates"
   ]
  },
  {
   "cell_type": "code",
   "execution_count": null,
   "metadata": {
    "collapsed": false
   },
   "outputs": [],
   "source": []
  },
  {
   "cell_type": "code",
   "execution_count": 358,
   "metadata": {
    "collapsed": false
   },
   "outputs": [
    {
     "data": {
      "text/plain": [
       "count         17829\n",
       "unique         9038\n",
       "top        00001983\n",
       "freq             37\n",
       "Name: End_Date, dtype: object"
      ]
     },
     "execution_count": 358,
     "metadata": {},
     "output_type": "execute_result"
    }
   ],
   "source": [
    "df['End_Date'].describe()  #non numeric"
   ]
  },
  {
   "cell_type": "code",
   "execution_count": 359,
   "metadata": {
    "collapsed": false
   },
   "outputs": [
    {
     "data": {
      "text/plain": [
       " 00001983    37\n",
       " 00001985    29\n",
       " 00001988    28\n",
       " 00002001    28\n",
       " 00001987    27\n",
       " 00012000    27\n",
       " 00072000    26\n",
       " 00002002    26\n",
       " 00072007    25\n",
       " 00001984    24\n",
       " 00001998    23\n",
       " 00001986    23\n",
       " 00002000    22\n",
       " 00001981    22\n",
       " 00001978    20\n",
       " 00062000    19\n",
       " 00001975    19\n",
       " 00072004    18\n",
       " 00001980    18\n",
       " 00001982    18\n",
       " 00001977    18\n",
       " 00012006    17\n",
       " 00001991    16\n",
       " 00011995    16\n",
       " 00082001    16\n",
       " 00011999    16\n",
       " 00001992    15\n",
       " 00012002    15\n",
       " 00001999    15\n",
       " 00072002    15\n",
       "             ..\n",
       " 31072007     1\n",
       " 11032005     1\n",
       " 16121920     1\n",
       " 19101928     1\n",
       " 11032004     1\n",
       " 18121939     1\n",
       " 02101987     1\n",
       " 30081993     1\n",
       " 30081991     1\n",
       " 30081996     1\n",
       " 18032001     1\n",
       " 06101996     1\n",
       " 08101952     1\n",
       " 30051979     1\n",
       " 22071976     1\n",
       " 22071972     1\n",
       " 18032006     1\n",
       " 18032005     1\n",
       " 18032002     1\n",
       " 28022007     1\n",
       " 30081994     1\n",
       " 30042005     1\n",
       " 01041994     1\n",
       " 00011965     1\n",
       " 28022002     1\n",
       " 27101959     1\n",
       " 00011960     1\n",
       " 23091955     1\n",
       " 17021969     1\n",
       " 26081996     1\n",
       "Name: End_Date, dtype: int64"
      ]
     },
     "execution_count": 359,
     "metadata": {},
     "output_type": "execute_result"
    }
   ],
   "source": [
    "df['End_Date'].value_counts()  #Understand the type of values in the End Date column - appears months/days are missing from some rows\n"
   ]
  },
  {
   "cell_type": "code",
   "execution_count": 360,
   "metadata": {
    "collapsed": false
   },
   "outputs": [
    {
     "data": {
      "text/plain": [
       "count     17829\n",
       "unique      232\n",
       "top       China\n",
       "freq       1304\n",
       "Name: Country, dtype: object"
      ]
     },
     "execution_count": 360,
     "metadata": {},
     "output_type": "execute_result"
    }
   ],
   "source": [
    "df['Country'].describe()  #describes number of countries in dataset - 212"
   ]
  },
  {
   "cell_type": "code",
   "execution_count": 361,
   "metadata": {
    "collapsed": false
   },
   "outputs": [
    {
     "data": {
      "text/plain": [
       "China                            1304\n",
       "India                            1169\n",
       "United States                    1038\n",
       "Philippines                       648\n",
       "Indonesia                         553\n",
       "Bangladesh                        457\n",
       "Nigeria                           368\n",
       "Japan                             339\n",
       "Pakistan                          316\n",
       "Iran Islam Rep                    314\n",
       "Mexico                            312\n",
       "Brazil                            307\n",
       "Russia                            275\n",
       "Turkey                            260\n",
       "Peru                              243\n",
       "South Africa                      222\n",
       "Australia                         221\n",
       "Viet Nam                          213\n",
       "Colombia                          209\n",
       "France                            207\n",
       "Canada                            196\n",
       "Thailand                          183\n",
       "Zaire/Congo Dem Rep               173\n",
       "Egypt                             172\n",
       "Italy                             168\n",
       "United Kingdom                    164\n",
       "Afghanistan                       163\n",
       "Korea Rep                         151\n",
       "Hong Kong (China)                 146\n",
       "Kenya                             145\n",
       "                                 ... \n",
       "Tuvalu                              6\n",
       "Virgin Is (US)                      6\n",
       "Niue                                6\n",
       "American Samoa                      6\n",
       "Netherlands Antilles                5\n",
       "Bahrain                             5\n",
       "Seychelles                          5\n",
       "Sao Tome et Principe                5\n",
       "Estonia                             4\n",
       "Palestine (West Bank)               4\n",
       "Kiribati                            4\n",
       "Wallis and Futuna Is                3\n",
       "Turkmenistan                        3\n",
       "Marshall Is                         3\n",
       "Serbia                              2\n",
       "Timor-Leste                         2\n",
       "Kuwait                              2\n",
       "Virgin Is (UK)                      2\n",
       "Palau                               1\n",
       "Wallis                              1\n",
       "United Stats                        1\n",
       "Northern Mariana Is                 1\n",
       "Brunei Darussalam                   1\n",
       "Mayotte                             1\n",
       "St Helena                           1\n",
       "Montenegro                          1\n",
       "St Vincent and the Grenadines       1\n",
       "French Guiana                       1\n",
       "                                    1\n",
       "Chine                               1\n",
       "Name: Country, dtype: int64"
      ]
     },
     "execution_count": 361,
     "metadata": {},
     "output_type": "execute_result"
    }
   ],
   "source": [
    "df[\"Country\"].value_counts() #understand which countries involved in disaster - appears China/India/US has high number of disasters"
   ]
  },
  {
   "cell_type": "code",
   "execution_count": null,
   "metadata": {
    "collapsed": true
   },
   "outputs": [],
   "source": []
  },
  {
   "cell_type": "code",
   "execution_count": 362,
   "metadata": {
    "collapsed": false
   },
   "outputs": [
    {
     "data": {
      "text/plain": [
       "count     17829\n",
       "unique    12846\n",
       "top         nan\n",
       "freq       2360\n",
       "Name: Location, dtype: object"
      ]
     },
     "execution_count": 362,
     "metadata": {},
     "output_type": "execute_result"
    }
   ],
   "source": [
    "df['Location'].describe()  #Understand all the unique locations."
   ]
  },
  {
   "cell_type": "code",
   "execution_count": 363,
   "metadata": {
    "collapsed": false
   },
   "outputs": [
    {
     "data": {
      "text/plain": [
       "nan                              2360\n",
       "North                              69\n",
       "South                              56\n",
       "Countrywide                        34\n",
       "Uttar Pradesh                      32\n",
       "Central                            30\n",
       "Lagos                              24\n",
       "Texas                              23\n",
       "Nationwide                         22\n",
       "Yunnan province                    22\n",
       "Andhra Pradesh                     21\n",
       "Northern                           21\n",
       "Shanxi province                    20\n",
       "California                         19\n",
       "Bangkok                            19\n",
       "Sichuan province                   16\n",
       "New York                           16\n",
       "Karachi                            16\n",
       "Chittagong                         16\n",
       "New Delhi                          16\n",
       "West                               16\n",
       "Tamil Nadu                         15\n",
       "Cairo                              15\n",
       "Jakarta                            15\n",
       "Hunan province                     14\n",
       "East                               14\n",
       "Florida                            14\n",
       "Rio de Janeiro                     14\n",
       "Southern                           14\n",
       "Bombay                             14\n",
       "                                 ... \n",
       "Khulna, Chittagong                  1\n",
       "Sinaloa state                       1\n",
       "Kapalata Camp (Haut-Zaire ...       1\n",
       "Xingzi (Guangdong provinc ...       1\n",
       "Mt. Etna, Catania (Sicily ...       1\n",
       "Xenia (Greene county, Ohi ...       1\n",
       "Guyang county (Inner Mong ...       1\n",
       "Moscow, Volga Region, Nor ...       1\n",
       "Miroslawiec                         1\n",
       "Coahuila, Durango, Chihua ...       1\n",
       "Batang district (Java Isl ...       1\n",
       "Wsahington, Oregon                  1\n",
       "Sokoto, Kebbi, Kaduna, Ba ...       1\n",
       "Jiexiu municipality (Shan ...       1\n",
       "Near Yengema                        1\n",
       "Zuarinagar (Goa state)              1\n",
       "Ashmore Isl.                        1\n",
       "Alagoas, Pernambouc, Reci ...       1\n",
       "Karonga district                    1\n",
       "Cebu Isl.                           1\n",
       "Punco                               1\n",
       "New York City                       1\n",
       "Rangpur, Dinadjpur distri ...       1\n",
       "Kyushu, Honshu                      1\n",
       "Maheshkhali Isl. Level 1  ...       1\n",
       "Boyolali, Klaten, Magelan ...       1\n",
       "Red Sea, Guld of Aden               1\n",
       "Asuncion, Concepcion                1\n",
       "Kailash river                       1\n",
       "Puntland, Bari, Nugal, Mu ...       1\n",
       "Name: Location, dtype: int64"
      ]
     },
     "execution_count": 363,
     "metadata": {},
     "output_type": "execute_result"
    }
   ],
   "source": [
    "df[\"Location\"].value_counts() #Provide overview of Locations and NAN values."
   ]
  },
  {
   "cell_type": "code",
   "execution_count": 364,
   "metadata": {
    "collapsed": false
   },
   "outputs": [
    {
     "data": {
      "text/plain": [
       "count                  17829\n",
       "unique                    18\n",
       "top       Transport Accident\n",
       "freq                    4155\n",
       "Name: Type, dtype: object"
      ]
     },
     "execution_count": 364,
     "metadata": {},
     "output_type": "execute_result"
    }
   ],
   "source": [
    "df['Type'].describe()  #Identify number of disaster types."
   ]
  },
  {
   "cell_type": "code",
   "execution_count": 365,
   "metadata": {
    "collapsed": false
   },
   "outputs": [
    {
     "data": {
      "text/plain": [
       "Transport Accident               4155\n",
       "Flood                            3512\n",
       "Storm                            3207\n",
       "Industrial Accident              1190\n",
       "Epidemic                         1179\n",
       "Miscellaneous accident           1133\n",
       "Earthquake (seismic activity)    1120\n",
       "Drought                           561\n",
       "Mass movement wet                 505\n",
       "Extreme temperature               361\n",
       "Wildfire                          340\n",
       "Volcano                           211\n",
       "Transport accident                196\n",
       "Insect infestation                 83\n",
       "Mass movement dry                  48\n",
       "Mass Movement Wet                  12\n",
       "Complex Disasters                  12\n",
       "Mass Movement Dry                   4\n",
       "Name: Type, dtype: int64"
      ]
     },
     "execution_count": 365,
     "metadata": {},
     "output_type": "execute_result"
    }
   ],
   "source": [
    "df[\"Type\"].value_counts() #Frequency of disaster type observations."
   ]
  },
  {
   "cell_type": "code",
   "execution_count": 366,
   "metadata": {
    "collapsed": false
   },
   "outputs": [
    {
     "data": {
      "text/plain": [
       "count     17829\n",
       "unique       48\n",
       "top         nan\n",
       "freq       2304\n",
       "Name: Sub_Type, dtype: object"
      ]
     },
     "execution_count": 366,
     "metadata": {},
     "output_type": "execute_result"
    }
   ],
   "source": [
    "df['Sub_Type'].describe() "
   ]
  },
  {
   "cell_type": "code",
   "execution_count": null,
   "metadata": {
    "collapsed": true
   },
   "outputs": [],
   "source": []
  },
  {
   "cell_type": "code",
   "execution_count": 367,
   "metadata": {
    "collapsed": false
   },
   "outputs": [
    {
     "data": {
      "text/plain": [
       "nan                                     2304\n",
       "Road                                    1939\n",
       "Tropical cyclone                        1729\n",
       "General flood                           1588\n",
       "Earthquake (ground shaking)             1072\n",
       "Water                                    992\n",
       "Air                                      886\n",
       "Explosion                                782\n",
       "Fire                                     731\n",
       "Bacterial Infectious Diseases            637\n",
       "Local storm                              586\n",
       "Drought                                  561\n",
       "Rail                                     532\n",
       "Landslide                                468\n",
       "Flash flood                              393\n",
       "Viral Infectious Diseases                353\n",
       "Collapse                                 318\n",
       "Other                                    261\n",
       "Forest fire                              240\n",
       "Volcanic eruption                        211\n",
       "Cold wave                                170\n",
       "Heat wave                                149\n",
       "General Flood                            134\n",
       "Chemical Spill                           103\n",
       "Scrub/grassland fire                      92\n",
       "Avalanche                                 89\n",
       "Storm surge/coastal flood                 74\n",
       "Poisoning                                 70\n",
       "Parasitic Infectious Diseases             49\n",
       "Extratropical cyclone                     48\n",
       "Gas Leak                                  47\n",
       "Tsunami                                   46\n",
       "Locust                                    46\n",
       "Extreme winter conditions                 41\n",
       "Flash Flood                               25\n",
       "Grasshopper                               16\n",
       "Radiation                                  9\n",
       "Famine                                     8\n",
       "Rockfall                                   7\n",
       "Storm surge/coastal Flood                  6\n",
       "Grasshopper/Locust                         6\n",
       "Extratropical cyclone (winter storm)       2\n",
       "Debris flow                                2\n",
       "Oil Spill                                  2\n",
       "Subsidence                                 2\n",
       "General flood/Mudslide                     1\n",
       "Cold Wave                                  1\n",
       "Bush/Brush fire                            1\n",
       "Name: Sub_Type, dtype: int64"
      ]
     },
     "execution_count": 367,
     "metadata": {},
     "output_type": "execute_result"
    }
   ],
   "source": [
    "df[\"Sub_Type\"].value_counts()"
   ]
  },
  {
   "cell_type": "code",
   "execution_count": null,
   "metadata": {
    "collapsed": true
   },
   "outputs": [],
   "source": []
  },
  {
   "cell_type": "code",
   "execution_count": 368,
   "metadata": {
    "collapsed": false
   },
   "outputs": [
    {
     "data": {
      "text/plain": [
       "count     17829\n",
       "unique     2605\n",
       "top         nan\n",
       "freq      12176\n",
       "Name: Name, dtype: object"
      ]
     },
     "execution_count": 368,
     "metadata": {},
     "output_type": "execute_result"
    }
   ],
   "source": [
    "df['Name'].describe() "
   ]
  },
  {
   "cell_type": "code",
   "execution_count": 369,
   "metadata": {
    "collapsed": false
   },
   "outputs": [
    {
     "data": {
      "text/plain": [
       "nan                                  12176\n",
       "Cholera                                377\n",
       "Coal mine                              347\n",
       "Mine                                    79\n",
       "Building                                72\n",
       "Ferry                                   67\n",
       "Meningococcal disease                   58\n",
       "Factory                                 42\n",
       "Helicopter                              36\n",
       "Bridge                                  33\n",
       "Dengue fever                            32\n",
       "Hotel                                   32\n",
       "Fireworks factory                       31\n",
       "Acute respiratory syndrome (SARS)       29\n",
       "Dam                                     28\n",
       "Yellow fever                            28\n",
       "Dengue                                  26\n",
       "Acute watery diarrhoeal syndrome        24\n",
       "Boeing 737                              24\n",
       "Gold mine                               23\n",
       "Locust                                  22\n",
       "Food poisoning                          21\n",
       "Oil pipeline                            17\n",
       "Prison                                  15\n",
       "Douglas DC-3                            14\n",
       "Ivan                                    14\n",
       "Football stadium                        14\n",
       "Acute diarrhoeal syndrome               14\n",
       "Grasshopper                             14\n",
       "House                                   14\n",
       "                                     ...  \n",
       "Biring                                   1\n",
       "Acute watery  diarrhoeal syndrome        1\n",
       "Usagi                                    1\n",
       "Meli                                     1\n",
       "Lupit                                    1\n",
       "Chalutier 'Bolama'                       1\n",
       "Jan                                      1\n",
       "Hand foot and mouth disease              1\n",
       "Fili & Gina                              1\n",
       "Liga de Ore mine                         1\n",
       "Caravelle                                1\n",
       "Slaughterhouse                           1\n",
       "Retirement home                          1\n",
       "Iliouchine-38                            1\n",
       "Tupolev-Tu 154M                          1\n",
       "(Ditang)                                 1\n",
       "Cerebrospinal meningitis                 1\n",
       "Dzud                                     1\n",
       "02B                                      1\n",
       "Military jet                             1\n",
       "Marburg virus disease                    1\n",
       "Naval ammunition depot                   1\n",
       "Ferry 'Toya Maru'                        1\n",
       "2-A                                      1\n",
       "Electra 188                              1\n",
       "Val                                      1\n",
       "Mi-8 helicopter                          1\n",
       "Usine                                    1\n",
       "Grace                                    1\n",
       "Rotavirus                                1\n",
       "Name: Name, dtype: int64"
      ]
     },
     "execution_count": 369,
     "metadata": {},
     "output_type": "execute_result"
    }
   ],
   "source": [
    "df[\"Name\"].value_counts()"
   ]
  },
  {
   "cell_type": "code",
   "execution_count": null,
   "metadata": {
    "collapsed": false
   },
   "outputs": [],
   "source": []
  },
  {
   "cell_type": "code",
   "execution_count": 370,
   "metadata": {
    "collapsed": false
   },
   "outputs": [
    {
     "data": {
      "text/plain": [
       "count    1.782900e+04\n",
       "mean     2.133963e+03\n",
       "std      6.660385e+04\n",
       "min      0.000000e+00\n",
       "25%      2.000000e+00\n",
       "50%      1.600000e+01\n",
       "75%      4.300000e+01\n",
       "max      5.000000e+06\n",
       "Name: Killed, dtype: float64"
      ]
     },
     "execution_count": 370,
     "metadata": {},
     "output_type": "execute_result"
    }
   ],
   "source": [
    "df['Killed'].describe() #As Numeric fields, Describe should give some brief info - mean, etc"
   ]
  },
  {
   "cell_type": "code",
   "execution_count": null,
   "metadata": {
    "collapsed": true
   },
   "outputs": [],
   "source": []
  },
  {
   "cell_type": "code",
   "execution_count": 371,
   "metadata": {
    "collapsed": false
   },
   "outputs": [
    {
     "data": {
      "text/plain": [
       "count     17829.000000\n",
       "mean        103.406329\n",
       "std        1569.207358\n",
       "min           0.000000\n",
       "25%           0.000000\n",
       "50%           0.000000\n",
       "75%           0.000000\n",
       "max      125000.000000\n",
       "Name: Cost, dtype: float64"
      ]
     },
     "execution_count": 371,
     "metadata": {},
     "output_type": "execute_result"
    }
   ],
   "source": [
    "df['Cost'].describe()  #As Numeric fields, Describe should give some brief info - mean, etc"
   ]
  },
  {
   "cell_type": "code",
   "execution_count": 372,
   "metadata": {
    "collapsed": false
   },
   "outputs": [
    {
     "data": {
      "text/plain": [
       "count    1.782900e+04\n",
       "mean     3.473482e+05\n",
       "std      5.487540e+06\n",
       "min      0.000000e+00\n",
       "25%      0.000000e+00\n",
       "50%      3.400000e+01\n",
       "75%      3.000000e+03\n",
       "max      3.000000e+08\n",
       "Name: Affected, dtype: float64"
      ]
     },
     "execution_count": 372,
     "metadata": {},
     "output_type": "execute_result"
    }
   ],
   "source": [
    "df['Affected'].describe()  #As Numeric fields, Describe should give some brief info - mean, etc"
   ]
  },
  {
   "cell_type": "code",
   "execution_count": 373,
   "metadata": {
    "collapsed": false
   },
   "outputs": [
    {
     "data": {
      "text/plain": [
       "count    17829.000000\n",
       "mean       488.863800\n",
       "std        593.420159\n",
       "min          0.000000\n",
       "25%          0.000000\n",
       "50%          0.000000\n",
       "75%       1032.552000\n",
       "max       2801.773000\n",
       "Name: International_Support, dtype: float64"
      ]
     },
     "execution_count": 373,
     "metadata": {},
     "output_type": "execute_result"
    }
   ],
   "source": [
    "df['International_Support'].describe()  #As Numeric fields, Describe should give some brief info - mean, etc"
   ]
  },
  {
   "cell_type": "code",
   "execution_count": null,
   "metadata": {
    "collapsed": true
   },
   "outputs": [],
   "source": []
  },
  {
   "cell_type": "code",
   "execution_count": null,
   "metadata": {
    "collapsed": true
   },
   "outputs": [],
   "source": []
  },
  {
   "cell_type": "markdown",
   "metadata": {},
   "source": [
    "# Graphs, Analysis"
   ]
  },
  {
   "cell_type": "code",
   "execution_count": 374,
   "metadata": {
    "collapsed": false
   },
   "outputs": [],
   "source": [
    "import matplotlib.pyplot as plt\n",
    "%matplotlib inline"
   ]
  },
  {
   "cell_type": "code",
   "execution_count": null,
   "metadata": {
    "collapsed": false
   },
   "outputs": [],
   "source": []
  },
  {
   "cell_type": "markdown",
   "metadata": {},
   "source": [
    "# 1. Scatterplot Killed/International Support"
   ]
  },
  {
   "cell_type": "code",
   "execution_count": 375,
   "metadata": {
    "collapsed": false
   },
   "outputs": [
    {
     "data": {
      "text/plain": [
       "<matplotlib.text.Text at 0x1a4c887d0>"
      ]
     },
     "execution_count": 375,
     "metadata": {},
     "output_type": "execute_result"
    },
    {
     "data": {
      "image/png": "[encoded data removed]",
      "text/plain": [
       "<matplotlib.figure.Figure at 0x1a5282890>"
      ]
     },
     "metadata": {},
     "output_type": "display_data"
    }
   ],
   "source": [
    "plt.scatter(df['Killed'], df['International_Support'])\n",
    "plt.xlabel('Killed')\n",
    "plt.ylabel('International_support')"
   ]
  },
  {
   "cell_type": "code",
   "execution_count": null,
   "metadata": {
    "collapsed": false
   },
   "outputs": [],
   "source": []
  },
  {
   "cell_type": "markdown",
   "metadata": {},
   "source": [
    "# 2. Scatterplot - Affected/International Support"
   ]
  },
  {
   "cell_type": "code",
   "execution_count": 376,
   "metadata": {
    "collapsed": false
   },
   "outputs": [
    {
     "data": {
      "text/plain": [
       "<matplotlib.text.Text at 0x1a4d8e150>"
      ]
     },
     "execution_count": 376,
     "metadata": {},
     "output_type": "execute_result"
    },
    {
     "data": {
      "image/png": "[encoded data removed]",
      "text/plain": [
       "<matplotlib.figure.Figure at 0x1a4d6edd0>"
      ]
     },
     "metadata": {},
     "output_type": "display_data"
    }
   ],
   "source": [
    "%matplotlib inline\n",
    "plt.scatter(df['Affected'], df['International_Support'])\n",
    "plt.xlabel('Affected')\n",
    "plt.ylabel('International Support')"
   ]
  },
  {
   "cell_type": "markdown",
   "metadata": {},
   "source": [
    "# 3. Scatterplot - Affected/Cost"
   ]
  },
  {
   "cell_type": "code",
   "execution_count": 377,
   "metadata": {
    "collapsed": false
   },
   "outputs": [
    {
     "data": {
      "text/plain": [
       "<matplotlib.text.Text at 0x1a4e52c90>"
      ]
     },
     "execution_count": 377,
     "metadata": {},
     "output_type": "execute_result"
    },
    {
     "data": {
      "image/png": "[encoded data removed]",
      "text/plain": [
       "<matplotlib.figure.Figure at 0x1a4d6ed50>"
      ]
     },
     "metadata": {},
     "output_type": "display_data"
    }
   ],
   "source": [
    "%matplotlib inline\n",
    "plt.scatter(df['Affected'], df['Cost'])\n",
    "plt.xlabel('Affected')\n",
    "plt.ylabel('Cost')"
   ]
  },
  {
   "cell_type": "markdown",
   "metadata": {},
   "source": [
    "# 4. Scatterplot - Killed/Cost "
   ]
  },
  {
   "cell_type": "code",
   "execution_count": 378,
   "metadata": {
    "collapsed": false
   },
   "outputs": [
    {
     "data": {
      "text/plain": [
       "<matplotlib.text.Text at 0x1a4ce7a50>"
      ]
     },
     "execution_count": 378,
     "metadata": {},
     "output_type": "execute_result"
    },
    {
     "data": {
      "image/png": "[encoded data removed]",
      "text/plain": [
       "<matplotlib.figure.Figure at 0x1a4d6e7d0>"
      ]
     },
     "metadata": {},
     "output_type": "display_data"
    }
   ],
   "source": [
    "%matplotlib inline\n",
    "\n",
    "plt.scatter(df['Killed'], df['Cost'])\n",
    "plt.xlabel('Killed')\n",
    "plt.ylabel('Cost')"
   ]
  },
  {
   "cell_type": "markdown",
   "metadata": {
    "collapsed": true
   },
   "source": [
    "# 5. Barchart - Type of Disaster"
   ]
  },
  {
   "cell_type": "code",
   "execution_count": 379,
   "metadata": {
    "collapsed": false
   },
   "outputs": [
    {
     "data": {
      "text/plain": [
       "<matplotlib.axes._subplots.AxesSubplot at 0x1a3e11450>"
      ]
     },
     "execution_count": 379,
     "metadata": {},
     "output_type": "execute_result"
    },
    {
     "data": {
      "image/png": "[encoded data removed]",
      "text/plain": [
       "<matplotlib.figure.Figure at 0x1a51f4910>"
      ]
     },
     "metadata": {},
     "output_type": "display_data"
    }
   ],
   "source": [
    "fig, ax = plt.subplots()\n",
    "df['Type'].value_counts().plot(ax=ax, kind='bar')"
   ]
  },
  {
   "cell_type": "markdown",
   "metadata": {},
   "source": [
    "# 6. Barchart - Subtype of Disaster"
   ]
  },
  {
   "cell_type": "code",
   "execution_count": 380,
   "metadata": {
    "collapsed": false
   },
   "outputs": [
    {
     "data": {
      "text/plain": [
       "<matplotlib.axes._subplots.AxesSubplot at 0x1a51ea450>"
      ]
     },
     "execution_count": 380,
     "metadata": {},
     "output_type": "execute_result"
    },
    {
     "data": {
      "image/png": "[encoded data removed]",
      "text/plain": [
       "<matplotlib.figure.Figure at 0x1a5216210>"
      ]
     },
     "metadata": {},
     "output_type": "display_data"
    }
   ],
   "source": [
    "fig, ax = plt.subplots()\n",
    "df['Sub_Type'].value_counts().plot(ax=ax, kind='bar')"
   ]
  },
  {
   "cell_type": "code",
   "execution_count": null,
   "metadata": {
    "collapsed": true
   },
   "outputs": [],
   "source": []
  },
  {
   "cell_type": "code",
   "execution_count": null,
   "metadata": {
    "collapsed": true
   },
   "outputs": [],
   "source": []
  },
  {
   "cell_type": "code",
   "execution_count": null,
   "metadata": {
    "collapsed": true
   },
   "outputs": [],
   "source": []
  },
  {
   "cell_type": "markdown",
   "metadata": {
    "collapsed": true
   },
   "source": [
    "# Task 3: Saving data"
   ]
  },
  {
   "cell_type": "code",
   "execution_count": 381,
   "metadata": {
    "collapsed": false
   },
   "outputs": [],
   "source": [
    "df.to_csv('27347885_parsed_data.csv')"
   ]
  }
 ],
 "metadata": {
  "kernelspec": {
   "display_name": "Python 2",
   "language": "python",
   "name": "python2"
  },
  "language_info": {
   "codemirror_mode": {
    "name": "ipython",
    "version": 2
   },
   "file_extension": ".py",
   "mimetype": "text/x-python",
   "name": "python",
   "nbconvert_exporter": "python",
   "pygments_lexer": "ipython2",
   "version": "2.7.11"
  }
 },
 "nbformat": 4,
 "nbformat_minor": 0
}
