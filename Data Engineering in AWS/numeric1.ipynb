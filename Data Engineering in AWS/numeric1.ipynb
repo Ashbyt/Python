{
 "cells": [
  {
   "cell_type": "code",
   "execution_count": 5,
   "id": "5f9bced9-ea4c-4fa3-857b-75dc14dd4c74",
   "metadata": {},
   "outputs": [],
   "source": [
    "class color:\n",
    "    PURPLE = '\\0033[95m'\n",
    "    CYAN = '\\033[96m'\n",
    "    DARKCYAN = '\\033[36m'\n",
    "    BLUE = '\\033[94'\n",
    "    GREEN = '\\033[92m'\n",
    "    YELLOW = '\\033[93m'\n",
    "    RED = '\\033[91m'\n",
    "    BOLD = '\\033[1m'\n",
    "    \n",
    "    UNDERLINE = '\\033[4m'\n",
    "    END = '\\033[0m'\n",
    "\n",
    "import pandas as pd\n",
    "import numpy as np"
   ]
  },
  {
   "cell_type": "code",
   "execution_count": 15,
   "id": "0e09a23d-0835-4d01-8d5b-7cbcdf8b8614",
   "metadata": {},
   "outputs": [
    {
     "name": "stdout",
     "output_type": "stream",
     "text": [
      "\u001b[1m\u00033[95m\n",
      "Data before normalisation\u001b[0m\n",
      "   Column1  Column2  Column3  Column4\n",
      "0    99999        2        0        9\n",
      "1       35        8        4        7\n",
      "2       27       23        1       99\n"
     ]
    }
   ],
   "source": [
    "data = np.array([[99999, 2, 0, 9], [35,8,4,7],[27,23,1,99]])\n",
    "data_raw = pd.DataFrame({'Column1': data[: , 0], 'Column2': data[:, 1], 'Column3': data[:, 2], 'Column4': data[:, 3]})\n",
    "print(color.BOLD + color.\n",
    "      PURPLE + \"\\nData before normalisation\" + color.END)\n",
    "print(data_raw)\n",
    "from sklearn import preprocessing\n",
    "normalized_data = preprocessing.normalize(data)\n",
    "                         "
   ]
  },
  {
   "cell_type": "code",
   "execution_count": 21,
   "id": "ab39a2bf-26df-44a4-963c-63d726cb1dba",
   "metadata": {},
   "outputs": [
    {
     "name": "stdout",
     "output_type": "stream",
     "text": [
      "    Column1   Column2   Column3   Column4\n",
      "0  1.000000  0.000020  0.000000  0.000090\n",
      "1  0.951171  0.217411  0.108705  0.190234\n",
      "2  0.256736  0.218701  0.009509  0.941364\n"
     ]
    }
   ],
   "source": [
    "dataset = pd.DataFrame({'Column1': normalized_data[:, 0], 'Column2': normalized_data[:, 1], 'Column3': normalized_data[:, 2], 'Column4': normalized_data[:, 3]})\n",
    "print(dataset)\n"
   ]
  },
  {
   "cell_type": "code",
   "execution_count": 53,
   "id": "f390585c-6308-4030-b342-b9503a68dc3f",
   "metadata": {},
   "outputs": [
    {
     "name": "stdout",
     "output_type": "stream",
     "text": [
      "\u001b[1m\u00033[95m\n",
      "Data before standardisation\u001b[0m\n",
      "   Column1  Column2  Column3  Column4\n",
      "0    99999        2        0        9\n",
      "1       35        8        4        7\n",
      "2       27       23        1       99\n",
      "\u001b[1m\u00033[95m\n",
      "Data after standardisation\u001b[0m\n",
      "    Column1   Column2   Column3   Column4\n",
      "0  1.414214 -1.019049 -0.980581 -0.683672\n",
      "1 -0.707022 -0.339683  1.372813 -0.730286\n",
      "2 -0.707192  1.358732 -0.392232  1.413957\n"
     ]
    }
   ],
   "source": [
    "#standardisation\n",
    "from sklearn.preprocessing import StandardScaler\n",
    "data = np.array([[99999, 2, 0, 9], [35,8,4,7],[27,23,1,99]])\n",
    "data_raw = pd.DataFrame({'Column1': data[: , 0], 'Column2': data[:, 1], 'Column3': data[:, 2], 'Column4': data[:, 3]})\n",
    "print(color.BOLD + color.PURPLE + \"\\nData before standardisation\" + color.END)\n",
    "print(data_raw)\n",
    "standardized_data = StandardScaler().fit_transform(data_raw)\n",
    "dataset =  pd.DataFrame({'Column1': standardized_data[:, 0], 'Column2': standardized_data[:, 1], 'Column3': standardized_data[:, 2], 'Column4': standardized_data[:, 3] })\n",
    "print(color.BOLD + color.PURPLE + \"\\nData after standardisation\" + color.END)\n",
    "print(dataset)"
   ]
  },
  {
   "cell_type": "code",
   "execution_count": 75,
   "id": "2dbbb0d9-639c-48b1-8bd4-1462884b52c4",
   "metadata": {},
   "outputs": [
    {
     "name": "stdout",
     "output_type": "stream",
     "text": [
      "\u001b[1m\u00033[95m\n",
      "Country by regions\u001b[0m\n"
     ]
    },
    {
     "data": {
      "text/html": [
       "<div>\n",
       "<style scoped>\n",
       "    .dataframe tbody tr th:only-of-type {\n",
       "        vertical-align: middle;\n",
       "    }\n",
       "\n",
       "    .dataframe tbody tr th {\n",
       "        vertical-align: top;\n",
       "    }\n",
       "\n",
       "    .dataframe thead th {\n",
       "        text-align: right;\n",
       "    }\n",
       "</style>\n",
       "<table border=\"1\" class=\"dataframe\">\n",
       "  <thead>\n",
       "    <tr style=\"text-align: right;\">\n",
       "      <th></th>\n",
       "      <th>Countries</th>\n",
       "      <th>Grouped Countries</th>\n",
       "    </tr>\n",
       "  </thead>\n",
       "  <tbody>\n",
       "    <tr>\n",
       "      <th>0</th>\n",
       "      <td>United States</td>\n",
       "      <td>North America</td>\n",
       "    </tr>\n",
       "    <tr>\n",
       "      <th>1</th>\n",
       "      <td>Canada</td>\n",
       "      <td>North America</td>\n",
       "    </tr>\n",
       "    <tr>\n",
       "      <th>2</th>\n",
       "      <td>Spain</td>\n",
       "      <td>Europe</td>\n",
       "    </tr>\n",
       "    <tr>\n",
       "      <th>3</th>\n",
       "      <td>Italy</td>\n",
       "      <td>Europe</td>\n",
       "    </tr>\n",
       "    <tr>\n",
       "      <th>4</th>\n",
       "      <td>Chile</td>\n",
       "      <td>South Amercia</td>\n",
       "    </tr>\n",
       "    <tr>\n",
       "      <th>5</th>\n",
       "      <td>Brazil</td>\n",
       "      <td>South Amercia</td>\n",
       "    </tr>\n",
       "    <tr>\n",
       "      <th>6</th>\n",
       "      <td>North Korea</td>\n",
       "      <td>Asia</td>\n",
       "    </tr>\n",
       "    <tr>\n",
       "      <th>7</th>\n",
       "      <td>Vietnam</td>\n",
       "      <td>Asia</td>\n",
       "    </tr>\n",
       "    <tr>\n",
       "      <th>8</th>\n",
       "      <td>Thailand</td>\n",
       "      <td>Asia</td>\n",
       "    </tr>\n",
       "    <tr>\n",
       "      <th>9</th>\n",
       "      <td>Malaysia</td>\n",
       "      <td>other</td>\n",
       "    </tr>\n",
       "    <tr>\n",
       "      <th>10</th>\n",
       "      <td>Mayanmar</td>\n",
       "      <td>Asia</td>\n",
       "    </tr>\n",
       "    <tr>\n",
       "      <th>11</th>\n",
       "      <td>Iceland</td>\n",
       "      <td>North America</td>\n",
       "    </tr>\n",
       "    <tr>\n",
       "      <th>12</th>\n",
       "      <td>Germany</td>\n",
       "      <td>Europe</td>\n",
       "    </tr>\n",
       "    <tr>\n",
       "      <th>13</th>\n",
       "      <td>Cuba</td>\n",
       "      <td>other</td>\n",
       "    </tr>\n",
       "    <tr>\n",
       "      <th>14</th>\n",
       "      <td>Mexico</td>\n",
       "      <td>North America</td>\n",
       "    </tr>\n",
       "  </tbody>\n",
       "</table>\n",
       "</div>"
      ],
      "text/plain": [
       "        Countries Grouped Countries\n",
       "0   United States     North America\n",
       "1          Canada     North America\n",
       "2           Spain            Europe\n",
       "3           Italy            Europe\n",
       "4           Chile     South Amercia\n",
       "5          Brazil     South Amercia\n",
       "6     North Korea              Asia\n",
       "7         Vietnam              Asia\n",
       "8        Thailand              Asia\n",
       "9        Malaysia             other\n",
       "10       Mayanmar              Asia\n",
       "11        Iceland     North America\n",
       "12        Germany            Europe\n",
       "13           Cuba             other\n",
       "14         Mexico     North America"
      ]
     },
     "execution_count": 75,
     "metadata": {},
     "output_type": "execute_result"
    }
   ],
   "source": [
    "#categorical binning example\n",
    "countries = pd.Series([\n",
    "'United States','Canada', 'Spain', 'Italy', 'Chile', 'Brazil', 'North Korea', 'Vietnam', 'Thailand', 'Malaysia', 'Mayanmar', 'Iceland', 'Germany', 'Cuba', 'Mexico'], name=\"Countries\")\n",
    "groups = {\n",
    "'North America': ('United States', 'Canada', 'Iceland', 'Greenland', 'Mexico'),\n",
    "'Europe': ('France', 'Germany', 'United Kingdom', 'Belgium', 'Spain', 'Italy', 'Poland' ),\n",
    "'South Amercia': ('Chile', 'Brazil', 'Peru', 'Columbia', 'Equador' ),\n",
    "'Asia' : ('North Korea', 'Vietnam', 'Thailand', 'Malyasia', 'Mayanmar')\n",
    "    }\n",
    "from typing import Any\n",
    "\n",
    "def country_group_map(series: pd.Series, groups: dict, othervalue: Any=-1) -> pd.Series:\n",
    "\n",
    "    groups = {z: j for j, r in groups.items() for z in r}\n",
    "    return series.map(groups).fillna(othervalue)\n",
    "    \n",
    "\n",
    "grouped_countries = country_group_map(countries, groups, othervalue='other')\n",
    "df = pd.concat([countries.rename('Countries'), grouped_countries.rename('Grouped Countries')], axis=1)\n",
    "\n",
    "print(color.BOLD + color.PURPLE + \"\\nCountry by regions\" + color.END)\n",
    "df\n",
    "\n",
    "\n",
    "    \n"
   ]
  }
 ],
 "metadata": {
  "kernelspec": {
   "display_name": "Python 3 (ipykernel)",
   "language": "python",
   "name": "python3"
  },
  "language_info": {
   "codemirror_mode": {
    "name": "ipython",
    "version": 3
   },
   "file_extension": ".py",
   "mimetype": "text/x-python",
   "name": "python",
   "nbconvert_exporter": "python",
   "pygments_lexer": "ipython3",
   "version": "3.12.2"
  }
 },
 "nbformat": 4,
 "nbformat_minor": 5
}
