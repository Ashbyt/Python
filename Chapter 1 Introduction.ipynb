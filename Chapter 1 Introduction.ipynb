{
 "cells": [
  {
   "cell_type": "markdown",
   "metadata": {},
   "source": [
    "## Module 3: Chapter 1 Activity :\n",
    "\n",
    "### The data cleansing process\n",
    "\n",
    "In this activity, we will follow the cleansing process steps using real data of 'Sin City'. The data file 'SinCity.osm' has to be at the same directory of the IPython Notebook to run this activity successfully. Open Street map (.osm) files https://www.openstreetmap.org/ are coded in XML, and contain geographic data in a structured and ordered format. \n",
    "\n",
    "#### Audit data:\n",
    "Our aim in this activity is to perform the actual cleansing for street information in SinCity data. The first task is to open and explore the raw data using the followong code:\n"
   ]
  },
  {
   "cell_type": "code",
   "execution_count": 2,
   "metadata": {
    "collapsed": false
   },
   "outputs": [
    {
     "data": {
      "text/plain": [
       "['<?xml version=\"1.0\" encoding=\"UTF-8\"?>\\n',\n",
       " '<osm version=\"0.6\" generator=\"CGImap 0.3.3 (28791 thorn-03.openstreetmap.org)\" copyright=\"OpenStreetMap and contributors\" attribution=\"http://www.openstreetmap.org/copyright\" license=\"http://opendatacommons.org/licenses/odbl/1-0/\">\\n',\n",
       " ' <bounds minlat=\"41.9704500\" minlon=\"-87.6928300\" maxlat=\"41.9758200\" maxlon=\"-87.6894800\"/>\\n',\n",
       " ' <node id=\"261114295\" visible=\"true\" version=\"7\" changeset=\"11129782\" timestamp=\"2012-03-28T18:31:23Z\" user=\"bbmiller\" uid=\"451048\" lat=\"41.9730791\" lon=\"-87.6866303\"/>\\n',\n",
       " ' <node id=\"261114296\" visible=\"true\" version=\"6\" changeset=\"8448766\" timestamp=\"2011-06-15T17:04:54Z\" user=\"bbmiller\" uid=\"451048\" lat=\"41.9730416\" lon=\"-87.6878512\"/>\\n',\n",
       " ' <node id=\"261114299\" visible=\"true\" version=\"5\" changeset=\"8581395\" timestamp=\"2011-06-29T14:14:14Z\" user=\"bbmiller\" uid=\"451048\" lat=\"41.9729565\" lon=\"-87.6939548\"/>\\n',\n",
       " ' <node id=\"261146436\" visible=\"true\" version=\"5\" changeset=\"8581395\" timestamp=\"2011-06-29T14:14:14Z\" user=\"bbmiller\" uid=\"451048\" lat=\"41.9707380\" lon=\"-87.6976025\"/>\\n',\n",
       " ' <node id=\"261147304\" visible=\"true\" version=\"7\" changeset=\"8581395\" timestamp=\"2011-06-29T14:14:15Z\" user=\"bbmiller\" uid=\"451048\" lat=\"41.9740068\" lon=\"-87.6988576\"/>\\n',\n",
       " ' <node id=\"261224274\" visible=\"true\" version=\"5\" changeset=\"8581395\" timestamp=\"2011-06-29T14:14:14Z\" user=\"bbmiller\" uid=\"451048\" lat=\"41.9707656\" lon=\"-87.6938669\"/>\\n',\n",
       " ' <node id=\"293816175\" visible=\"true\" version=\"47\" changeset=\"8448766\" timestamp=\"2011-06-15T16:55:37Z\" user=\"bbmiller\" uid=\"451048\" lat=\"41.9730154\" lon=\"-87.6890403\"/>\\n',\n",
       " ' <node id=\"305896090\" visible=\"true\" version=\"37\" changeset=\"15348240\" timestamp=\"2013-03-13T07:46:29Z\" user=\"Umbugbene\" uid=\"567034\" lat=\"41.9749225\" lon=\"-87.6891198\"/>\\n',\n",
       " ' <node id=\"317636974\" visible=\"true\" version=\"12\" changeset=\"15348240\" timestamp=\"2013-03-13T08:02:56Z\" user=\"Umbugbene\" uid=\"567034\" lat=\"41.9740292\" lon=\"-87.7012430\"/>\\n',\n",
       " ' <node id=\"317636971\" visible=\"true\" version=\"13\" changeset=\"15348240\" timestamp=\"2013-03-13T08:08:01Z\" user=\"Umbugbene\" uid=\"567034\" lat=\"41.9740556\" lon=\"-87.6979712\"/>\\n',\n",
       " ' <node id=\"317637399\" visible=\"true\" version=\"2\" changeset=\"14927972\" timestamp=\"2013-02-05T22:43:49Z\" user=\"Umbugbene\" uid=\"567034\" lat=\"41.9705609\" lon=\"-87.7012048\"/>\\n',\n",
       " ' <node id=\"317637398\" visible=\"true\" version=\"2\" changeset=\"14927972\" timestamp=\"2013-02-05T22:43:49Z\" user=\"Umbugbene\" uid=\"567034\" lat=\"41.9706972\" lon=\"-87.7012109\"/>\\n',\n",
       " ' <node id=\"365214872\" visible=\"true\" version=\"3\" changeset=\"8448766\" timestamp=\"2011-06-15T17:04:54Z\" user=\"bbmiller\" uid=\"451048\" lat=\"41.9731130\" lon=\"-87.6847998\"/>\\n',\n",
       " ' <node id=\"261299091\" visible=\"true\" version=\"6\" changeset=\"8581395\" timestamp=\"2011-06-29T14:14:15Z\" user=\"bbmiller\" uid=\"451048\" lat=\"41.9747482\" lon=\"-87.6988886\"/>\\n',\n",
       " ' <node id=\"261114294\" visible=\"true\" version=\"6\" changeset=\"8448766\" timestamp=\"2011-06-15T17:04:54Z\" user=\"bbmiller\" uid=\"451048\" lat=\"41.9731219\" lon=\"-87.6841979\"/>\\n',\n",
       " ' <node id=\"261210804\" visible=\"true\" version=\"4\" changeset=\"3359748\" timestamp=\"2009-12-13T00:36:09Z\" user=\"woodpeck_fixbot\" uid=\"147510\" lat=\"41.9707217\" lon=\"-87.7000019\"/>\\n',\n",
       " ' <node id=\"261221422\" visible=\"true\" version=\"7\" changeset=\"8581395\" timestamp=\"2011-06-29T14:14:15Z\" user=\"bbmiller\" uid=\"451048\" lat=\"41.9748542\" lon=\"-87.6922652\"/>\\n',\n",
       " ' <node id=\"261221424\" visible=\"true\" version=\"7\" changeset=\"8581395\" timestamp=\"2011-06-29T14:14:15Z\" user=\"bbmiller\" uid=\"451048\" lat=\"41.9758794\" lon=\"-87.6923639\">\\n',\n",
       " '  <tag k=\"highway\" v=\"traffic_signals\"/>\\n',\n",
       " ' </node>\\n',\n",
       " '  <node id=\"2406124091\" visible=\"true\" version=\"2\" changeset=\"17206049\" timestamp=\"2013-08-03T16:43:42Z\" user=\"linuxUser16\" uid=\"1219059\" lat=\"41.9757030\" lon=\"-87.6921867\">\\n',\n",
       " '  <tag k=\"addr:city\" v=\"Chicago\"/>\\n',\n",
       " '  <tag k=\"addr:housenumber\" v=\"5157\"/>\\n',\n",
       " '  <tag k=\"addr:postcode\" v=\"60625\"/>\\n',\n",
       " '  <tag k=\"addr:street\" v=\"North Lincoln Av.\"/>\\n',\n",
       " '  <tag k=\"amenity\" v=\"restaurant\"/>\\n',\n",
       " '  <tag k=\"cuisine\" v=\"mexican\"/>\\n',\n",
       " '  <tag k=\"name\" v=\"La Cabana De Don Luis\"/>\\n',\n",
       " '  <tag k=\"outdoor_seating\" v=\"no\"/>\\n',\n",
       " '  <tag k=\"phone\" v=\"1 (773)-271-5176\"/>\\n',\n",
       " '  <tag k=\"smoking\" v=\"no\"/>\\n',\n",
       " '  <tag k=\"takeaway\" v=\"yes\"/>\\n',\n",
       " ' </node>\\n',\n",
       " '  <node id=\"2636084635\" visible=\"true\" version=\"1\" changeset=\"20187349\" timestamp=\"2014-01-25T01:56:10Z\" user=\"linuxUser16\" uid=\"1219059\" lat=\"41.9705219\" lon=\"-87.6900344\">\\n',\n",
       " '  <tag k=\"addr:city\" v=\"Chicago\"/>\\n',\n",
       " '  <tag k=\"addr:country\" v=\"US\"/>\\n',\n",
       " '  <tag k=\"addr:housenumber\" v=\"4874\"/>\\n',\n",
       " '  <tag k=\"addr:postcode\" v=\"60625\"/>\\n',\n",
       " '  <tag k=\"addr:state\" v=\"Illinois\"/>\\n',\n",
       " '  <tag k=\"addr:street\" v=\"North Lincoln Ave\"/>\\n',\n",
       " '  <tag k=\"name\" v=\"Matty Ks\"/>\\n',\n",
       " '  <tag k=\"phone\" v=\"(773)-654-1347\"/>\\n',\n",
       " '  <tag k=\"shop\" v=\"doityourself\"/>\\n',\n",
       " '  <tag k=\"source\" v=\"GPS\"/>\\n',\n",
       " ' </node>\\n',\n",
       " ' <node id=\"261198953\" visible=\"true\" version=\"6\" changeset=\"8581395\" timestamp=\"2011-06-29T14:14:13Z\" user=\"bbmiller\" uid=\"451048\" lat=\"41.9707413\" lon=\"-87.6963097\"/>\\n',\n",
       " ' <node id=\"757860928\" visible=\"true\" version=\"2\" changeset=\"5288876\" timestamp=\"2010-07-22T16:16:51Z\" user=\"uboot\" uid=\"26299\" lat=\"41.9747374\" lon=\"-87.6920102\">\\n',\n",
       " '  <tag k=\"amenity\" v=\"fast_food\"/>\\n',\n",
       " '  <tag k=\"cuisine\" v=\"sausage\"/>\\n',\n",
       " '  <tag k=\"name\" v=\"Shelly\\'s Tasty Freeze\"/>\\n',\n",
       " ' </node>\\n',\n",
       " '  <way id=\"258219703\" visible=\"true\" version=\"1\" changeset=\"20187382\" timestamp=\"2014-01-25T02:01:54Z\" user=\"linuxUser16\" uid=\"1219059\">\\n',\n",
       " '  <nd ref=\"2636086179\"/>\\n',\n",
       " '  <nd ref=\"2636086178\"/>\\n',\n",
       " '  <nd ref=\"2636086177\"/>\\n',\n",
       " '  <nd ref=\"2636086176\"/>\\n',\n",
       " '  <tag k=\"highway\" v=\"service\"/>\\n',\n",
       " ' </way>\\n',\n",
       " ' <node id=\"1683602133\" version=\"2\" timestamp=\"2012-03-20T18:56:44Z\" uid=\"634589\" user=\"Jacobs Studios\" changeset=\"11043902\" lat=\"42.1251718\" lon=\"-88.0780576\">\\n',\n",
       " '    <tag k=\"addr:housename\" v=\"Village Hall\"/>\\n',\n",
       " '    <tag k=\"addr:housenumber\" v=\"1400\"/>\\n',\n",
       " '    <tag k=\"addr:postcode\" v=\"60067\"/>\\n',\n",
       " '    <tag k=\"addr:street\" v=\"Baldwin Rd.\"/>\\n',\n",
       " '    <tag k=\"amenity\" v=\"townhall\"/>\\n',\n",
       " '    <tag k=\"name\" v=\"Village Hall\"/>\\n',\n",
       " ' </node>\\n',\n",
       " ' <way id=\"209809850\" visible=\"true\" version=\"1\" changeset=\"15353317\" timestamp=\"2013-03-13T15:58:04Z\" user=\"chicago-buildings\" uid=\"674454\">\\n',\n",
       " '  <nd ref=\"2199822281\"/>\\n',\n",
       " '  <nd ref=\"2199822390\"/>\\n',\n",
       " '  <nd ref=\"2199822392\"/>\\n',\n",
       " '  <nd ref=\"2199822369\"/>\\n',\n",
       " '  <nd ref=\"2199822370\"/>\\n',\n",
       " '  <nd ref=\"2199822284\"/>\\n',\n",
       " '  <nd ref=\"2199822281\"/>\\n',\n",
       " '  <tag k=\"addr:housenumber\" v=\"1412\"/>\\n',\n",
       " '  <tag k=\"addr:street\" v=\"West Lexington St.\"/>\\n',\n",
       " '  <tag k=\"addr:street:name\" v=\"Lexington\"/>\\n',\n",
       " '  <tag k=\"addr:street:prefix\" v=\"West\"/>\\n',\n",
       " '  <tag k=\"addr:street:type\" v=\"Street\"/>\\n',\n",
       " '  <tag k=\"building\" v=\"yes\"/>\\n',\n",
       " '  <tag k=\"building:levels\" v=\"1\"/>\\n',\n",
       " '  <tag k=\"chicago:building_id\" v=\"366409\"/>\\n',\n",
       " ' </way>\\n',\n",
       " ' <relation id=\"1557627\" visible=\"true\" version=\"2\" changeset=\"14326854\" timestamp=\"2012-12-19T05:32:37Z\" user=\"fredr\" uid=\"939355\">\\n',\n",
       " '  <member type=\"node\" ref=\"1258927212\" role=\"via\"/>\\n',\n",
       " '  <member type=\"way\" ref=\"110160127\" role=\"from\"/>\\n',\n",
       " '  <member type=\"way\" ref=\"34073105\" role=\"to\"/>\\n',\n",
       " '  <tag k=\"restriction\" v=\"only_right_turn\"/>\\n',\n",
       " '  <tag k=\"type\" v=\"restriction\"/>\\n',\n",
       " ' </relation>\\n',\n",
       " '</osm>']"
      ]
     },
     "execution_count": 2,
     "metadata": {},
     "output_type": "execute_result"
    }
   ],
   "source": [
    "inFile = open('SinCity.osm', 'r')\n",
    "data = inFile.readlines()\n",
    "inFile.close()\n",
    "\n",
    "data\n",
    "\n",
    "# then have a look, search (e.g. CTRL-F) for 'node\""
   ]
  },
  {
   "cell_type": "code",
   "execution_count": null,
   "metadata": {
    "collapsed": true
   },
   "outputs": [],
   "source": []
  },
  {
   "cell_type": "markdown",
   "metadata": {},
   "source": [
    "#### Decoding osm/xml files\n",
    "\n",
    "The file contains many nodes. We are interested only in the location nodes. Some of the nodes are for users/contributors e.g. 'bbmiller' & friends, skip those and look for the location data.\n",
    "\n",
    "The second node is an example of a location, a mexican restaurant on \"North Lincoln Ave\" (search for 'restaurant' if you can't see it). The node consists of lines of tags in pairs, 'k' & 'v' e.g.  \n",
    "<pre class='nd pp'><code>\n",
    "&lt;node id=\"2406124091\" visible=\"true\" version=\"2\" changeset=\"17206049\" timestamp=\"2013-08-03T16:43:42Z\" user=\"linuxUser16\" uid=\"1219059\" lat=\"41.9757030\" lon=\"-87.6921867\"/>',\n",
    "&lt;tag k=\"addr:city\" v=\"Chicago\"/>',\n",
    "&lt;tag k=\"addr:housenumber\" v=\"5157\"/>',\n",
    "&lt;tag k=\"addr:postcode\" v=\"60625\"/>',\n",
    "&lt;tag k=\"addr:street\" v=\"North Lincoln Av.\"/>',\n",
    "&lt;tag k=\"amenity\" v=\"restaurant\"/>',\n",
    "&lt;tag k=\"cuisine\" v=\"mexican\"/>',\n",
    "&lt;tag k=\"name\" v=\"La Cabana De Don Luis\"/>',\n",
    "&lt;tag k=\"outdoor_seating\" v=\"no\"/>',\n",
    "&lt;tag k=\"phone\" v=\"1 (773)-271-5176\"/>',\n",
    "&lt;tag k=\"smoking\" v=\"no\"/>',\n",
    "&lt;tag k=\"takeaway\" v=\"yes\"/>',\n",
    " ' node'/>\n",
    " </pre>\n",
    "\n",
    "As per this example,  the location information is found in the 'addr' (address) tag of type 'city', Chicago in this case, 'housenumber', 'postcode' and 'street. Thus, we audit the addr:street pairs closely for street information. \n",
    "\n",
    "To extract steert iformation, we either treat the osm file as text or xml. In this activity, we read and parse the osm file into dictionaries (because they are a key-value structure) using xml libraries as follows:"
   ]
  },
  {
   "cell_type": "code",
   "execution_count": 3,
   "metadata": {
    "collapsed": true
   },
   "outputs": [],
   "source": [
    "import xml.etree.cElementTree as ET\n",
    "from collections import defaultdict\n",
    "import re"
   ]
  },
  {
   "cell_type": "markdown",
   "metadata": {},
   "source": [
    "Then, we creat a regular expression to capture different street types. "
   ]
  },
  {
   "cell_type": "code",
   "execution_count": 4,
   "metadata": {
    "collapsed": true
   },
   "outputs": [],
   "source": [
    "# a regex to dig out street types\n",
    "street_type_re = re.compile(r'\\b\\S+?$', re.IGNORECASE) \n",
    "# street_type_re = re.compile(r'\\b\\S+\\.?$', re.IGNORECASE) \n",
    "# regular expression, S is anything that is not 'whitespace'\n",
    "# \\s stands for \"whitespace character\". \n",
    "# it includes [ \\t\\r\\n\\f]. That is: \\s matches a space, a tab, a line break, or a form feed.\n",
    "# \\S is the equivalent of [^\\s]."
   ]
  },
  {
   "cell_type": "code",
   "execution_count": 5,
   "metadata": {
    "collapsed": false
   },
   "outputs": [],
   "source": [
    "expected = [\"Street\", \"Avenue\", \"Boulevard\", \"Drive\", \"Court\", \"Place\", \"Lane\", \"Road\"]"
   ]
  },
  {
   "cell_type": "markdown",
   "metadata": {},
   "source": [
    "The following method audits the street types. We start with the list of expected types. We then expand the list with other captured types (in the osm file) that do not already exist in the list. "
   ]
  },
  {
   "cell_type": "code",
   "execution_count": 26,
   "metadata": {
    "collapsed": false
   },
   "outputs": [],
   "source": [
    "# build a list of types, e.g. Ave & Av. are not in expected so make a note (i.e. store)\n",
    "def audit_street_type(street_types, street_name):\n",
    "    m = street_type_re.search(street_name)\n",
    "    if m:\n",
    "        street_type = m.group()\n",
    "        print(street_type)\n",
    "        if street_type not in expected:\n",
    "            street_types[street_type].add(street_name)\n",
    "\n",
    "# open the file and parse, expecting valid xml\n",
    "def audit(osmfile):\n",
    "    osm_file = open(osmfile, \"r\")\n",
    "    street_types = defaultdict(set)\n",
    "    for event, elem in ET.iterparse(osm_file, events=(\"start\",)):\n",
    "        if elem.tag == \"node\" or elem.tag == \"way\":\n",
    "            for tag in elem.iter(\"tag\"):\n",
    "                if tag.attrib['k'] == \"addr:street\": # look for all the street keys (not values)\n",
    "                    audit_street_type(street_types, tag.attrib['v']) # then check if it's expected\n",
    "    return street_types\n",
    "\n",
    "# map to preferred (or standard) names\n",
    "def update_name(name, mapping): \n",
    "    name_array = name.split(' ')\n",
    "    last = name_array[-1]\n",
    "    name_array[-1] = mapping[last]\n",
    "    return ' '.join(name_array)\n",
    "\n",
    "# put it all together \n",
    "def test(file):\n",
    "    st_types = audit(file)\n",
    "    #pprint.pprint(dict(st_types))\n",
    "\n",
    "    for st_type, ways in st_types.items():\n",
    "        for name in ways:\n",
    "            better_name = update_name(name, mapping)\n",
    "            print (name, \"=>\", better_name)"
   ]
  },
  {
   "cell_type": "markdown",
   "metadata": {},
   "source": [
    "We then use the audit method for inspecting street types in Sin City. "
   ]
  },
  {
   "cell_type": "code",
   "execution_count": 27,
   "metadata": {
    "collapsed": false
   },
   "outputs": [
    {
     "name": "stdout",
     "output_type": "stream",
     "text": [
      "Av.\n",
      "Ave\n",
      "Rd.\n",
      "St.\n"
     ]
    }
   ],
   "source": [
    "street_types = audit(\"SinCity.osm\")"
   ]
  },
  {
   "cell_type": "markdown",
   "metadata": {},
   "source": [
    "According to the audit process, we found a total of 4 street types. Examples are as follows:"
   ]
  },
  {
   "cell_type": "code",
   "execution_count": 28,
   "metadata": {
    "collapsed": false
   },
   "outputs": [
    {
     "data": {
      "text/plain": [
       "defaultdict(set,\n",
       "            {'Av.': {'North Lincoln Av.'},\n",
       "             'Ave': {'North Lincoln Ave'},\n",
       "             'Rd.': {'Baldwin Rd.'},\n",
       "             'St.': {'West Lexington St.'}})"
      ]
     },
     "execution_count": 28,
     "metadata": {},
     "output_type": "execute_result"
    }
   ],
   "source": [
    "street_types"
   ]
  },
  {
   "cell_type": "markdown",
   "metadata": {},
   "source": [
    "We now replace/map between values represent the same type (such as Av. and Ave in our example). "
   ]
  },
  {
   "cell_type": "code",
   "execution_count": 29,
   "metadata": {
    "collapsed": false
   },
   "outputs": [
    {
     "ename": "KeyError",
     "evalue": "'Ave'",
     "output_type": "error",
     "traceback": [
      "\u001b[0;31m---------------------------------------------------------------------------\u001b[0m",
      "\u001b[0;31mKeyError\u001b[0m                                  Traceback (most recent call last)",
      "\u001b[0;32m<ipython-input-29-37f7aa616227>\u001b[0m in \u001b[0;36m<module>\u001b[0;34m()\u001b[0m\n\u001b[1;32m      2\u001b[0m \u001b[0;32mfor\u001b[0m \u001b[0mst_type\u001b[0m\u001b[0;34m,\u001b[0m \u001b[0mways\u001b[0m \u001b[0;32min\u001b[0m \u001b[0mstreet_types\u001b[0m\u001b[0;34m.\u001b[0m\u001b[0mitems\u001b[0m\u001b[0;34m(\u001b[0m\u001b[0;34m)\u001b[0m\u001b[0;34m:\u001b[0m\u001b[0;34m\u001b[0m\u001b[0m\n\u001b[1;32m      3\u001b[0m         \u001b[0;32mfor\u001b[0m \u001b[0mname\u001b[0m \u001b[0;32min\u001b[0m \u001b[0mways\u001b[0m\u001b[0;34m:\u001b[0m\u001b[0;34m\u001b[0m\u001b[0m\n\u001b[0;32m----> 4\u001b[0;31m             \u001b[0mbetter_name\u001b[0m \u001b[0;34m=\u001b[0m \u001b[0mupdate_name\u001b[0m\u001b[0;34m(\u001b[0m\u001b[0mname\u001b[0m\u001b[0;34m,\u001b[0m \u001b[0mmapping\u001b[0m\u001b[0;34m)\u001b[0m\u001b[0;34m\u001b[0m\u001b[0m\n\u001b[0m\u001b[1;32m      5\u001b[0m             \u001b[0;32mprint\u001b[0m \u001b[0;34m(\u001b[0m\u001b[0mname\u001b[0m\u001b[0;34m,\u001b[0m \u001b[0;34m\"=>\"\u001b[0m\u001b[0;34m,\u001b[0m \u001b[0mbetter_name\u001b[0m\u001b[0;34m)\u001b[0m\u001b[0;34m\u001b[0m\u001b[0m\n",
      "\u001b[0;32m<ipython-input-26-f5eec44ce2da>\u001b[0m in \u001b[0;36mupdate_name\u001b[0;34m(name, mapping)\u001b[0m\n\u001b[1;32m     23\u001b[0m     \u001b[0mname_array\u001b[0m \u001b[0;34m=\u001b[0m \u001b[0mname\u001b[0m\u001b[0;34m.\u001b[0m\u001b[0msplit\u001b[0m\u001b[0;34m(\u001b[0m\u001b[0;34m' '\u001b[0m\u001b[0;34m)\u001b[0m\u001b[0;34m\u001b[0m\u001b[0m\n\u001b[1;32m     24\u001b[0m     \u001b[0mlast\u001b[0m \u001b[0;34m=\u001b[0m \u001b[0mname_array\u001b[0m\u001b[0;34m[\u001b[0m\u001b[0;34m-\u001b[0m\u001b[0;36m1\u001b[0m\u001b[0;34m]\u001b[0m\u001b[0;34m\u001b[0m\u001b[0m\n\u001b[0;32m---> 25\u001b[0;31m     \u001b[0mname_array\u001b[0m\u001b[0;34m[\u001b[0m\u001b[0;34m-\u001b[0m\u001b[0;36m1\u001b[0m\u001b[0;34m]\u001b[0m \u001b[0;34m=\u001b[0m \u001b[0mmapping\u001b[0m\u001b[0;34m[\u001b[0m\u001b[0mlast\u001b[0m\u001b[0;34m]\u001b[0m\u001b[0;34m\u001b[0m\u001b[0m\n\u001b[0m\u001b[1;32m     26\u001b[0m     \u001b[0;32mreturn\u001b[0m \u001b[0;34m' '\u001b[0m\u001b[0;34m.\u001b[0m\u001b[0mjoin\u001b[0m\u001b[0;34m(\u001b[0m\u001b[0mname_array\u001b[0m\u001b[0;34m)\u001b[0m\u001b[0;34m\u001b[0m\u001b[0m\n\u001b[1;32m     27\u001b[0m \u001b[0;34m\u001b[0m\u001b[0m\n",
      "\u001b[0;31mKeyError\u001b[0m: 'Ave'"
     ]
    }
   ],
   "source": [
    "mapping = {\"St.\": \"Street\"} # want St. to be Street\n",
    "for st_type, ways in street_types.items():\n",
    "        for name in ways:\n",
    "            better_name = update_name(name, mapping)\n",
    "            print (name, \"=>\", better_name)"
   ]
  },
  {
   "cell_type": "markdown",
   "metadata": {},
   "source": [
    "#### Our mapping does not include 'Ave', so add it (and 'Avenue') to the mapping and repeat:\n"
   ]
  },
  {
   "cell_type": "code",
   "execution_count": 30,
   "metadata": {
    "collapsed": false
   },
   "outputs": [],
   "source": [
    "mapping = {\"St.\": \"Street\", \"Ave\": \"Avenue\"}"
   ]
  },
  {
   "cell_type": "code",
   "execution_count": 1,
   "metadata": {
    "collapsed": false
   },
   "outputs": [
    {
     "ename": "NameError",
     "evalue": "name 'street_types' is not defined",
     "output_type": "error",
     "traceback": [
      "\u001b[0;31m---------------------------------------------------------------------------\u001b[0m",
      "\u001b[0;31mNameError\u001b[0m                                 Traceback (most recent call last)",
      "\u001b[0;32m<ipython-input-1-f1fd7f772e51>\u001b[0m in \u001b[0;36m<module>\u001b[0;34m()\u001b[0m\n\u001b[0;32m----> 1\u001b[0;31m \u001b[0;32mfor\u001b[0m \u001b[0mst_type\u001b[0m\u001b[0;34m,\u001b[0m \u001b[0mways\u001b[0m \u001b[0;32min\u001b[0m \u001b[0mstreet_types\u001b[0m\u001b[0;34m.\u001b[0m\u001b[0mitems\u001b[0m\u001b[0;34m(\u001b[0m\u001b[0;34m)\u001b[0m\u001b[0;34m:\u001b[0m\u001b[0;34m\u001b[0m\u001b[0m\n\u001b[0m\u001b[1;32m      2\u001b[0m         \u001b[0;32mfor\u001b[0m \u001b[0mname\u001b[0m \u001b[0;32min\u001b[0m \u001b[0mways\u001b[0m\u001b[0;34m:\u001b[0m\u001b[0;34m\u001b[0m\u001b[0m\n\u001b[1;32m      3\u001b[0m             \u001b[0mbetter_name\u001b[0m \u001b[0;34m=\u001b[0m \u001b[0mupdate_name\u001b[0m\u001b[0;34m(\u001b[0m\u001b[0mname\u001b[0m\u001b[0;34m,\u001b[0m \u001b[0mmapping\u001b[0m\u001b[0;34m)\u001b[0m\u001b[0;34m\u001b[0m\u001b[0m\n\u001b[1;32m      4\u001b[0m             \u001b[0;32mprint\u001b[0m \u001b[0;34m(\u001b[0m\u001b[0mname\u001b[0m\u001b[0;34m,\u001b[0m \u001b[0;34m\"=>\"\u001b[0m\u001b[0;34m,\u001b[0m \u001b[0mbetter_name\u001b[0m\u001b[0;34m)\u001b[0m\u001b[0;34m\u001b[0m\u001b[0m\n",
      "\u001b[0;31mNameError\u001b[0m: name 'street_types' is not defined"
     ]
    }
   ],
   "source": [
    "for st_type, ways in street_types.items():\n",
    "        for name in ways:\n",
    "            better_name = update_name(name, mapping)\n",
    "            print (name, \"=>\", better_name)"
   ]
  },
  {
   "cell_type": "markdown",
   "metadata": {},
   "source": [
    "### KeyError: 'Av.' \n",
    "\n",
    "So 'North Lincoln Ave' => 'North Lincoln Avenue' worked but 'Av.' didn't. We also map 'Rd.' to proper 'Road' name.    "
   ]
  },
  {
   "cell_type": "code",
   "execution_count": 32,
   "metadata": {
    "collapsed": true
   },
   "outputs": [],
   "source": [
    " mapping = {\"St.\": \"Street\", \"Ave\": \"Avenue\", \"Rd.\": \"Road\", \"Av.\": \"Avenue\"}"
   ]
  },
  {
   "cell_type": "code",
   "execution_count": 33,
   "metadata": {
    "collapsed": false
   },
   "outputs": [
    {
     "name": "stdout",
     "output_type": "stream",
     "text": [
      "('North Lincoln Ave', '=>', 'North Lincoln Avenue')\n",
      "('North Lincoln Av.', '=>', 'North Lincoln Avenue')\n",
      "('Baldwin Rd.', '=>', 'Baldwin Road')\n",
      "('West Lexington St.', '=>', 'West Lexington Street')\n"
     ]
    }
   ],
   "source": [
    "for st_type, ways in street_types.items():\n",
    "        for name in ways:\n",
    "            better_name = update_name(name, mapping)\n",
    "            print (name, \"=>\", better_name)"
   ]
  },
  {
   "cell_type": "markdown",
   "metadata": {},
   "source": [
    "In this example, we have fixed the street names in Sin City and changed them to the standard form."
   ]
  },
  {
   "cell_type": "markdown",
   "metadata": {
    "collapsed": true
   },
   "source": [
    "#### Parsing data using other xml library:"
   ]
  },
  {
   "cell_type": "code",
   "execution_count": 16,
   "metadata": {
    "collapsed": false
   },
   "outputs": [],
   "source": [
    "from lxml import etree\n",
    "tree = etree.parse('SinCity.osm')"
   ]
  },
  {
   "cell_type": "code",
   "execution_count": 34,
   "metadata": {
    "collapsed": false
   },
   "outputs": [
    {
     "name": "stdout",
     "output_type": "stream",
     "text": [
      "{'k': 'highway', 'v': 'traffic_signals'}\n",
      "{'k': 'addr:city', 'v': 'Chicago'}\n",
      "{'k': 'addr:housenumber', 'v': '5157'}\n",
      "{'k': 'addr:postcode', 'v': '60625'}\n",
      "{'k': 'addr:street', 'v': 'North Lincoln Av.'}\n",
      "{'k': 'amenity', 'v': 'restaurant'}\n",
      "{'k': 'cuisine', 'v': 'mexican'}\n",
      "{'k': 'name', 'v': 'La Cabana De Don Luis'}\n",
      "{'k': 'outdoor_seating', 'v': 'no'}\n",
      "{'k': 'phone', 'v': '1 (773)-271-5176'}\n",
      "{'k': 'smoking', 'v': 'no'}\n",
      "{'k': 'takeaway', 'v': 'yes'}\n",
      "{'k': 'addr:city', 'v': 'Chicago'}\n",
      "{'k': 'addr:country', 'v': 'US'}\n",
      "{'k': 'addr:housenumber', 'v': '4874'}\n",
      "{'k': 'addr:postcode', 'v': '60625'}\n",
      "{'k': 'addr:state', 'v': 'Illinois'}\n",
      "{'k': 'addr:street', 'v': 'North Lincoln Ave'}\n",
      "{'k': 'name', 'v': 'Matty Ks'}\n",
      "{'k': 'phone', 'v': '(773)-654-1347'}\n",
      "{'k': 'shop', 'v': 'doityourself'}\n",
      "{'k': 'source', 'v': 'GPS'}\n",
      "{'k': 'amenity', 'v': 'fast_food'}\n",
      "{'k': 'cuisine', 'v': 'sausage'}\n",
      "{'k': 'name', 'v': \"Shelly's Tasty Freeze\"}\n",
      "{'k': 'highway', 'v': 'service'}\n",
      "{'k': 'addr:housename', 'v': 'Village Hall'}\n",
      "{'k': 'addr:housenumber', 'v': '1400'}\n",
      "{'k': 'addr:postcode', 'v': '60067'}\n",
      "{'k': 'addr:street', 'v': 'Baldwin Rd.'}\n",
      "{'k': 'amenity', 'v': 'townhall'}\n",
      "{'k': 'name', 'v': 'Village Hall'}\n",
      "{'k': 'addr:housenumber', 'v': '1412'}\n",
      "{'k': 'addr:street', 'v': 'West Lexington Street'}\n",
      "{'k': 'addr:street:name', 'v': 'Lexington'}\n",
      "{'k': 'addr:street:prefix', 'v': 'West'}\n",
      "{'k': 'addr:street:type', 'v': 'Street'}\n",
      "{'k': 'building', 'v': 'yes'}\n",
      "{'k': 'building:levels', 'v': '1'}\n",
      "{'k': 'chicago:building_id', 'v': '366409'}\n",
      "{'k': 'restriction', 'v': 'only_right_turn'}\n",
      "{'k': 'type', 'v': 'restriction'}\n"
     ]
    }
   ],
   "source": [
    "# and look at all the <tag>s\n",
    "for elem in tree.xpath(\".//tag\"):\n",
    "    print(elem.attrib)\n",
    "    # or\n",
    "    # print(elem.values())"
   ]
  },
  {
   "cell_type": "code",
   "execution_count": 35,
   "metadata": {
    "collapsed": false
   },
   "outputs": [
    {
     "name": "stdout",
     "output_type": "stream",
     "text": [
      "['addr:street', 'North Lincoln Av.']\n",
      "['addr:street', 'North Lincoln Ave']\n",
      "['addr:street', 'Baldwin Rd.']\n",
      "['addr:street', 'West Lexington Street']\n"
     ]
    }
   ],
   "source": [
    "# or just the streets\n",
    "for elem in tree.xpath(\".//tag\"):\n",
    "    #elem.attrib['name'] = 'Street'\n",
    "    if elem.values()[0] == \"addr:street\":\n",
    "        print(elem.values())"
   ]
  },
  {
   "cell_type": "code",
   "execution_count": 36,
   "metadata": {
    "collapsed": false
   },
   "outputs": [],
   "source": [
    "# fix one\n",
    "for elem in tree.xpath(\".//tag\"):\n",
    "    #elem.attrib['name'] = 'Street'\n",
    "    if elem.values()[0] == \"addr:street\":\n",
    "        \n",
    "        if 'St.' in elem.values()[1]:\n",
    "            #elem.values()[1] = '' # doesn't work\n",
    "\n",
    "            elem.attrib['v'] = 'West Lexington Street'\n",
    "            print(elem.values())"
   ]
  },
  {
   "cell_type": "code",
   "execution_count": 38,
   "metadata": {
    "collapsed": false
   },
   "outputs": [
    {
     "name": "stdout",
     "output_type": "stream",
     "text": [
      "['addr:street', 'North Lincoln Av.']\n",
      "['addr:street', 'North Lincoln Ave']\n",
      "['addr:street', 'Baldwin Rd.']\n",
      "['addr:street', 'West Lexington Street']\n"
     ]
    }
   ],
   "source": [
    "# and show that it's changd\n",
    "for elem in tree.xpath(\".//tag\"):\n",
    "    #elem.attrib['name'] = 'Street'\n",
    "    if elem.values()[0] == \"addr:street\":\n",
    "        print(elem.values())\n",
    "       "
   ]
  },
  {
   "cell_type": "code",
   "execution_count": 37,
   "metadata": {
    "collapsed": false
   },
   "outputs": [],
   "source": [
    "# and write to file\n",
    "tree.write(\"temp.osm\")\n",
    "\n",
    "# then look for the change"
   ]
  },
  {
   "cell_type": "code",
   "execution_count": 39,
   "metadata": {
    "collapsed": false
   },
   "outputs": [
    {
     "data": {
      "text/plain": [
       "['<osm version=\"0.6\" generator=\"CGImap 0.3.3 (28791 thorn-03.openstreetmap.org)\" copyright=\"OpenStreetMap and contributors\" attribution=\"http://www.openstreetmap.org/copyright\" license=\"http://opendatacommons.org/licenses/odbl/1-0/\">\\n',\n",
       " ' <bounds minlat=\"41.9704500\" minlon=\"-87.6928300\" maxlat=\"41.9758200\" maxlon=\"-87.6894800\"/>\\n',\n",
       " ' <node id=\"261114295\" visible=\"true\" version=\"7\" changeset=\"11129782\" timestamp=\"2012-03-28T18:31:23Z\" user=\"bbmiller\" uid=\"451048\" lat=\"41.9730791\" lon=\"-87.6866303\"/>\\n',\n",
       " ' <node id=\"261114296\" visible=\"true\" version=\"6\" changeset=\"8448766\" timestamp=\"2011-06-15T17:04:54Z\" user=\"bbmiller\" uid=\"451048\" lat=\"41.9730416\" lon=\"-87.6878512\"/>\\n',\n",
       " ' <node id=\"261114299\" visible=\"true\" version=\"5\" changeset=\"8581395\" timestamp=\"2011-06-29T14:14:14Z\" user=\"bbmiller\" uid=\"451048\" lat=\"41.9729565\" lon=\"-87.6939548\"/>\\n',\n",
       " ' <node id=\"261146436\" visible=\"true\" version=\"5\" changeset=\"8581395\" timestamp=\"2011-06-29T14:14:14Z\" user=\"bbmiller\" uid=\"451048\" lat=\"41.9707380\" lon=\"-87.6976025\"/>\\n',\n",
       " ' <node id=\"261147304\" visible=\"true\" version=\"7\" changeset=\"8581395\" timestamp=\"2011-06-29T14:14:15Z\" user=\"bbmiller\" uid=\"451048\" lat=\"41.9740068\" lon=\"-87.6988576\"/>\\n',\n",
       " ' <node id=\"261224274\" visible=\"true\" version=\"5\" changeset=\"8581395\" timestamp=\"2011-06-29T14:14:14Z\" user=\"bbmiller\" uid=\"451048\" lat=\"41.9707656\" lon=\"-87.6938669\"/>\\n',\n",
       " ' <node id=\"293816175\" visible=\"true\" version=\"47\" changeset=\"8448766\" timestamp=\"2011-06-15T16:55:37Z\" user=\"bbmiller\" uid=\"451048\" lat=\"41.9730154\" lon=\"-87.6890403\"/>\\n',\n",
       " ' <node id=\"305896090\" visible=\"true\" version=\"37\" changeset=\"15348240\" timestamp=\"2013-03-13T07:46:29Z\" user=\"Umbugbene\" uid=\"567034\" lat=\"41.9749225\" lon=\"-87.6891198\"/>\\n',\n",
       " ' <node id=\"317636974\" visible=\"true\" version=\"12\" changeset=\"15348240\" timestamp=\"2013-03-13T08:02:56Z\" user=\"Umbugbene\" uid=\"567034\" lat=\"41.9740292\" lon=\"-87.7012430\"/>\\n',\n",
       " ' <node id=\"317636971\" visible=\"true\" version=\"13\" changeset=\"15348240\" timestamp=\"2013-03-13T08:08:01Z\" user=\"Umbugbene\" uid=\"567034\" lat=\"41.9740556\" lon=\"-87.6979712\"/>\\n',\n",
       " ' <node id=\"317637399\" visible=\"true\" version=\"2\" changeset=\"14927972\" timestamp=\"2013-02-05T22:43:49Z\" user=\"Umbugbene\" uid=\"567034\" lat=\"41.9705609\" lon=\"-87.7012048\"/>\\n',\n",
       " ' <node id=\"317637398\" visible=\"true\" version=\"2\" changeset=\"14927972\" timestamp=\"2013-02-05T22:43:49Z\" user=\"Umbugbene\" uid=\"567034\" lat=\"41.9706972\" lon=\"-87.7012109\"/>\\n',\n",
       " ' <node id=\"365214872\" visible=\"true\" version=\"3\" changeset=\"8448766\" timestamp=\"2011-06-15T17:04:54Z\" user=\"bbmiller\" uid=\"451048\" lat=\"41.9731130\" lon=\"-87.6847998\"/>\\n',\n",
       " ' <node id=\"261299091\" visible=\"true\" version=\"6\" changeset=\"8581395\" timestamp=\"2011-06-29T14:14:15Z\" user=\"bbmiller\" uid=\"451048\" lat=\"41.9747482\" lon=\"-87.6988886\"/>\\n',\n",
       " ' <node id=\"261114294\" visible=\"true\" version=\"6\" changeset=\"8448766\" timestamp=\"2011-06-15T17:04:54Z\" user=\"bbmiller\" uid=\"451048\" lat=\"41.9731219\" lon=\"-87.6841979\"/>\\n',\n",
       " ' <node id=\"261210804\" visible=\"true\" version=\"4\" changeset=\"3359748\" timestamp=\"2009-12-13T00:36:09Z\" user=\"woodpeck_fixbot\" uid=\"147510\" lat=\"41.9707217\" lon=\"-87.7000019\"/>\\n',\n",
       " ' <node id=\"261221422\" visible=\"true\" version=\"7\" changeset=\"8581395\" timestamp=\"2011-06-29T14:14:15Z\" user=\"bbmiller\" uid=\"451048\" lat=\"41.9748542\" lon=\"-87.6922652\"/>\\n',\n",
       " ' <node id=\"261221424\" visible=\"true\" version=\"7\" changeset=\"8581395\" timestamp=\"2011-06-29T14:14:15Z\" user=\"bbmiller\" uid=\"451048\" lat=\"41.9758794\" lon=\"-87.6923639\">\\n',\n",
       " '  <tag k=\"highway\" v=\"traffic_signals\"/>\\n',\n",
       " ' </node>\\n',\n",
       " '  <node id=\"2406124091\" visible=\"true\" version=\"2\" changeset=\"17206049\" timestamp=\"2013-08-03T16:43:42Z\" user=\"linuxUser16\" uid=\"1219059\" lat=\"41.9757030\" lon=\"-87.6921867\">\\n',\n",
       " '  <tag k=\"addr:city\" v=\"Chicago\"/>\\n',\n",
       " '  <tag k=\"addr:housenumber\" v=\"5157\"/>\\n',\n",
       " '  <tag k=\"addr:postcode\" v=\"60625\"/>\\n',\n",
       " '  <tag k=\"addr:street\" v=\"North Lincoln Av.\"/>\\n',\n",
       " '  <tag k=\"amenity\" v=\"restaurant\"/>\\n',\n",
       " '  <tag k=\"cuisine\" v=\"mexican\"/>\\n',\n",
       " '  <tag k=\"name\" v=\"La Cabana De Don Luis\"/>\\n',\n",
       " '  <tag k=\"outdoor_seating\" v=\"no\"/>\\n',\n",
       " '  <tag k=\"phone\" v=\"1 (773)-271-5176\"/>\\n',\n",
       " '  <tag k=\"smoking\" v=\"no\"/>\\n',\n",
       " '  <tag k=\"takeaway\" v=\"yes\"/>\\n',\n",
       " ' </node>\\n',\n",
       " '  <node id=\"2636084635\" visible=\"true\" version=\"1\" changeset=\"20187349\" timestamp=\"2014-01-25T01:56:10Z\" user=\"linuxUser16\" uid=\"1219059\" lat=\"41.9705219\" lon=\"-87.6900344\">\\n',\n",
       " '  <tag k=\"addr:city\" v=\"Chicago\"/>\\n',\n",
       " '  <tag k=\"addr:country\" v=\"US\"/>\\n',\n",
       " '  <tag k=\"addr:housenumber\" v=\"4874\"/>\\n',\n",
       " '  <tag k=\"addr:postcode\" v=\"60625\"/>\\n',\n",
       " '  <tag k=\"addr:state\" v=\"Illinois\"/>\\n',\n",
       " '  <tag k=\"addr:street\" v=\"North Lincoln Ave\"/>\\n',\n",
       " '  <tag k=\"name\" v=\"Matty Ks\"/>\\n',\n",
       " '  <tag k=\"phone\" v=\"(773)-654-1347\"/>\\n',\n",
       " '  <tag k=\"shop\" v=\"doityourself\"/>\\n',\n",
       " '  <tag k=\"source\" v=\"GPS\"/>\\n',\n",
       " ' </node>\\n',\n",
       " ' <node id=\"261198953\" visible=\"true\" version=\"6\" changeset=\"8581395\" timestamp=\"2011-06-29T14:14:13Z\" user=\"bbmiller\" uid=\"451048\" lat=\"41.9707413\" lon=\"-87.6963097\"/>\\n',\n",
       " ' <node id=\"757860928\" visible=\"true\" version=\"2\" changeset=\"5288876\" timestamp=\"2010-07-22T16:16:51Z\" user=\"uboot\" uid=\"26299\" lat=\"41.9747374\" lon=\"-87.6920102\">\\n',\n",
       " '  <tag k=\"amenity\" v=\"fast_food\"/>\\n',\n",
       " '  <tag k=\"cuisine\" v=\"sausage\"/>\\n',\n",
       " '  <tag k=\"name\" v=\"Shelly\\'s Tasty Freeze\"/>\\n',\n",
       " ' </node>\\n',\n",
       " '  <way id=\"258219703\" visible=\"true\" version=\"1\" changeset=\"20187382\" timestamp=\"2014-01-25T02:01:54Z\" user=\"linuxUser16\" uid=\"1219059\">\\n',\n",
       " '  <nd ref=\"2636086179\"/>\\n',\n",
       " '  <nd ref=\"2636086178\"/>\\n',\n",
       " '  <nd ref=\"2636086177\"/>\\n',\n",
       " '  <nd ref=\"2636086176\"/>\\n',\n",
       " '  <tag k=\"highway\" v=\"service\"/>\\n',\n",
       " ' </way>\\n',\n",
       " ' <node id=\"1683602133\" version=\"2\" timestamp=\"2012-03-20T18:56:44Z\" uid=\"634589\" user=\"Jacobs Studios\" changeset=\"11043902\" lat=\"42.1251718\" lon=\"-88.0780576\">\\n',\n",
       " '    <tag k=\"addr:housename\" v=\"Village Hall\"/>\\n',\n",
       " '    <tag k=\"addr:housenumber\" v=\"1400\"/>\\n',\n",
       " '    <tag k=\"addr:postcode\" v=\"60067\"/>\\n',\n",
       " '    <tag k=\"addr:street\" v=\"Baldwin Rd.\"/>\\n',\n",
       " '    <tag k=\"amenity\" v=\"townhall\"/>\\n',\n",
       " '    <tag k=\"name\" v=\"Village Hall\"/>\\n',\n",
       " ' </node>\\n',\n",
       " ' <way id=\"209809850\" visible=\"true\" version=\"1\" changeset=\"15353317\" timestamp=\"2013-03-13T15:58:04Z\" user=\"chicago-buildings\" uid=\"674454\">\\n',\n",
       " '  <nd ref=\"2199822281\"/>\\n',\n",
       " '  <nd ref=\"2199822390\"/>\\n',\n",
       " '  <nd ref=\"2199822392\"/>\\n',\n",
       " '  <nd ref=\"2199822369\"/>\\n',\n",
       " '  <nd ref=\"2199822370\"/>\\n',\n",
       " '  <nd ref=\"2199822284\"/>\\n',\n",
       " '  <nd ref=\"2199822281\"/>\\n',\n",
       " '  <tag k=\"addr:housenumber\" v=\"1412\"/>\\n',\n",
       " '  <tag k=\"addr:street\" v=\"West Lexington Street\"/>\\n',\n",
       " '  <tag k=\"addr:street:name\" v=\"Lexington\"/>\\n',\n",
       " '  <tag k=\"addr:street:prefix\" v=\"West\"/>\\n',\n",
       " '  <tag k=\"addr:street:type\" v=\"Street\"/>\\n',\n",
       " '  <tag k=\"building\" v=\"yes\"/>\\n',\n",
       " '  <tag k=\"building:levels\" v=\"1\"/>\\n',\n",
       " '  <tag k=\"chicago:building_id\" v=\"366409\"/>\\n',\n",
       " ' </way>\\n',\n",
       " ' <relation id=\"1557627\" visible=\"true\" version=\"2\" changeset=\"14326854\" timestamp=\"2012-12-19T05:32:37Z\" user=\"fredr\" uid=\"939355\">\\n',\n",
       " '  <member type=\"node\" ref=\"1258927212\" role=\"via\"/>\\n',\n",
       " '  <member type=\"way\" ref=\"110160127\" role=\"from\"/>\\n',\n",
       " '  <member type=\"way\" ref=\"34073105\" role=\"to\"/>\\n',\n",
       " '  <tag k=\"restriction\" v=\"only_right_turn\"/>\\n',\n",
       " '  <tag k=\"type\" v=\"restriction\"/>\\n',\n",
       " ' </relation>\\n',\n",
       " '</osm>']"
      ]
     },
     "execution_count": 39,
     "metadata": {},
     "output_type": "execute_result"
    }
   ],
   "source": [
    "#!cat temp.osm\n",
    "\n",
    "inFile = open('temp.osm', 'r')\n",
    "\n",
    "data = inFile.readlines()\n",
    "\n",
    "inFile.close()\n",
    "\n",
    "data\n"
   ]
  },
  {
   "cell_type": "code",
   "execution_count": 40,
   "metadata": {
    "collapsed": true
   },
   "outputs": [],
   "source": [
    "# search for 'West Lexington Street', should be just above"
   ]
  }
 ],
 "metadata": {
  "kernelspec": {
   "display_name": "Python 3",
   "language": "python",
   "name": "python3"
  },
  "language_info": {
   "codemirror_mode": {
    "name": "ipython",
    "version": 3
   },
   "file_extension": ".py",
   "mimetype": "text/x-python",
   "name": "python",
   "nbconvert_exporter": "python",
   "pygments_lexer": "ipython3",
   "version": "3.6.0"
  },
  "name": "4.1 Data Cleansing.ipynb"
 },
 "nbformat": 4,
 "nbformat_minor": 0
}
