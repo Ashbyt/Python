{
 "cells": [
  {
   "cell_type": "code",
   "execution_count": null,
   "metadata": {
    "collapsed": true
   },
   "outputs": [],
   "source": [
    "import pandas as pd \n",
    "import datetime \n",
    "import numpy as np\n",
    "import matplotlib.pyplot as plt\n",
    "\n",
    "\n",
    "\n",
    "import matplotlib\n",
    "from pylab import *\n",
    "\n",
    "val = 3-6*rand(5)    # the bar lengths\n",
    "pos = arange(5)+.5    # the bar centers on the y axis\n",
    "print pos\n",
    "\n",
    "fig = plt.figure()\n",
    "ax = fig.add_subplot(111)\n",
    "ax.barh(pos,val, align='center',height=0.1)\n",
    "ax.set_yticks(pos, ('Tom', 'Dick', 'Harry', 'Slim', 'Jim'))\n",
    "\n",
    "ax.axvline(0,color='k',lw=3)   # poor man's zero level\n",
    "\n",
    "ax.set_xlabel('Performance')\n",
    "ax.set_title('horizontal bar chart using matplotlib')\n",
    "ax.grid(True)\n",
    "plt.show()"
   ]
  },
  {
   "cell_type": "code",
   "execution_count": null,
   "metadata": {
    "collapsed": true
   },
   "outputs": [],
   "source": []
  },
  {
   "cell_type": "code",
   "execution_count": null,
   "metadata": {
    "collapsed": true
   },
   "outputs": [],
   "source": [
    "pd.options.display.mpl_style = 'default'\n",
    "df['Killed'].boxplot()"
   ]
  },
  {
   "cell_type": "code",
   "execution_count": null,
   "metadata": {
    "collapsed": true
   },
   "outputs": [],
   "source": [
    "#plt.figure()\n",
    "#data = df[:,1]\n",
    "#plot1 = plt.boxplot(data,               \n",
    "#                    vert=False,         # creates horizontal box\n",
    "#                    widths = 0.2,       # width of the box\n",
    "#                    patch_artist=True)  # enable further customizatons"
   ]
  },
  {
   "cell_type": "code",
   "execution_count": null,
   "metadata": {
    "collapsed": true
   },
   "outputs": [],
   "source": [
    "import matplotlib\n",
    "from pylab import *\n",
    "\n",
    "val = 3+10*rand(5)    # the bar lengths\n",
    "pos = arange(5)+.5    # the bar centers on the y axis\n",
    "print pos\n",
    "figure(1)\n",
    "barh(pos,val, align='center')\n",
    "yticks(pos, ('Tom', 'Dick', 'Harry', 'Slim', 'Jim'))\n",
    "xlabel('Performance')\n",
    "title('horizontal bar chart using matplotlib')\n",
    "grid(True)\n",
    "show()"
   ]
  }
 ],
 "metadata": {
  "kernelspec": {
   "display_name": "Python 2",
   "language": "python",
   "name": "python2"
  },
  "language_info": {
   "codemirror_mode": {
    "name": "ipython",
    "version": 2
   },
   "file_extension": ".py",
   "mimetype": "text/x-python",
   "name": "python",
   "nbconvert_exporter": "python",
   "pygments_lexer": "ipython2",
   "version": "2.7.11"
  }
 },
 "nbformat": 4,
 "nbformat_minor": 0
}
