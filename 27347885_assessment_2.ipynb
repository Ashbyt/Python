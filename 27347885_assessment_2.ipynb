{
 "cells": [
  {
   "cell_type": "code",
   "execution_count": null,
   "metadata": {
    "collapsed": true
   },
   "outputs": [],
   "source": [
    "#FIT5196 Data wrangling - TP3 2016\n",
    "#Assessment Task 2: Data Cleansing\n",
    "#Author: Ashley Bythell\n",
    "#Student ID: 27347885"
   ]
  },
  {
   "cell_type": "code",
   "execution_count": 1,
   "metadata": {
    "collapsed": true
   },
   "outputs": [],
   "source": [
    "import pandas as pd \n",
    "import datetime \n",
    "import numpy as np\n",
    "import re #regular expression library\n",
    "import matplotlib.pyplot as plt"
   ]
  },
  {
   "cell_type": "code",
   "execution_count": 2,
   "metadata": {
    "collapsed": true
   },
   "outputs": [],
   "source": [
    "import warnings\n",
    "warnings.simplefilter(action = \"ignore\", category = FutureWarning)"
   ]
  },
  {
   "cell_type": "code",
   "execution_count": 3,
   "metadata": {
    "collapsed": false
   },
   "outputs": [],
   "source": [
    "df = pd.read_csv('data.csv') #Read in csv file"
   ]
  },
  {
   "cell_type": "code",
   "execution_count": null,
   "metadata": {
    "collapsed": true
   },
   "outputs": [],
   "source": []
  },
  {
   "cell_type": "markdown",
   "metadata": {
    "collapsed": true
   },
   "source": [
    "# Task 1 - Audit & Clean Data"
   ]
  },
  {
   "cell_type": "code",
   "execution_count": null,
   "metadata": {
    "collapsed": false
   },
   "outputs": [],
   "source": [
    "df.head()"
   ]
  },
  {
   "cell_type": "code",
   "execution_count": null,
   "metadata": {
    "collapsed": true
   },
   "outputs": [],
   "source": [
    "#explore all null values....(missing data)"
   ]
  },
  {
   "cell_type": "code",
   "execution_count": null,
   "metadata": {
    "collapsed": false
   },
   "outputs": [],
   "source": [
    "#Part 1 - Find issues."
   ]
  },
  {
   "cell_type": "code",
   "execution_count": null,
   "metadata": {
    "collapsed": true
   },
   "outputs": [],
   "source": []
  },
  {
   "cell_type": "code",
   "execution_count": null,
   "metadata": {
    "collapsed": false
   },
   "outputs": [],
   "source": [
    "df['Start'].isnull().sum()"
   ]
  },
  {
   "cell_type": "code",
   "execution_count": null,
   "metadata": {
    "collapsed": false
   },
   "outputs": [],
   "source": [
    "#1. Check for special symbols and replace them.\n",
    "\n",
    "pattern2 = {r'[^\\x00-\\x7F]+':''} #replace pattern - special symbols. (Via Discussion forum)\n",
    "pattern = r'[^\\x00-\\x7F]+''' #Search pattern - special symbols. (Via Discussion forum)\n",
    "\n",
    "#commented out dataframes holding values from search.\n",
    "#df_Names_symbol = df[df['Names'].str.contains(pattern)==True] #contains values\n",
    "#df_Country_symbol = df[df['Country'].str.contains(pattern)==True] #None\n",
    "#df_Location_symbol = df[df['Location'].str.contains(pattern)==True] #contains values.\n",
    "#df_Type_symbol = df[df['Type'].str.contains(pattern)==True] #None\n",
    "#df_Sub_Type_symbol = df[df['Sub_Type'].str.contains(pattern)==True] #None\n",
    "\n",
    "#Code to correct special symbols.  (ie è, ï)\n",
    "df.replace((pattern2),regex=True, inplace=\"true\") \n"
   ]
  },
  {
   "cell_type": "code",
   "execution_count": null,
   "metadata": {
    "collapsed": false
   },
   "outputs": [],
   "source": []
  },
  {
   "cell_type": "code",
   "execution_count": null,
   "metadata": {
    "collapsed": false
   },
   "outputs": [],
   "source": [
    "# check for missing values."
   ]
  },
  {
   "cell_type": "code",
   "execution_count": null,
   "metadata": {
    "collapsed": false
   },
   "outputs": [],
   "source": [
    "df['End'].isnull().sum()"
   ]
  },
  {
   "cell_type": "code",
   "execution_count": null,
   "metadata": {
    "collapsed": false
   },
   "outputs": [],
   "source": [
    "df['Start'].isnull().sum()"
   ]
  },
  {
   "cell_type": "code",
   "execution_count": null,
   "metadata": {
    "collapsed": false
   },
   "outputs": [],
   "source": [
    "df['Country'].isnull().sum()"
   ]
  },
  {
   "cell_type": "code",
   "execution_count": null,
   "metadata": {
    "collapsed": false
   },
   "outputs": [],
   "source": []
  },
  {
   "cell_type": "code",
   "execution_count": null,
   "metadata": {
    "collapsed": false
   },
   "outputs": [],
   "source": [
    "df['Location'].isnull().sum()"
   ]
  },
  {
   "cell_type": "code",
   "execution_count": null,
   "metadata": {
    "collapsed": false
   },
   "outputs": [],
   "source": [
    "df['Type'].isnull().sum()"
   ]
  },
  {
   "cell_type": "code",
   "execution_count": null,
   "metadata": {
    "collapsed": false
   },
   "outputs": [],
   "source": [
    "df['Sub_Type'].isnull().sum()"
   ]
  },
  {
   "cell_type": "code",
   "execution_count": null,
   "metadata": {
    "collapsed": false
   },
   "outputs": [],
   "source": [
    "df['Names'].isnull().sum()"
   ]
  },
  {
   "cell_type": "code",
   "execution_count": null,
   "metadata": {
    "collapsed": false
   },
   "outputs": [],
   "source": [
    "df['Killed'].isnull().sum()"
   ]
  },
  {
   "cell_type": "code",
   "execution_count": null,
   "metadata": {
    "collapsed": false
   },
   "outputs": [],
   "source": [
    "df['Affected'].isnull().sum()"
   ]
  },
  {
   "cell_type": "code",
   "execution_count": null,
   "metadata": {
    "collapsed": false
   },
   "outputs": [],
   "source": [
    "df['Cost'].isnull().sum()"
   ]
  },
  {
   "cell_type": "code",
   "execution_count": null,
   "metadata": {
    "collapsed": true
   },
   "outputs": [],
   "source": []
  },
  {
   "cell_type": "code",
   "execution_count": null,
   "metadata": {
    "collapsed": false
   },
   "outputs": [],
   "source": [
    "df['International support'].isnull().sum()"
   ]
  },
  {
   "cell_type": "code",
   "execution_count": null,
   "metadata": {
    "collapsed": false
   },
   "outputs": [],
   "source": [
    "df['ID'].isnull().sum()"
   ]
  },
  {
   "cell_type": "code",
   "execution_count": null,
   "metadata": {
    "collapsed": false
   },
   "outputs": [],
   "source": [
    "df.dtypes  #check dtypes"
   ]
  },
  {
   "cell_type": "code",
   "execution_count": null,
   "metadata": {
    "collapsed": true
   },
   "outputs": [],
   "source": []
  },
  {
   "cell_type": "code",
   "execution_count": null,
   "metadata": {
    "collapsed": false,
    "scrolled": true
   },
   "outputs": [],
   "source": [
    "#dates - convert to year only as issue with month/day for most records creating inconsistent formatting.\n",
    "df.Start = df.Start.astype(str)\n",
    "df.End = df.End.astype(str)\n",
    "df['Start'] = df['Start'].str[-4:]\n",
    "df['End'] = df['End'].str[-4:]\n",
    "df.head()"
   ]
  },
  {
   "cell_type": "code",
   "execution_count": null,
   "metadata": {
    "collapsed": true
   },
   "outputs": [],
   "source": [
    "#Consistency check."
   ]
  },
  {
   "cell_type": "code",
   "execution_count": null,
   "metadata": {
    "collapsed": false
   },
   "outputs": [],
   "source": [
    "df['Type'].value_counts()  #Issues with mis-spelt type categories. ie Mass Movement Dry/dry"
   ]
  },
  {
   "cell_type": "code",
   "execution_count": null,
   "metadata": {
    "collapsed": false
   },
   "outputs": [],
   "source": [
    "df['Sub_Type'].value_counts() #Issues with mis-spelt Sub_type categories. ie Cold Wave/wave  "
   ]
  },
  {
   "cell_type": "code",
   "execution_count": null,
   "metadata": {
    "collapsed": false
   },
   "outputs": [],
   "source": [
    "#manually correct in python.\n",
    "df.replace(\"Cold Wave\",\"Cold wave\",regex=True, inplace=\"true\") \n",
    "df.replace(\"Bush/Brush fire\",\"Scrub/grassland fire\",regex=True, inplace=\"true\") \n",
    "df['Type'].replace(\"Mass Movement Dry\",\"Mass movement dry\",regex=True, inplace=\"true\") \n",
    "df['Type'].replace(\"Mass Movement Wet\",\"Mass movement wet\",regex=True, inplace=\"true\") \n",
    "df['Type'].replace(\"Transport accident\",\"Transport Accident\",regex=True, inplace=\"true\") \n",
    "df['Type'].value_counts()"
   ]
  },
  {
   "cell_type": "code",
   "execution_count": null,
   "metadata": {
    "collapsed": false
   },
   "outputs": [],
   "source": []
  },
  {
   "cell_type": "code",
   "execution_count": null,
   "metadata": {
    "collapsed": true
   },
   "outputs": [],
   "source": [
    "#Check numeric columns for abnormal values (Outliers)"
   ]
  },
  {
   "cell_type": "code",
   "execution_count": null,
   "metadata": {
    "collapsed": false
   },
   "outputs": [],
   "source": [
    "bp = df.boxplot(column='Killed', figsize=(5, 5))"
   ]
  },
  {
   "cell_type": "code",
   "execution_count": null,
   "metadata": {
    "collapsed": true
   },
   "outputs": [],
   "source": []
  },
  {
   "cell_type": "code",
   "execution_count": null,
   "metadata": {
    "collapsed": false
   },
   "outputs": [],
   "source": [
    "bp = df.boxplot(column='Cost', figsize=(50, 50))"
   ]
  },
  {
   "cell_type": "code",
   "execution_count": null,
   "metadata": {
    "collapsed": false
   },
   "outputs": [],
   "source": [
    "bp = df.boxplot(column='Affected', figsize=(5, 5))"
   ]
  },
  {
   "cell_type": "code",
   "execution_count": null,
   "metadata": {
    "collapsed": false
   },
   "outputs": [],
   "source": [
    "bp = df.boxplot(column='International support', figsize=(5, 5))"
   ]
  },
  {
   "cell_type": "code",
   "execution_count": null,
   "metadata": {
    "collapsed": false
   },
   "outputs": [],
   "source": [
    "df.duplicated() == True"
   ]
  },
  {
   "cell_type": "code",
   "execution_count": null,
   "metadata": {
    "collapsed": false
   },
   "outputs": [],
   "source": [
    "#check date logic  - ie End date ends after start date (Integrity constraint violation)\n",
    "dfIncorrectDates = df[df['End'] < df['Start']]"
   ]
  },
  {
   "cell_type": "code",
   "execution_count": null,
   "metadata": {
    "collapsed": false
   },
   "outputs": [],
   "source": [
    "dfIncorrectDates.head()"
   ]
  },
  {
   "cell_type": "code",
   "execution_count": null,
   "metadata": {
    "collapsed": false
   },
   "outputs": [],
   "source": [
    "#Correct date integrity constraint violation.\n",
    "\n",
    "df['End'] = df.apply(lambda x : x['Start'] if x['End'] < x['Start'] else x['End'], axis=1)"
   ]
  },
  {
   "cell_type": "code",
   "execution_count": null,
   "metadata": {
    "collapsed": false
   },
   "outputs": [],
   "source": [
    "dfIncorrectDates = df[df['End'] < df['Start']]\n",
    "df"
   ]
  },
  {
   "cell_type": "code",
   "execution_count": null,
   "metadata": {
    "collapsed": false
   },
   "outputs": [],
   "source": [
    "#df['Country'].value_counts()"
   ]
  },
  {
   "cell_type": "code",
   "execution_count": null,
   "metadata": {
    "collapsed": false
   },
   "outputs": [],
   "source": [
    "#street_type_re = re.compile(r'\\b\\S+?$', re.IGNORECASE) \n",
    "country_re = re.compile(r'\\b\\S+?$', re.IGNORECASE) \n",
    "df_country = df['Country']\n",
    "df_country.head()\n",
    "df_country.tail()\n",
    "df_country.sort_index()\n",
    "df2 = pd.DataFrame(df_country)\n",
    "df2[0:5]\n"
   ]
  },
  {
   "cell_type": "code",
   "execution_count": null,
   "metadata": {
    "collapsed": false
   },
   "outputs": [],
   "source": []
  },
  {
   "cell_type": "code",
   "execution_count": null,
   "metadata": {
    "collapsed": false
   },
   "outputs": [],
   "source": [
    "#gdf = df2.groupby(['Country']).count()\n",
    "#gdf[-5:]\n",
    "\n",
    "#gdf.dtypes\n",
    "#df['Country'].replace({'Chine': 'China'}, regex=True)\n",
    "#df['Country'].str.replace(\"Chine\",\"China\")\n",
    "\n",
    "df.replace(\"Chine\",\"China\",regex=True, inplace=\"true\") #french spelling\n",
    "df.replace(\"United Stats\",\"United States\",regex=True, inplace=\"true\") #spelling\n",
    "df.replace(\"USA\",\"United States\",regex=True, inplace=\"true\") #consistency\"\n",
    "#df['Country'].value_counts()\n",
    "#df[df['Country'] == \"Viet Nam\"]\n",
    "#df.query(['Country']=\"Viet Nam\")\n",
    "#df_country2 = pd.read_csv('Country_info.csv')\n",
    "#df[df['Location'] == \"(1)\"]\n",
    "\n",
    "df.sort_index()\n",
    "#df[df['Location'].str.contains(\" \")==True]\n",
    "df[df['Country'].str.contains(\"$\")==True]\n",
    "df[df['Country'].str.contains(\"United\")==True]\n",
    "df[df['Country'].str.contains(\"Russia\")==True]\n",
    "df['Country'].info\n",
    "\n",
    "#df[df['A'].str.contains(\"hello\")]\n",
    "#df.dtypes"
   ]
  },
  {
   "cell_type": "code",
   "execution_count": null,
   "metadata": {
    "collapsed": true
   },
   "outputs": [],
   "source": []
  },
  {
   "cell_type": "code",
   "execution_count": null,
   "metadata": {
    "collapsed": true
   },
   "outputs": [],
   "source": []
  },
  {
   "cell_type": "code",
   "execution_count": null,
   "metadata": {
    "collapsed": true
   },
   "outputs": [],
   "source": []
  },
  {
   "cell_type": "code",
   "execution_count": null,
   "metadata": {
    "collapsed": false
   },
   "outputs": [],
   "source": [
    "#def search(this, that): # look for this in that\n",
    "#    print (\"\\n\".join(s for s in that if this in s))\n",
    "df['Location'].value_counts()"
   ]
  },
  {
   "cell_type": "code",
   "execution_count": null,
   "metadata": {
    "collapsed": false
   },
   "outputs": [],
   "source": [
    "search('Afghanistan', df2)\n",
    "\n",
    "#df['Type'].value_counts()"
   ]
  },
  {
   "cell_type": "code",
   "execution_count": null,
   "metadata": {
    "collapsed": false
   },
   "outputs": [],
   "source": [
    "#df['Sub_Type'].value_counts()"
   ]
  },
  {
   "cell_type": "code",
   "execution_count": null,
   "metadata": {
    "collapsed": false
   },
   "outputs": [],
   "source": [
    "#df['Names'].value_counts()"
   ]
  },
  {
   "cell_type": "markdown",
   "metadata": {},
   "source": [
    "# TASK 2 OUTLIERS"
   ]
  },
  {
   "cell_type": "code",
   "execution_count": null,
   "metadata": {
    "collapsed": false
   },
   "outputs": [],
   "source": [
    "%matplotlib inline"
   ]
  },
  {
   "cell_type": "code",
   "execution_count": null,
   "metadata": {
    "collapsed": false
   },
   "outputs": [],
   "source": [
    "df.head()"
   ]
  },
  {
   "cell_type": "markdown",
   "metadata": {},
   "source": []
  },
  {
   "cell_type": "code",
   "execution_count": null,
   "metadata": {
    "collapsed": false
   },
   "outputs": [],
   "source": [
    "#IDEA!!!! - remove all these additional data frames, just work with one, and use 'group by' for the boxplot and a \n",
    "# single calculation for ABS/DIS\n",
    "\n",
    "dfFrance = df[df['Country'].str.contains(\"France\")==True]\n",
    "#dfFrance = df[df['Country'] == \"France\"]\n",
    "dfFrancekilled = dfFrance[['Type', 'Killed']]\n",
    "dfFrancekilled['dist'] = abs( dfFrancekilled['Killed'] - dfFrancekilled['Killed'].median())\n",
    "\n",
    "dfFrancekilledDrought = dfFrancekilled [dfFrancekilled ['Type'].str.contains(\"Drought\")==True]\n",
    "dfFrancekilledDrought['dist'] = abs( dfFrancekilledDrought['Killed'] - dfFrancekilledDrought['Killed'].median())\n",
    "\n",
    "dfFrancekilledEarth = dfFrancekilled [dfFrancekilled ['Type'].str.contains(\"Earth\")==True]\n",
    "dfFrancekilledEarth['dist'] = abs( dfFrancekilledEarth['Killed'] - dfFrancekilledEarth['Killed'].median())\n",
    "\n",
    "dfFrancekilledEp = dfFrancekilled [dfFrancekilled ['Type'].str.contains(\"Ep\")==True]\n",
    "dfFrancekilledEp['dist'] = abs( dfFrancekilledEp['Killed'] - dfFrancekilledEp['Killed'].median())\n",
    "\n",
    "dfFrancekilledEx = dfFrancekilled[dfFrancekilled ['Type'].str.contains(\"Extreme\")==True]\n",
    "dfFrancekilledEx['dist'] = abs( dfFrancekilledEx['Killed'] - dfFrancekilledEx['Killed'].median())\n",
    "\n",
    "dfFrancekilledFlood = dfFrancekilled[dfFrancekilled ['Type'].str.contains(\"Flood\")==True]\n",
    "dfFrancekilledFlood['dist'] = abs(dfFrancekilledFlood['Killed'] - dfFrancekilledFlood['Killed'].median())\n",
    "\n",
    "dfFrancekilledDry = dfFrancekilled [dfFrancekilled ['Type'].str.contains(\"dry\")==True]\n",
    "dfFrancekilledDry['dist'] = abs( dfFrancekilledDry['Killed'] - dfFrancekilledDry['Killed'].median())\n",
    "\n",
    "dfFrancekilledWet = dfFrancekilled [dfFrancekilled ['Type'].str.contains(\"wet\")==True]\n",
    "dfFrancekilledWet['dist'] = abs( dfFrancekilledWet['Killed'] - dfFrancekilledWet['Killed'].median())\n",
    "\n",
    "dfFrancekilledMisc = dfFrancekilled [dfFrancekilled ['Type'].str.contains(\"Misc\")==True]\n",
    "dfFrancekilledMisc['dist'] = abs( dfFrancekilledMisc['Killed'] - dfFrancekilledMisc['Killed'].median())\n",
    "\n",
    "dfFrancekilledStorm = dfFrancekilled[dfFrancekilled ['Type'].str.contains(\"Storm\")==True]\n",
    "dfFrancekilledStorm['dist'] = abs( dfFrancekilledStorm['Killed'] - dfFrancekilledStorm['Killed'].median())\n",
    "\n",
    "dfFrancekilledTrans = dfFrancekilled[dfFrancekilled ['Type'].str.contains(\"Trans\")==True]\n",
    "dfFrancekilledTrans['dist'] = abs( dfFrancekilledTrans['Killed'] - dfFrancekilledTrans['Killed'].median())\n",
    "\n",
    "dfFrancekilledFire = dfFrancekilled[dfFrancekilled ['Type'].str.contains(\"fire\")==True]\n",
    "dfFrancekilledFire['dist'] = abs( dfFrancekilledFire['Killed'] - dfFrancekilledFire['Killed'].median())\n",
    "\n",
    "dfFrancekilledInd = dfFrancekilled[dfFrancekilled ['Type'].str.contains(\"Ind\")==True]\n",
    "dfFrancekilledInd['dist'] = abs( dfFrancekilledInd['Killed'] - dfFrancekilledInd['Killed'].median())\n",
    "\n",
    "dfStorm2000 = dfStorm[dfStorm['Start_Year'].str.contains(\"2000\")==True]\n",
    "dfStorm2000['dist'] = abs(dfStorm2000['Killed'] - dfStorm2000['Killed'].median())\n",
    "\n"
   ]
  },
  {
   "cell_type": "code",
   "execution_count": null,
   "metadata": {
    "collapsed": true
   },
   "outputs": [],
   "source": [
    "#overall..."
   ]
  },
  {
   "cell_type": "code",
   "execution_count": null,
   "metadata": {
    "collapsed": false
   },
   "outputs": [],
   "source": [
    "bp = dfFrancekilled.boxplot(column='Killed',by='Type', figsize=(30, 10))\n"
   ]
  },
  {
   "cell_type": "code",
   "execution_count": null,
   "metadata": {
    "collapsed": true
   },
   "outputs": [],
   "source": [
    "#Key\n",
    "#1. Flood\n",
    "#2. Earthquake\n",
    "#3. WildFire\n",
    "#4. Transport Accident\n",
    "#5. Epidemic\n",
    "#6.  Storm\n",
    "#7.  Misc Accident\n",
    "#8.  Mass Movement Wet\n",
    "#9.   Mass Movement Dry\n",
    "#10.  Extreme Temperature\n",
    "#11.  Drought\n",
    "#12.  Industrial Accident\n"
   ]
  },
  {
   "cell_type": "code",
   "execution_count": null,
   "metadata": {
    "collapsed": true
   },
   "outputs": [],
   "source": [
    "#1. Flood"
   ]
  },
  {
   "cell_type": "code",
   "execution_count": null,
   "metadata": {
    "collapsed": false
   },
   "outputs": [],
   "source": [
    "dfFrancekilledFlood['dist'].median()"
   ]
  },
  {
   "cell_type": "code",
   "execution_count": null,
   "metadata": {
    "collapsed": false
   },
   "outputs": [],
   "source": [
    "dfFrancekilledFlood['Killed'].median()"
   ]
  },
  {
   "cell_type": "code",
   "execution_count": null,
   "metadata": {
    "collapsed": false
   },
   "outputs": [],
   "source": [
    "dfFrancekilledFlood['Killed'].describe()"
   ]
  },
  {
   "cell_type": "code",
   "execution_count": null,
   "metadata": {
    "collapsed": false
   },
   "outputs": [],
   "source": [
    "bp = dfFrancekilledFlood.boxplot(column='Killed',by='Type', figsize=(5, 5))"
   ]
  },
  {
   "cell_type": "code",
   "execution_count": null,
   "metadata": {
    "collapsed": false
   },
   "outputs": [],
   "source": [
    "dfFrancekilledFlood[dfFrancekilledFlood['Killed'] > 0] "
   ]
  },
  {
   "cell_type": "code",
   "execution_count": null,
   "metadata": {
    "collapsed": true
   },
   "outputs": [],
   "source": [
    "#2. Earthquake"
   ]
  },
  {
   "cell_type": "code",
   "execution_count": null,
   "metadata": {
    "collapsed": false
   },
   "outputs": [],
   "source": [
    "dfFrancekilledEarth['dist'].median()  #Median"
   ]
  },
  {
   "cell_type": "code",
   "execution_count": null,
   "metadata": {
    "collapsed": false
   },
   "outputs": [],
   "source": [
    "dfFrancekilledEarth['Killed'].median()"
   ]
  },
  {
   "cell_type": "code",
   "execution_count": null,
   "metadata": {
    "collapsed": false
   },
   "outputs": [],
   "source": [
    "dfFrancekilledEarth['Killed'].describe()"
   ]
  },
  {
   "cell_type": "code",
   "execution_count": null,
   "metadata": {
    "collapsed": false
   },
   "outputs": [],
   "source": [
    "bp = dfFrancekilledEarth.boxplot(column='Killed',by='Type', figsize=(5, 5))"
   ]
  },
  {
   "cell_type": "code",
   "execution_count": null,
   "metadata": {
    "collapsed": false
   },
   "outputs": [],
   "source": [
    "dfFrancekilledEarth[dfFrancekilledEarth['Killed'] > 0] "
   ]
  },
  {
   "cell_type": "code",
   "execution_count": null,
   "metadata": {
    "collapsed": true
   },
   "outputs": [],
   "source": [
    "#3. WildFire"
   ]
  },
  {
   "cell_type": "code",
   "execution_count": null,
   "metadata": {
    "collapsed": false
   },
   "outputs": [],
   "source": [
    "dfFrancekilledFire['dist'].median()"
   ]
  },
  {
   "cell_type": "code",
   "execution_count": null,
   "metadata": {
    "collapsed": false
   },
   "outputs": [],
   "source": [
    "dfFrancekilledFire['Killed'].describe()"
   ]
  },
  {
   "cell_type": "code",
   "execution_count": null,
   "metadata": {
    "collapsed": false
   },
   "outputs": [],
   "source": [
    "dfFrancekilledFire['Killed'].median()"
   ]
  },
  {
   "cell_type": "code",
   "execution_count": null,
   "metadata": {
    "collapsed": false
   },
   "outputs": [],
   "source": [
    "bp = dfFrancekilledFire.boxplot(column='Killed',by='Type', figsize=(5, 5))"
   ]
  },
  {
   "cell_type": "code",
   "execution_count": null,
   "metadata": {
    "collapsed": false
   },
   "outputs": [],
   "source": [
    "dfFrancekilledFire[dfFrancekilledFire['Killed'] > 0] "
   ]
  },
  {
   "cell_type": "code",
   "execution_count": null,
   "metadata": {
    "collapsed": true
   },
   "outputs": [],
   "source": [
    "#4. Transport Accident"
   ]
  },
  {
   "cell_type": "code",
   "execution_count": null,
   "metadata": {
    "collapsed": false
   },
   "outputs": [],
   "source": [
    "dfFrancekilledTrans['dist'].median()"
   ]
  },
  {
   "cell_type": "code",
   "execution_count": null,
   "metadata": {
    "collapsed": false
   },
   "outputs": [],
   "source": [
    "dfFrancekilledTrans['Killed'].median()"
   ]
  },
  {
   "cell_type": "code",
   "execution_count": null,
   "metadata": {
    "collapsed": false
   },
   "outputs": [],
   "source": [
    "dfFrancekilledTrans['Killed'].describe()"
   ]
  },
  {
   "cell_type": "code",
   "execution_count": null,
   "metadata": {
    "collapsed": false
   },
   "outputs": [],
   "source": [
    "bp = dfFrancekilledTrans.boxplot(column='Killed',by='Type', figsize=(5, 5))"
   ]
  },
  {
   "cell_type": "code",
   "execution_count": null,
   "metadata": {
    "collapsed": false
   },
   "outputs": [],
   "source": [
    "dfFrancekilledTrans[dfFrancekilledTrans['Killed'] > 0] "
   ]
  },
  {
   "cell_type": "code",
   "execution_count": null,
   "metadata": {
    "collapsed": true
   },
   "outputs": [],
   "source": [
    "#5. Epidemic"
   ]
  },
  {
   "cell_type": "code",
   "execution_count": null,
   "metadata": {
    "collapsed": false
   },
   "outputs": [],
   "source": [
    "dfFrancekilledEp['dist'].median()"
   ]
  },
  {
   "cell_type": "code",
   "execution_count": null,
   "metadata": {
    "collapsed": false
   },
   "outputs": [],
   "source": [
    "dfFrancekilledEp['Killed'].median()"
   ]
  },
  {
   "cell_type": "code",
   "execution_count": null,
   "metadata": {
    "collapsed": false
   },
   "outputs": [],
   "source": [
    "dfFrancekilledEp['Killed'].describe()"
   ]
  },
  {
   "cell_type": "code",
   "execution_count": null,
   "metadata": {
    "collapsed": false
   },
   "outputs": [],
   "source": [
    "bp = dfFrancekilledEp.boxplot(column='Killed',by='Type', figsize=(5, 5))"
   ]
  },
  {
   "cell_type": "code",
   "execution_count": null,
   "metadata": {
    "collapsed": true
   },
   "outputs": [],
   "source": [
    "dfFrancekilledTrans[dfFrancekilledTrans['Killed'] > 100] "
   ]
  },
  {
   "cell_type": "code",
   "execution_count": null,
   "metadata": {
    "collapsed": true
   },
   "outputs": [],
   "source": [
    "#6.  Storm"
   ]
  },
  {
   "cell_type": "code",
   "execution_count": null,
   "metadata": {
    "collapsed": false
   },
   "outputs": [],
   "source": [
    "dfFrancekilledStorm['dist'].median()"
   ]
  },
  {
   "cell_type": "code",
   "execution_count": null,
   "metadata": {
    "collapsed": false
   },
   "outputs": [],
   "source": [
    "dfFrancekilledStorm['Killed'].median()"
   ]
  },
  {
   "cell_type": "code",
   "execution_count": null,
   "metadata": {
    "collapsed": false
   },
   "outputs": [],
   "source": [
    "dfFrancekilledStorm['Killed'].describe()"
   ]
  },
  {
   "cell_type": "code",
   "execution_count": null,
   "metadata": {
    "collapsed": false
   },
   "outputs": [],
   "source": [
    "bp = dfFrancekilledStorm.boxplot(column='Killed',by='Type', figsize=(5, 5))"
   ]
  },
  {
   "cell_type": "code",
   "execution_count": null,
   "metadata": {
    "collapsed": false
   },
   "outputs": [],
   "source": [
    "dfFrancekilledStorm[dfFrancekilledStorm['Killed'] > 0] "
   ]
  },
  {
   "cell_type": "code",
   "execution_count": null,
   "metadata": {
    "collapsed": true
   },
   "outputs": [],
   "source": [
    "#7.  Misc Accident"
   ]
  },
  {
   "cell_type": "code",
   "execution_count": null,
   "metadata": {
    "collapsed": false
   },
   "outputs": [],
   "source": [
    "dfFrancekilledMisc['dist'].median()"
   ]
  },
  {
   "cell_type": "code",
   "execution_count": null,
   "metadata": {
    "collapsed": false
   },
   "outputs": [],
   "source": [
    "dfFrancekilledMisc['Killed'].median()"
   ]
  },
  {
   "cell_type": "code",
   "execution_count": null,
   "metadata": {
    "collapsed": false
   },
   "outputs": [],
   "source": [
    "dfFrancekilledMisc['Killed'].describe()"
   ]
  },
  {
   "cell_type": "code",
   "execution_count": null,
   "metadata": {
    "collapsed": false
   },
   "outputs": [],
   "source": [
    "bp = dfFrancekilledMisc.boxplot(column='Killed',by='Type', figsize=(5, 5))"
   ]
  },
  {
   "cell_type": "code",
   "execution_count": null,
   "metadata": {
    "collapsed": false
   },
   "outputs": [],
   "source": [
    "dfFrancekilledMisc[dfFrancekilledMisc['Killed'] > 0]"
   ]
  },
  {
   "cell_type": "code",
   "execution_count": null,
   "metadata": {
    "collapsed": true
   },
   "outputs": [],
   "source": [
    "#8.  Mass Movement Wet"
   ]
  },
  {
   "cell_type": "code",
   "execution_count": null,
   "metadata": {
    "collapsed": false
   },
   "outputs": [],
   "source": [
    "dfFrancekilledWet['dist'].median()"
   ]
  },
  {
   "cell_type": "code",
   "execution_count": null,
   "metadata": {
    "collapsed": false
   },
   "outputs": [],
   "source": [
    "dfFrancekilledWet['Killed'].median()"
   ]
  },
  {
   "cell_type": "code",
   "execution_count": null,
   "metadata": {
    "collapsed": false
   },
   "outputs": [],
   "source": [
    "dfFrancekilledWet['Killed'].describe()"
   ]
  },
  {
   "cell_type": "code",
   "execution_count": null,
   "metadata": {
    "collapsed": false
   },
   "outputs": [],
   "source": [
    "bp = dfFrancekilledWet.boxplot(column='Killed',by='Type', figsize=(5, 5))"
   ]
  },
  {
   "cell_type": "code",
   "execution_count": null,
   "metadata": {
    "collapsed": false
   },
   "outputs": [],
   "source": [
    "dfFrancekilledWet[dfFrancekilledWet['Killed'] > 10]"
   ]
  },
  {
   "cell_type": "code",
   "execution_count": null,
   "metadata": {
    "collapsed": true
   },
   "outputs": [],
   "source": [
    "#9. Mass Movement Dry"
   ]
  },
  {
   "cell_type": "code",
   "execution_count": null,
   "metadata": {
    "collapsed": false
   },
   "outputs": [],
   "source": [
    "dfFrancekilledDry['dist'].median()"
   ]
  },
  {
   "cell_type": "code",
   "execution_count": null,
   "metadata": {
    "collapsed": false
   },
   "outputs": [],
   "source": [
    "dfFrancekilledDry['Killed'].median()"
   ]
  },
  {
   "cell_type": "code",
   "execution_count": null,
   "metadata": {
    "collapsed": false
   },
   "outputs": [],
   "source": [
    "dfFrancekilledDry['Killed'].describe()"
   ]
  },
  {
   "cell_type": "code",
   "execution_count": null,
   "metadata": {
    "collapsed": false
   },
   "outputs": [],
   "source": [
    "bp = dfFrancekilledDry.boxplot(column='Killed',by='Type', figsize=(5, 5))"
   ]
  },
  {
   "cell_type": "code",
   "execution_count": null,
   "metadata": {
    "collapsed": false
   },
   "outputs": [],
   "source": [
    "dfFrancekilledDry[dfFrancekilledDry['Killed'] > 0]"
   ]
  },
  {
   "cell_type": "code",
   "execution_count": null,
   "metadata": {
    "collapsed": true
   },
   "outputs": [],
   "source": [
    "#10.  Extreme Temperature"
   ]
  },
  {
   "cell_type": "code",
   "execution_count": null,
   "metadata": {
    "collapsed": false
   },
   "outputs": [],
   "source": [
    "dfFrancekilledEx['dist'].median()"
   ]
  },
  {
   "cell_type": "code",
   "execution_count": null,
   "metadata": {
    "collapsed": false
   },
   "outputs": [],
   "source": [
    "dfFrancekilledEx['Killed'].median()"
   ]
  },
  {
   "cell_type": "code",
   "execution_count": null,
   "metadata": {
    "collapsed": false
   },
   "outputs": [],
   "source": [
    "dfFrancekilledEx['Killed'].describe()"
   ]
  },
  {
   "cell_type": "code",
   "execution_count": null,
   "metadata": {
    "collapsed": false
   },
   "outputs": [],
   "source": [
    "bp = dfFrancekilledEx.boxplot(column='Killed',by='Type', figsize=(5, 5))"
   ]
  },
  {
   "cell_type": "code",
   "execution_count": null,
   "metadata": {
    "collapsed": false
   },
   "outputs": [],
   "source": [
    "dfFrancekilledEx[dfFrancekilledEx['Killed'] > 0]"
   ]
  },
  {
   "cell_type": "code",
   "execution_count": null,
   "metadata": {
    "collapsed": true
   },
   "outputs": [],
   "source": [
    "#11.  Drought"
   ]
  },
  {
   "cell_type": "code",
   "execution_count": null,
   "metadata": {
    "collapsed": false
   },
   "outputs": [],
   "source": [
    "dfFrancekilledDrought['dist'].median()"
   ]
  },
  {
   "cell_type": "code",
   "execution_count": null,
   "metadata": {
    "collapsed": false
   },
   "outputs": [],
   "source": [
    "dfFrancekilledDrought['Killed'].median()"
   ]
  },
  {
   "cell_type": "code",
   "execution_count": null,
   "metadata": {
    "collapsed": false
   },
   "outputs": [],
   "source": [
    "dfFrancekilledDrought['Killed'].describe()"
   ]
  },
  {
   "cell_type": "code",
   "execution_count": null,
   "metadata": {
    "collapsed": false
   },
   "outputs": [],
   "source": [
    "bp = dfFrancekilledDrought.boxplot(column='Killed',by='Type', figsize=(5, 5))"
   ]
  },
  {
   "cell_type": "code",
   "execution_count": null,
   "metadata": {
    "collapsed": true
   },
   "outputs": [],
   "source": []
  },
  {
   "cell_type": "code",
   "execution_count": null,
   "metadata": {
    "collapsed": true
   },
   "outputs": [],
   "source": [
    "#12.  Industrial Accident"
   ]
  },
  {
   "cell_type": "code",
   "execution_count": null,
   "metadata": {
    "collapsed": false
   },
   "outputs": [],
   "source": [
    "dfFrancekilledInd['dist'].median()"
   ]
  },
  {
   "cell_type": "code",
   "execution_count": null,
   "metadata": {
    "collapsed": false
   },
   "outputs": [],
   "source": [
    "dfFrancekilledInd['Killed'].describe()"
   ]
  },
  {
   "cell_type": "code",
   "execution_count": null,
   "metadata": {
    "collapsed": false
   },
   "outputs": [],
   "source": [
    "dfFrancekilledInd['Killed'].median()"
   ]
  },
  {
   "cell_type": "code",
   "execution_count": null,
   "metadata": {
    "collapsed": false
   },
   "outputs": [],
   "source": [
    "bp = dfFrancekilledInd.boxplot(column='Killed', figsize=(30, 10))"
   ]
  },
  {
   "cell_type": "code",
   "execution_count": null,
   "metadata": {
    "collapsed": false
   },
   "outputs": [],
   "source": [
    "dfFrancekilledInd[dfFrancekilledInd['Killed'] > 0]"
   ]
  },
  {
   "cell_type": "code",
   "execution_count": null,
   "metadata": {
    "collapsed": true
   },
   "outputs": [],
   "source": [
    "# 2 - Storm - 2000."
   ]
  },
  {
   "cell_type": "code",
   "execution_count": null,
   "metadata": {
    "collapsed": false
   },
   "outputs": [],
   "source": [
    "#Killed by Storm in 2000.\n",
    "bp = dfStorm2000.boxplot(column='Killed', figsize=(30, 10))"
   ]
  },
  {
   "cell_type": "code",
   "execution_count": null,
   "metadata": {
    "collapsed": false
   },
   "outputs": [],
   "source": [
    "dfStorm2000['dist'].median()"
   ]
  },
  {
   "cell_type": "code",
   "execution_count": null,
   "metadata": {
    "collapsed": false
   },
   "outputs": [],
   "source": [
    "dfStorm2000['Killed'].median()"
   ]
  },
  {
   "cell_type": "code",
   "execution_count": null,
   "metadata": {
    "collapsed": false
   },
   "outputs": [],
   "source": [
    "dfStorm2000['Killed'].describe()"
   ]
  },
  {
   "cell_type": "code",
   "execution_count": null,
   "metadata": {
    "collapsed": false
   },
   "outputs": [],
   "source": [
    "dfStorm2000[dfStorm2000['Killed'] > 45]"
   ]
  },
  {
   "cell_type": "code",
   "execution_count": null,
   "metadata": {
    "collapsed": false
   },
   "outputs": [],
   "source": []
  },
  {
   "cell_type": "markdown",
   "metadata": {},
   "source": [
    "# TASK 3"
   ]
  },
  {
   "cell_type": "code",
   "execution_count": null,
   "metadata": {
    "collapsed": true
   },
   "outputs": [],
   "source": [
    "#1.  Deletion Methods"
   ]
  },
  {
   "cell_type": "code",
   "execution_count": null,
   "metadata": {
    "collapsed": true
   },
   "outputs": [],
   "source": [
    "#1.1 - Check for null values - to identify which columns are missing the most data."
   ]
  },
  {
   "cell_type": "code",
   "execution_count": null,
   "metadata": {
    "collapsed": true
   },
   "outputs": [],
   "source": [
    "#See if this can be moved to section 1 - exploration and referenced later...."
   ]
  },
  {
   "cell_type": "code",
   "execution_count": null,
   "metadata": {
    "collapsed": false
   },
   "outputs": [],
   "source": [
    "df['Start'].isnull().sum()"
   ]
  },
  {
   "cell_type": "code",
   "execution_count": null,
   "metadata": {
    "collapsed": false
   },
   "outputs": [],
   "source": [
    "df['End'].isnull().sum()"
   ]
  },
  {
   "cell_type": "code",
   "execution_count": null,
   "metadata": {
    "collapsed": false
   },
   "outputs": [],
   "source": [
    "df['Country'].isnull().sum()"
   ]
  },
  {
   "cell_type": "code",
   "execution_count": null,
   "metadata": {
    "collapsed": false
   },
   "outputs": [],
   "source": [
    "df['Location'].isnull().sum()  #2360 values missing."
   ]
  },
  {
   "cell_type": "code",
   "execution_count": null,
   "metadata": {
    "collapsed": false
   },
   "outputs": [],
   "source": [
    "df['Type'].isnull().sum()"
   ]
  },
  {
   "cell_type": "code",
   "execution_count": null,
   "metadata": {
    "collapsed": false
   },
   "outputs": [],
   "source": [
    "df['Sub_Type'].isnull().sum() #2304 values missing"
   ]
  },
  {
   "cell_type": "code",
   "execution_count": null,
   "metadata": {
    "collapsed": false
   },
   "outputs": [],
   "source": [
    "df['Names'].isnull().sum() #12176 values missing."
   ]
  },
  {
   "cell_type": "code",
   "execution_count": null,
   "metadata": {
    "collapsed": false
   },
   "outputs": [],
   "source": [
    "df['Killed'].isnull().sum() #3832 values missing\n"
   ]
  },
  {
   "cell_type": "code",
   "execution_count": null,
   "metadata": {
    "collapsed": false
   },
   "outputs": [],
   "source": [
    "df['Affected'].isnull().sum() #6743 values missing"
   ]
  },
  {
   "cell_type": "code",
   "execution_count": null,
   "metadata": {
    "collapsed": false
   },
   "outputs": [],
   "source": [
    "df['Cost'].isnull().sum() #14056 values missing"
   ]
  },
  {
   "cell_type": "code",
   "execution_count": null,
   "metadata": {
    "collapsed": false
   },
   "outputs": [],
   "source": [
    "bp = df.boxplot(column='Cost', figsize=(30, 10))\n"
   ]
  },
  {
   "cell_type": "code",
   "execution_count": null,
   "metadata": {
    "collapsed": false
   },
   "outputs": [],
   "source": [
    "df['Cost'].describe()"
   ]
  },
  {
   "cell_type": "code",
   "execution_count": null,
   "metadata": {
    "collapsed": false
   },
   "outputs": [],
   "source": [
    "df['International support'].isnull().sum() #9320 values missing"
   ]
  },
  {
   "cell_type": "code",
   "execution_count": null,
   "metadata": {
    "collapsed": false
   },
   "outputs": [],
   "source": [
    "df['ID'].isnull().sum()"
   ]
  },
  {
   "cell_type": "code",
   "execution_count": null,
   "metadata": {
    "collapsed": true
   },
   "outputs": [],
   "source": [
    "#Deletion Method - Remove Cost field."
   ]
  },
  {
   "cell_type": "code",
   "execution_count": null,
   "metadata": {
    "collapsed": true
   },
   "outputs": [],
   "source": [
    "df.drop(['Cost'], axis = 1, inplace=True)"
   ]
  },
  {
   "cell_type": "code",
   "execution_count": null,
   "metadata": {
    "collapsed": false
   },
   "outputs": [],
   "source": [
    "df"
   ]
  },
  {
   "cell_type": "code",
   "execution_count": null,
   "metadata": {
    "collapsed": true
   },
   "outputs": [],
   "source": []
  },
  {
   "cell_type": "code",
   "execution_count": null,
   "metadata": {
    "collapsed": true
   },
   "outputs": [],
   "source": []
  },
  {
   "cell_type": "code",
   "execution_count": null,
   "metadata": {
    "collapsed": true
   },
   "outputs": [],
   "source": []
  },
  {
   "cell_type": "code",
   "execution_count": null,
   "metadata": {
    "collapsed": true
   },
   "outputs": [],
   "source": [
    "#2.  Imputing Data"
   ]
  },
  {
   "cell_type": "code",
   "execution_count": null,
   "metadata": {
    "collapsed": true
   },
   "outputs": [],
   "source": [
    "#clean some of columns not already cleaned... check if done in earlier code."
   ]
  },
  {
   "cell_type": "code",
   "execution_count": 4,
   "metadata": {
    "collapsed": false
   },
   "outputs": [],
   "source": [
    "df_training = df"
   ]
  },
  {
   "cell_type": "code",
   "execution_count": 34,
   "metadata": {
    "collapsed": false
   },
   "outputs": [],
   "source": [
    "df_training = df_training[pd.notnull(df_training['Country'])]\n",
    "df_training = df_training[pd.notnull(df_training['Affected'])]\n",
    "df_training = df_training[pd.notnull(df_training['Killed'])]\n",
    "df_training = df_training[pd.notnull(df_training['Type'])]"
   ]
  },
  {
   "cell_type": "code",
   "execution_count": null,
   "metadata": {
    "collapsed": false
   },
   "outputs": [],
   "source": []
  },
  {
   "cell_type": "code",
   "execution_count": 44,
   "metadata": {
    "collapsed": false
   },
   "outputs": [],
   "source": [
    "df_predict = df_training\n",
    "df_compare = df_training[df_training['International support'] != 0]  #exclude zero records for training model."
   ]
  },
  {
   "cell_type": "code",
   "execution_count": 45,
   "metadata": {
    "collapsed": true
   },
   "outputs": [],
   "source": [
    "df_predict['International support'].fillna(('0.0'), inplace=True)"
   ]
  },
  {
   "cell_type": "code",
   "execution_count": 46,
   "metadata": {
    "collapsed": true
   },
   "outputs": [],
   "source": [
    "df_predict = df_training[df_training['International support'] == 0]  #Include only zero records for prediction\n"
   ]
  },
  {
   "cell_type": "code",
   "execution_count": null,
   "metadata": {
    "collapsed": true
   },
   "outputs": [],
   "source": []
  },
  {
   "cell_type": "code",
   "execution_count": 47,
   "metadata": {
    "collapsed": false
   },
   "outputs": [],
   "source": [
    "import regression "
   ]
  },
  {
   "cell_type": "code",
   "execution_count": 48,
   "metadata": {
    "collapsed": false
   },
   "outputs": [
    {
     "name": "stdout",
     "output_type": "stream",
     "text": [
      "Standard error: 0.00\n"
     ]
    }
   ],
   "source": [
    "trainedModel = regression.train(df = df_compare)"
   ]
  },
  {
   "cell_type": "code",
   "execution_count": 49,
   "metadata": {
    "collapsed": false
   },
   "outputs": [],
   "source": [
    "predictedValues = regression.predict(model = trainedModel , df = df_predict)"
   ]
  },
  {
   "cell_type": "code",
   "execution_count": 50,
   "metadata": {
    "collapsed": false
   },
   "outputs": [
    {
     "data": {
      "text/plain": [
       "array([  852.57129928,   562.45072462,   562.52279252,   671.90947851,\n",
       "        1131.382657  ,  1037.21938697,   808.65936046,   808.70948103,\n",
       "         852.84081084,  1260.36514812,  1172.82455278,  1282.26193705,\n",
       "        1175.29679103,  1859.2626778 ,  1249.35705226,   731.24177382,\n",
       "         731.24158231,  1010.28956308,  1696.07599358,  1222.30734585,\n",
       "        1222.98499126,  1192.14533   ,  1191.52336245,   935.03177039,\n",
       "        1215.7680651 ,  1121.20590445,   957.33435708,  1172.60058067,\n",
       "        1007.9389212 ,  1544.52015216,  1544.5271104 ,  1544.52124544,\n",
       "        1544.52073436,   934.62117993,   934.62083223,   644.09424981,\n",
       "        1219.56794398,  1219.5673233 ,  1219.56759471,  1146.25156875,\n",
       "        1253.80777101,  1866.09212177,  1025.93687163,   448.80660711,\n",
       "          87.82815674,   742.24931804,  1314.42976809,  1022.31954035,\n",
       "        1022.31807686,  1022.33723134,  1022.62243726,  1023.28418398,\n",
       "        1131.76906976,  1131.76715663,  1131.76769112,  1131.79023665,\n",
       "        1024.80228975,  1024.80297659,   770.62734448,  1449.83990482,\n",
       "         687.79452402,   687.78609577,  1242.55197686,  1242.55629441,\n",
       "        1097.22353888,  1309.45161969,   916.56626138,  1127.10456752,\n",
       "        1077.68653593,  1077.68507312,   716.67260366,  1365.75078998,\n",
       "        1687.90628507,   728.23918534,   589.72419506,   592.10344402,\n",
       "        1202.13090688,  1717.29500642,  1434.14274994,  1585.91747173,\n",
       "        1298.23285301,  1295.79528731,  1295.82721503,  1296.4936855 ,\n",
       "        1313.94794443,  1300.90912914,  1296.04849912,  1371.60864349,\n",
       "        1371.60930018,  1371.60881588,  1371.60824358,  1371.61323078,\n",
       "        1371.61091243,  1371.61056225,  1340.0098181 ,  1908.19218097,\n",
       "        1908.22008124,  1909.1436435 ,  1908.33449228,  1908.25714275,\n",
       "        1910.71683825,  1298.29233645,  1298.29195342,  1298.29183325,\n",
       "        1298.29649287,   937.63624355,   951.66866015,   820.63243827,\n",
       "         813.08691671,   813.52862857,   814.64334559,   813.71250188,\n",
       "         888.88206317,  1315.4345095 ,   815.56554144,   815.56490185,\n",
       "         433.23344522,   556.62857231,   556.65960637,   418.2982115 ,\n",
       "         418.52464827,  1031.48319244,  1048.3058223 ,  1553.81196536,\n",
       "        1517.7689533 ,   772.94819282,  1555.4280953 ,  1064.18319573,\n",
       "        1032.55921658,  1032.55074081,   990.86648901,  1285.54744483,\n",
       "        1285.54701417,  1285.54716315,  1285.58574701,  1285.54736547,\n",
       "        1161.45349273,  1105.67025926,  1068.5823961 ,   946.29999853,\n",
       "         657.688124  ,   656.36716687,   656.77030851,   658.67562616,\n",
       "         997.19890656,  1608.26312667,   856.72262126,   676.06406008,\n",
       "         676.06436952,   569.09928141,   495.49989959,  1107.26633716,\n",
       "         497.36731317,  1185.26522103,  1218.91242294,  1067.6927008 ,\n",
       "        1077.81384739,   787.68448552,   790.17770954,   790.17787765,\n",
       "         790.17778335,  1196.90047073,   909.27788592,   909.27573896,\n",
       "         379.63299949,  1097.94336797,   807.82967413,   808.44585547,\n",
       "        1420.31151492,   810.31790749,   983.17580631,  1092.54113462,\n",
       "        1289.12874763,  1398.58845235,  1901.52995276,  1901.52915204,\n",
       "        1225.75016408,   810.88396968,   539.66511188,   522.18892175,\n",
       "         526.43639491,   520.92283717,   522.34292686,   731.88850031,\n",
       "         527.07261112,   596.5755571 ,   596.57476178,   596.58016091,\n",
       "         630.22323971,   630.22495615,  1133.15834292,  1133.31928794,\n",
       "         523.25904767,   523.25927774,   523.25881234,   523.25844934,\n",
       "         523.25785701,   523.25836   ,   523.2585074 ,   523.25844776,\n",
       "         523.25927234,   523.25909343,  1255.33634401,  1255.65454507,\n",
       "        1255.384727  ,  1258.22192408,  1255.44540728,  1255.33670026,\n",
       "        1117.52338148,  1118.36061262,  1117.09149294,  1118.62894627,\n",
       "        1120.29906785,  1192.80399811,  1161.17360351,  1161.19857818,\n",
       "        1119.48789744,  1119.48821386,  1668.03003521,  1341.29880286,\n",
       "        1340.28903113,  1340.2889132 ,  1340.3192879 ,  1340.34871129,\n",
       "        1340.43187026,  1201.93572402,  1201.94634987,  1201.93593174,\n",
       "        1311.39634535,  1204.43162655,  1204.43193756,  1204.43166818,\n",
       "        1204.43121583,  1204.43175257,  1294.80376887,  1135.89905969,\n",
       "        1077.73689228,   947.53066897,   983.51895908,   983.54674077,\n",
       "         941.83425269,  1511.56160772,  1460.70309661,  1322.36164547,\n",
       "        1934.80631739,  1935.14643356,  1934.85057551,  1938.17738849,\n",
       "        1873.33336244,  1197.92828196,   907.96258571,   908.18452783,\n",
       "        1017.26807681,  1040.36534487,  1040.36104152,  1041.79780794,\n",
       "        1653.29996157,  1168.73923452,  1541.74096589,   518.19103551,\n",
       "         485.01780432,   986.76510749,   699.13174942,   854.66914722,\n",
       "         564.55809208,  1581.45261475,  1291.39295528,  1331.33227631,\n",
       "        1098.21721241,  1177.87769696,  1722.29973928,  1710.14441519,\n",
       "        1100.08300317,  1260.2035006 ,   522.34163431,   524.81945742,\n",
       "         524.81986723,   524.82013594,   844.45651   ,   996.23552998,\n",
       "         996.24914311,  1319.88488369,  1028.79426571,  1029.34676152,\n",
       "        1138.06631475,  1641.22381548,   444.6805614 ,   426.91462775,\n",
       "         426.11273957,   428.43112098,   428.43116644,   795.08492581,\n",
       "         795.09681104,   505.07410007,  1655.70416208,  1655.82191724,\n",
       "        1441.39469627,  1368.08175461,   553.55851157,   380.64254223,\n",
       "         380.29820642,   388.26255703,   456.09044324,   489.73861286,\n",
       "         992.67414208,   992.67296216,   382.77318583,   382.77358416,\n",
       "         594.04766588,   499.88354448,  1099.67337534,  1208.82847822,\n",
       "        1101.85300338,   803.48313354,   514.578151  ,   517.53861242,\n",
       "         513.372339  ,   589.17601656,   622.82458586,   622.82496394,\n",
       "        1125.81183214,  1135.19221953,  1125.85366286,  1125.76439864,\n",
       "        1128.41032596,  1125.76450937,  1147.19326793,  1125.78198597,\n",
       "        1126.07757303,   515.86001874,   515.8602798 ,   925.89314048,\n",
       "         626.58638197,   626.68801007,   626.96134316,   479.26926394,\n",
       "         555.05204111,   481.73573812,   481.7361    ,  1147.13357701,\n",
       "        1285.33137665,  1394.79228514,  1287.82774232,  1287.82825611,\n",
       "        1139.01284119,  1198.68233177,  1613.25545172,  1313.53360452,\n",
       "        1206.17416816,   822.19429748,   824.67867525,   824.67823671,\n",
       "         824.67826821,   824.67813566,   824.67881058,  1261.61049178,\n",
       "        1263.9820067 ,  1344.20452457,  1254.45926751,   968.72572085,\n",
       "         876.72730539,   876.69793849,   589.05846287,   589.06016229,\n",
       "        1026.67693954,  1074.78018384,  1069.51733395,  1606.10108231,\n",
       "        1606.10058067,   996.20172907,   864.61104685,   908.80376761,\n",
       "        1501.88189415,  1320.92704409,  1213.96232754,  1085.86383502,\n",
       "        1083.59560883,  1192.49226754,  1085.52172876,  1346.58304887,\n",
       "        1346.56350844,   846.59450994,   853.69576227,   715.35018172,\n",
       "         824.80641057,   717.8412284 ,   891.18464151,   787.25753324,\n",
       "         544.88957162,  1111.92858853,   500.45467589,   500.45383062,\n",
       "         878.92328183,   740.60853324,   740.57765671,   740.5805569 ,\n",
       "         740.58336369,   740.61608696,   740.59116879,   816.39024368,\n",
       "         816.39098882,   816.39082116,  1352.98467729,  1352.99467931,\n",
       "        1352.97415857,   382.0659103 ,  1786.00190696,  1640.17601322,\n",
       "        1349.9664342 ,  1350.186961  ,  1352.33445706,  1350.33117395,\n",
       "        1425.78175866,  1425.78085397,  1962.36803924,  1352.46291848,\n",
       "        1449.00510348,   943.11909797,   943.12567927,   943.12515243,\n",
       "         653.00029264,   655.49411325,   655.51149958,  1204.67594534,\n",
       "         456.95171537,   456.95152543,   456.95224154])"
      ]
     },
     "execution_count": 50,
     "metadata": {},
     "output_type": "execute_result"
    }
   ],
   "source": [
    "predictedValues"
   ]
  },
  {
   "cell_type": "code",
   "execution_count": 51,
   "metadata": {
    "collapsed": false
   },
   "outputs": [],
   "source": [
    "#df_predict['Predict'] = predictedValues\n",
    "df_predict = df_predict.assign(Predict=predictedValues)"
   ]
  },
  {
   "cell_type": "code",
   "execution_count": 52,
   "metadata": {
    "collapsed": false
   },
   "outputs": [
    {
     "data": {
      "text/html": [
       "<div>\n",
       "<table border=\"1\" class=\"dataframe\">\n",
       "  <thead>\n",
       "    <tr style=\"text-align: right;\">\n",
       "      <th></th>\n",
       "      <th>Start</th>\n",
       "      <th>End</th>\n",
       "      <th>Country</th>\n",
       "      <th>Location</th>\n",
       "      <th>Type</th>\n",
       "      <th>Sub_Type</th>\n",
       "      <th>Names</th>\n",
       "      <th>Killed</th>\n",
       "      <th>Affected</th>\n",
       "      <th>Cost</th>\n",
       "      <th>International support</th>\n",
       "      <th>ID</th>\n",
       "      <th>Predict</th>\n",
       "    </tr>\n",
       "  </thead>\n",
       "  <tbody>\n",
       "    <tr>\n",
       "      <th>44</th>\n",
       "      <td>92000</td>\n",
       "      <td>92000</td>\n",
       "      <td>Afghanistan</td>\n",
       "      <td>Yakawlang</td>\n",
       "      <td>Epidemic</td>\n",
       "      <td>NaN</td>\n",
       "      <td>Unknown</td>\n",
       "      <td>15.0</td>\n",
       "      <td>613.0</td>\n",
       "      <td>NaN</td>\n",
       "      <td>0.0</td>\n",
       "      <td>2000-0623</td>\n",
       "      <td>852.571299</td>\n",
       "    </tr>\n",
       "    <tr>\n",
       "      <th>62</th>\n",
       "      <td>5052007</td>\n",
       "      <td>7052007</td>\n",
       "      <td>Afghanistan</td>\n",
       "      <td>Samangaran:Baghlan:Takh ...</td>\n",
       "      <td>Flood</td>\n",
       "      <td>General flood</td>\n",
       "      <td>NaN</td>\n",
       "      <td>10.0</td>\n",
       "      <td>645.0</td>\n",
       "      <td>NaN</td>\n",
       "      <td>0.0</td>\n",
       "      <td>2007-0185</td>\n",
       "      <td>562.450725</td>\n",
       "    </tr>\n",
       "    <tr>\n",
       "      <th>79</th>\n",
       "      <td>5032005</td>\n",
       "      <td>25032005</td>\n",
       "      <td>Afghanistan</td>\n",
       "      <td>Chakhansur:Chahar Burjak ...</td>\n",
       "      <td>Flood</td>\n",
       "      <td>General flood</td>\n",
       "      <td>NaN</td>\n",
       "      <td>200.0</td>\n",
       "      <td>11003.0</td>\n",
       "      <td>NaN</td>\n",
       "      <td>0.0</td>\n",
       "      <td>2005-0169</td>\n",
       "      <td>562.522793</td>\n",
       "    </tr>\n",
       "    <tr>\n",
       "      <th>130</th>\n",
       "      <td>2052005</td>\n",
       "      <td>2052005</td>\n",
       "      <td>Afghanistan</td>\n",
       "      <td>Bachgah (Baghlan province ...</td>\n",
       "      <td>Miscellaneous accident</td>\n",
       "      <td>Explosion</td>\n",
       "      <td>Amunitions depot</td>\n",
       "      <td>29.0</td>\n",
       "      <td>70.0</td>\n",
       "      <td>NaN</td>\n",
       "      <td>0.0</td>\n",
       "      <td>2005-0234</td>\n",
       "      <td>671.909479</td>\n",
       "    </tr>\n",
       "    <tr>\n",
       "      <th>168</th>\n",
       "      <td>30111967</td>\n",
       "      <td>30111967</td>\n",
       "      <td>Albania</td>\n",
       "      <td>Shupenze (Albania-Yugo Bo ...</td>\n",
       "      <td>Earthquake (seismic activity)</td>\n",
       "      <td>Earthquake (ground shaking)</td>\n",
       "      <td>NaN</td>\n",
       "      <td>11.0</td>\n",
       "      <td>134.0</td>\n",
       "      <td>NaN</td>\n",
       "      <td>0.0</td>\n",
       "      <td>1967-0075</td>\n",
       "      <td>1131.382657</td>\n",
       "    </tr>\n",
       "  </tbody>\n",
       "</table>\n",
       "</div>"
      ],
      "text/plain": [
       "        Start       End      Country                       Location  \\\n",
       "44      92000     92000  Afghanistan                      Yakawlang   \n",
       "62    5052007   7052007  Afghanistan    Samangaran:Baghlan:Takh ...   \n",
       "79    5032005  25032005  Afghanistan   Chakhansur:Chahar Burjak ...   \n",
       "130   2052005   2052005  Afghanistan  Bachgah (Baghlan province ...   \n",
       "168  30111967  30111967      Albania  Shupenze (Albania-Yugo Bo ...   \n",
       "\n",
       "                              Type                     Sub_Type  \\\n",
       "44                        Epidemic                          NaN   \n",
       "62                           Flood                General flood   \n",
       "79                           Flood                General flood   \n",
       "130         Miscellaneous accident                    Explosion   \n",
       "168  Earthquake (seismic activity)  Earthquake (ground shaking)   \n",
       "\n",
       "                Names  Killed  Affected  Cost  International support  \\\n",
       "44            Unknown    15.0     613.0   NaN                    0.0   \n",
       "62                NaN    10.0     645.0   NaN                    0.0   \n",
       "79                NaN   200.0   11003.0   NaN                    0.0   \n",
       "130  Amunitions depot    29.0      70.0   NaN                    0.0   \n",
       "168               NaN    11.0     134.0   NaN                    0.0   \n",
       "\n",
       "            ID      Predict  \n",
       "44   2000-0623   852.571299  \n",
       "62   2007-0185   562.450725  \n",
       "79   2005-0169   562.522793  \n",
       "130  2005-0234   671.909479  \n",
       "168  1967-0075  1131.382657  "
      ]
     },
     "execution_count": 52,
     "metadata": {},
     "output_type": "execute_result"
    }
   ],
   "source": [
    "df_predict.head()"
   ]
  },
  {
   "cell_type": "code",
   "execution_count": 53,
   "metadata": {
    "collapsed": false
   },
   "outputs": [],
   "source": [
    "df = df.merge(df_predict,how='left', left_on=['Start', 'End','Country','Location','Type','Sub_Type','Names','Killed','Affected','Cost','International support','ID'], right_on=['Start', 'End','Country','Location','Type','Sub_Type','Names','Killed','Affected','Cost','International support','ID'])"
   ]
  },
  {
   "cell_type": "code",
   "execution_count": 31,
   "metadata": {
    "collapsed": false
   },
   "outputs": [],
   "source": []
  },
  {
   "cell_type": "code",
   "execution_count": 54,
   "metadata": {
    "collapsed": false
   },
   "outputs": [],
   "source": [
    "df.Predict = df.Predict.astype(float)\n",
    "df['Predict'].fillna(('0.0'), inplace=True)\n",
    "df['International support'].fillna(('0.0'), inplace=True)\n",
    "df['International support'] = df['International support'].astype(float)\n",
    "df['International support'] = df['International support'].replace(0, df['Predict'])\n",
    "df.drop(['Predict'], axis = 1, inplace=True)"
   ]
  },
  {
   "cell_type": "code",
   "execution_count": 55,
   "metadata": {
    "collapsed": true
   },
   "outputs": [],
   "source": [
    "df.to_csv('27347885_data_cleaned.csv')"
   ]
  },
  {
   "cell_type": "code",
   "execution_count": null,
   "metadata": {
    "collapsed": true
   },
   "outputs": [],
   "source": []
  }
 ],
 "metadata": {
  "kernelspec": {
   "display_name": "Python 2",
   "language": "python",
   "name": "python2"
  },
  "language_info": {
   "codemirror_mode": {
    "name": "ipython",
    "version": 2
   },
   "file_extension": ".py",
   "mimetype": "text/x-python",
   "name": "python",
   "nbconvert_exporter": "python",
   "pygments_lexer": "ipython2",
   "version": "2.7.11"
  }
 },
 "nbformat": 4,
 "nbformat_minor": 0
}
