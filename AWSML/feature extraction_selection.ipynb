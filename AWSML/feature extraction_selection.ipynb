{
 "cells": [
  {
   "cell_type": "code",
   "execution_count": null,
   "id": "222ea059-6d46-4741-be90-d7060f1565e5",
   "metadata": {},
   "outputs": [],
   "source": [
    "import numpy as np\n",
    "import pandas as pd\n",
    "data = np.array([[0,2,0,0],[0,1,4,0],[0,1,1,0]])\n",
    "data_raw  = pd.DataFrame({'Column1': data[:,0], 'Column2': data[:,1], 'Column3': data[:,2], 'Column4': data[:,3]})\n",
    "data_raw\n"
   ]
  },
  {
   "cell_type": "code",
   "execution_count": null,
   "id": "ec47c8d9-18db-401b-8447-8648eadc304e",
   "metadata": {},
   "outputs": [],
   "source": [
    "from sklearn.feature_selection import VarianceThreshold\n",
    "from sklearn import preprocessing\n",
    "normalized_data = preprocessing.normalize(data)\n"
   ]
  }
 ],
 "metadata": {
  "kernelspec": {
   "display_name": "Python 3 (ipykernel)",
   "language": "python",
   "name": "python3"
  },
  "language_info": {
   "codemirror_mode": {
    "name": "ipython",
    "version": 3
   },
   "file_extension": ".py",
   "mimetype": "text/x-python",
   "name": "python",
   "nbconvert_exporter": "python",
   "pygments_lexer": "ipython3",
   "version": "3.12.2"
  }
 },
 "nbformat": 4,
 "nbformat_minor": 5
}
